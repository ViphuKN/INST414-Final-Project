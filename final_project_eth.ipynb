{
 "cells": [
  {
   "cell_type": "markdown",
   "metadata": {},
   "source": [
    "# Final Project on Supervised Learning"
   ]
  },
  {
   "cell_type": "markdown",
   "metadata": {},
   "source": [
    "### LAN and WAN Response Analysis \n",
    "- Description: The source of our data comes from the variablity of a LAN network when it is connecting to the Internet. The data is collected by the ping response time from the devices of the local internet router and to the first-hop server on the internet.\n",
    "- Group Members: Eric Topmiller, Viphu Nguyen, David Gigremosa, Paul Rozario"
   ]
  },
  {
   "cell_type": "markdown",
   "metadata": {},
   "source": [
    "Question to Answer: What is the worst time of day for ping response with ethernet and wireless for both LAN and WAN?"
   ]
  },
  {
   "cell_type": "code",
   "execution_count": 128,
   "metadata": {},
   "outputs": [],
   "source": [
    "\n",
    "# Import libraries\n",
    "\n",
    "import numpy as np\n",
    "import pandas as pd \n",
    "import matplotlib.pyplot as plt \n",
    "import seaborn as sns \n",
    "from datetime import datetime\n",
    "from sklearn import tree\n",
    "from sklearn.tree import DecisionTreeClassifier\n",
    "from sklearn.model_selection import train_test_split\n",
    "from sklearn.metrics import accuracy_score"
   ]
  },
  {
   "cell_type": "code",
   "execution_count": 129,
   "metadata": {},
   "outputs": [
    {
     "data": {
      "text/html": [
       "<div>\n",
       "<style scoped>\n",
       "    .dataframe tbody tr th:only-of-type {\n",
       "        vertical-align: middle;\n",
       "    }\n",
       "\n",
       "    .dataframe tbody tr th {\n",
       "        vertical-align: top;\n",
       "    }\n",
       "\n",
       "    .dataframe thead th {\n",
       "        text-align: right;\n",
       "    }\n",
       "</style>\n",
       "<table border=\"1\" class=\"dataframe\">\n",
       "  <thead>\n",
       "    <tr style=\"text-align: right;\">\n",
       "      <th></th>\n",
       "      <th>timestamp</th>\n",
       "      <th>location</th>\n",
       "      <th>source</th>\n",
       "      <th>local_dest</th>\n",
       "      <th>local_avg</th>\n",
       "      <th>remote_dest</th>\n",
       "      <th>remote_avg</th>\n",
       "    </tr>\n",
       "  </thead>\n",
       "  <tbody>\n",
       "    <tr>\n",
       "      <th>0</th>\n",
       "      <td>1.559041e+09</td>\n",
       "      <td>lower-level</td>\n",
       "      <td>ethernet</td>\n",
       "      <td>192.168.0.1</td>\n",
       "      <td>0.19</td>\n",
       "      <td>142.254.217.53</td>\n",
       "      <td>8.14</td>\n",
       "    </tr>\n",
       "    <tr>\n",
       "      <th>1</th>\n",
       "      <td>1.559041e+09</td>\n",
       "      <td>lower-level</td>\n",
       "      <td>ethernet</td>\n",
       "      <td>192.168.0.1</td>\n",
       "      <td>0.15</td>\n",
       "      <td>142.254.217.53</td>\n",
       "      <td>7.75</td>\n",
       "    </tr>\n",
       "    <tr>\n",
       "      <th>2</th>\n",
       "      <td>1.559041e+09</td>\n",
       "      <td>lower-level</td>\n",
       "      <td>ethernet</td>\n",
       "      <td>192.168.0.1</td>\n",
       "      <td>0.15</td>\n",
       "      <td>142.254.217.53</td>\n",
       "      <td>8.68</td>\n",
       "    </tr>\n",
       "    <tr>\n",
       "      <th>3</th>\n",
       "      <td>1.559041e+09</td>\n",
       "      <td>lower-level</td>\n",
       "      <td>ethernet</td>\n",
       "      <td>192.168.0.1</td>\n",
       "      <td>0.15</td>\n",
       "      <td>142.254.217.53</td>\n",
       "      <td>8.08</td>\n",
       "    </tr>\n",
       "    <tr>\n",
       "      <th>4</th>\n",
       "      <td>1.559041e+09</td>\n",
       "      <td>lower-level</td>\n",
       "      <td>ethernet</td>\n",
       "      <td>192.168.0.1</td>\n",
       "      <td>0.15</td>\n",
       "      <td>142.254.217.53</td>\n",
       "      <td>8.20</td>\n",
       "    </tr>\n",
       "  </tbody>\n",
       "</table>\n",
       "</div>"
      ],
      "text/plain": [
       "      timestamp     location    source   local_dest  local_avg  \\\n",
       "0  1.559041e+09  lower-level  ethernet  192.168.0.1       0.19   \n",
       "1  1.559041e+09  lower-level  ethernet  192.168.0.1       0.15   \n",
       "2  1.559041e+09  lower-level  ethernet  192.168.0.1       0.15   \n",
       "3  1.559041e+09  lower-level  ethernet  192.168.0.1       0.15   \n",
       "4  1.559041e+09  lower-level  ethernet  192.168.0.1       0.15   \n",
       "\n",
       "      remote_dest  remote_avg  \n",
       "0  142.254.217.53        8.14  \n",
       "1  142.254.217.53        7.75  \n",
       "2  142.254.217.53        8.68  \n",
       "3  142.254.217.53        8.08  \n",
       "4  142.254.217.53        8.20  "
      ]
     },
     "execution_count": 129,
     "metadata": {},
     "output_type": "execute_result"
    }
   ],
   "source": [
    "# Set the dataset from the network csv\n",
    "df = pd.read_csv('ping_data_rp829c7e0e_eth.csv')\n",
    "df.head()"
   ]
  },
  {
   "cell_type": "markdown",
   "metadata": {},
   "source": [
    "### Data Wrangling and Filtering the Data\n",
    "- Done by Viphu Nguyen and Eric Topmiller"
   ]
  },
  {
   "cell_type": "code",
   "execution_count": 130,
   "metadata": {},
   "outputs": [
    {
     "data": {
      "text/plain": [
       "timestamp      0\n",
       "location       0\n",
       "source         0\n",
       "local_dest     0\n",
       "local_avg      0\n",
       "remote_dest    0\n",
       "remote_avg     0\n",
       "dtype: int64"
      ]
     },
     "execution_count": 130,
     "metadata": {},
     "output_type": "execute_result"
    }
   ],
   "source": [
    "# Finding the missing values from the ping dataset\n",
    "df.isna().sum()"
   ]
  },
  {
   "cell_type": "code",
   "execution_count": 131,
   "metadata": {},
   "outputs": [],
   "source": [
    "# Duplicate the dataframe in case of crashes\n",
    "df1 = df.copy()"
   ]
  },
  {
   "cell_type": "code",
   "execution_count": 132,
   "metadata": {},
   "outputs": [
    {
     "data": {
      "text/html": [
       "<div>\n",
       "<style scoped>\n",
       "    .dataframe tbody tr th:only-of-type {\n",
       "        vertical-align: middle;\n",
       "    }\n",
       "\n",
       "    .dataframe tbody tr th {\n",
       "        vertical-align: top;\n",
       "    }\n",
       "\n",
       "    .dataframe thead th {\n",
       "        text-align: right;\n",
       "    }\n",
       "</style>\n",
       "<table border=\"1\" class=\"dataframe\">\n",
       "  <thead>\n",
       "    <tr style=\"text-align: right;\">\n",
       "      <th></th>\n",
       "      <th>timestamp</th>\n",
       "      <th>source</th>\n",
       "      <th>local_avg</th>\n",
       "      <th>remote_avg</th>\n",
       "    </tr>\n",
       "  </thead>\n",
       "  <tbody>\n",
       "    <tr>\n",
       "      <th>0</th>\n",
       "      <td>1.559041e+09</td>\n",
       "      <td>ethernet</td>\n",
       "      <td>0.19</td>\n",
       "      <td>8.14</td>\n",
       "    </tr>\n",
       "    <tr>\n",
       "      <th>1</th>\n",
       "      <td>1.559041e+09</td>\n",
       "      <td>ethernet</td>\n",
       "      <td>0.15</td>\n",
       "      <td>7.75</td>\n",
       "    </tr>\n",
       "    <tr>\n",
       "      <th>2</th>\n",
       "      <td>1.559041e+09</td>\n",
       "      <td>ethernet</td>\n",
       "      <td>0.15</td>\n",
       "      <td>8.68</td>\n",
       "    </tr>\n",
       "    <tr>\n",
       "      <th>3</th>\n",
       "      <td>1.559041e+09</td>\n",
       "      <td>ethernet</td>\n",
       "      <td>0.15</td>\n",
       "      <td>8.08</td>\n",
       "    </tr>\n",
       "    <tr>\n",
       "      <th>4</th>\n",
       "      <td>1.559041e+09</td>\n",
       "      <td>ethernet</td>\n",
       "      <td>0.15</td>\n",
       "      <td>8.20</td>\n",
       "    </tr>\n",
       "    <tr>\n",
       "      <th>...</th>\n",
       "      <td>...</td>\n",
       "      <td>...</td>\n",
       "      <td>...</td>\n",
       "      <td>...</td>\n",
       "    </tr>\n",
       "    <tr>\n",
       "      <th>69740</th>\n",
       "      <td>1.559691e+09</td>\n",
       "      <td>ethernet</td>\n",
       "      <td>0.15</td>\n",
       "      <td>8.70</td>\n",
       "    </tr>\n",
       "    <tr>\n",
       "      <th>69741</th>\n",
       "      <td>1.559691e+09</td>\n",
       "      <td>ethernet</td>\n",
       "      <td>0.15</td>\n",
       "      <td>8.43</td>\n",
       "    </tr>\n",
       "    <tr>\n",
       "      <th>69742</th>\n",
       "      <td>1.559691e+09</td>\n",
       "      <td>ethernet</td>\n",
       "      <td>0.15</td>\n",
       "      <td>8.71</td>\n",
       "    </tr>\n",
       "    <tr>\n",
       "      <th>69743</th>\n",
       "      <td>1.559691e+09</td>\n",
       "      <td>ethernet</td>\n",
       "      <td>0.15</td>\n",
       "      <td>8.42</td>\n",
       "    </tr>\n",
       "    <tr>\n",
       "      <th>69744</th>\n",
       "      <td>1.559691e+09</td>\n",
       "      <td>ethernet</td>\n",
       "      <td>0.15</td>\n",
       "      <td>9.12</td>\n",
       "    </tr>\n",
       "  </tbody>\n",
       "</table>\n",
       "<p>69745 rows × 4 columns</p>\n",
       "</div>"
      ],
      "text/plain": [
       "          timestamp    source  local_avg  remote_avg\n",
       "0      1.559041e+09  ethernet       0.19        8.14\n",
       "1      1.559041e+09  ethernet       0.15        7.75\n",
       "2      1.559041e+09  ethernet       0.15        8.68\n",
       "3      1.559041e+09  ethernet       0.15        8.08\n",
       "4      1.559041e+09  ethernet       0.15        8.20\n",
       "...             ...       ...        ...         ...\n",
       "69740  1.559691e+09  ethernet       0.15        8.70\n",
       "69741  1.559691e+09  ethernet       0.15        8.43\n",
       "69742  1.559691e+09  ethernet       0.15        8.71\n",
       "69743  1.559691e+09  ethernet       0.15        8.42\n",
       "69744  1.559691e+09  ethernet       0.15        9.12\n",
       "\n",
       "[69745 rows x 4 columns]"
      ]
     },
     "execution_count": 132,
     "metadata": {},
     "output_type": "execute_result"
    }
   ],
   "source": [
    "# Removing unncessary columns from the ping dataset\n",
    "df1 = df1.drop(['location', 'local_dest', 'remote_dest'], axis = 1)\n",
    "df1"
   ]
  },
  {
   "cell_type": "markdown",
   "metadata": {},
   "source": [
    "#### *Each header definition*\n",
    "- Timestamp: The current time of an event that is recorded\n",
    "- Source: Network Source\n",
    "- Local_avg: Response Time for local network (ms)\n",
    "- Remote_avg: Response time for remote network (ms)"
   ]
  },
  {
   "cell_type": "code",
   "execution_count": 133,
   "metadata": {},
   "outputs": [
    {
     "name": "stdout",
     "output_type": "stream",
     "text": [
      "      timestamp    source  local_avg  remote_avg  hour\n",
      "0  1.559041e+09  ethernet       0.19        8.14     3\n",
      "1  1.559041e+09  ethernet       0.15        7.75     3\n",
      "2  1.559041e+09  ethernet       0.15        8.68     3\n",
      "3  1.559041e+09  ethernet       0.15        8.08     3\n",
      "4  1.559041e+09  ethernet       0.15        8.20     3\n",
      "<class 'pandas.core.frame.DataFrame'>\n",
      "RangeIndex: 69745 entries, 0 to 69744\n",
      "Data columns (total 5 columns):\n",
      " #   Column      Non-Null Count  Dtype  \n",
      "---  ------      --------------  -----  \n",
      " 0   timestamp   69745 non-null  float64\n",
      " 1   source      69745 non-null  object \n",
      " 2   local_avg   69745 non-null  float64\n",
      " 3   remote_avg  69745 non-null  float64\n",
      " 4   hour        69745 non-null  int32  \n",
      "dtypes: float64(3), int32(1), object(1)\n",
      "memory usage: 2.4+ MB\n",
      "None\n"
     ]
    }
   ],
   "source": [
    "# create a column that is the start of the range of hours of the day, show the head, show it has all 24 hours of the day\n",
    "df1['hour'] = 4 * df['timestamp'].astype(int) % 86400 / (3600 * 4)\n",
    "df1['hour'] = df1['hour'].astype(int)\n",
    "print(df1.head())\n",
    "df1['hour'].unique()\n",
    "print(df1.info())"
   ]
  },
  {
   "cell_type": "code",
   "execution_count": 134,
   "metadata": {},
   "outputs": [
    {
     "name": "stdout",
     "output_type": "stream",
     "text": [
      "count    69745.000000\n",
      "mean       782.506427\n",
      "std       2685.044084\n",
      "min          0.140000\n",
      "25%          0.150000\n",
      "50%          0.150000\n",
      "75%          0.150000\n",
      "max       9999.999900\n",
      "Name: local_avg, dtype: float64\n"
     ]
    }
   ],
   "source": [
    "# find the quartiles of the time data so we can create local average categorical variable\n",
    "print(df1['local_avg'].describe())\n"
   ]
  },
  {
   "cell_type": "code",
   "execution_count": 135,
   "metadata": {},
   "outputs": [
    {
     "name": "stdout",
     "output_type": "stream",
     "text": [
      "['Large', 'Medium', 'Small']\n",
      "Categories (3, object): ['Small' < 'Medium' < 'Large']\n"
     ]
    }
   ],
   "source": [
    "# create the categorical variable local_delay for the local delay of low, average, high\n",
    "# we will leave in the 9999.9999 since they probably represent failures and should be placed the high\n",
    "bins = [float('-inf'), 0.14, 0.16, float('inf')]\n",
    "labels = ['Small', 'Medium', 'Large']\n",
    "df1['local_delay'] = pd.cut(df1['local_avg'], bins=bins, labels=labels)\n",
    "df1.head()\n",
    "print(df1['local_delay'].unique())\n"
   ]
  },
  {
   "cell_type": "code",
   "execution_count": 136,
   "metadata": {},
   "outputs": [
    {
     "name": "stdout",
     "output_type": "stream",
     "text": [
      "count    69745.000000\n",
      "mean       793.170246\n",
      "std       2682.048286\n",
      "min          4.020000\n",
      "25%          8.180000\n",
      "50%          8.620000\n",
      "75%          9.570000\n",
      "max       9999.999900\n",
      "Name: remote_avg, dtype: float64\n"
     ]
    }
   ],
   "source": [
    "# find the quartiles of the time data so we can create local average categorical variable\n",
    "print(df1['remote_avg'].describe())\n"
   ]
  },
  {
   "cell_type": "code",
   "execution_count": 137,
   "metadata": {},
   "outputs": [
    {
     "name": "stdout",
     "output_type": "stream",
     "text": [
      "['Large', 'Medium', 'Small']\n",
      "Categories (3, object): ['Small' < 'Medium' < 'Large']\n"
     ]
    }
   ],
   "source": [
    "# create the categorical variable local_delay for the remote delay of low, average, high\n",
    "# we will leave in the 9999.9999 since they probably represent failures and should be placed the high\n",
    "bins = [float('-inf'), 8.61, 8.63, float('inf')]\n",
    "labels = ['Small', 'Medium', 'Large']\n",
    "df1['remote_delay'] = pd.cut(df1['remote_avg'], bins=bins, labels=labels)\n",
    "df1.head()\n",
    "print(df1['local_delay'].unique())\n"
   ]
  },
  {
   "cell_type": "markdown",
   "metadata": {},
   "source": [
    "### Data Visualizations \n",
    "- Done by Viphu Nguyen"
   ]
  },
  {
   "cell_type": "code",
   "execution_count": 138,
   "metadata": {},
   "outputs": [
    {
     "data": {
      "text/plain": [
       "count    69745.000000\n",
       "mean       782.506427\n",
       "std       2685.044084\n",
       "min          0.140000\n",
       "25%          0.150000\n",
       "50%          0.150000\n",
       "75%          0.150000\n",
       "max       9999.999900\n",
       "Name: local_avg, dtype: float64"
      ]
     },
     "execution_count": 138,
     "metadata": {},
     "output_type": "execute_result"
    },
    {
     "data": {
      "image/png": "[encoded data removed]",
      "text/plain": [
       "<Figure size 432x288 with 1 Axes>"
      ]
     },
     "metadata": {
      "needs_background": "light"
     },
     "output_type": "display_data"
    }
   ],
   "source": [
    "# Histogram for 'local_avg' response time (local) column\n",
    "df1.hist(column='local_avg', bins=20, grid=False, rwidth=.9, color='purple')\n",
    "df1['local_avg'].describe()"
   ]
  },
  {
   "cell_type": "code",
   "execution_count": 139,
   "metadata": {},
   "outputs": [
    {
     "data": {
      "text/plain": [
       "count    69745.000000\n",
       "mean       793.170246\n",
       "std       2682.048286\n",
       "min          4.020000\n",
       "25%          8.180000\n",
       "50%          8.620000\n",
       "75%          9.570000\n",
       "max       9999.999900\n",
       "Name: remote_avg, dtype: float64"
      ]
     },
     "execution_count": 139,
     "metadata": {},
     "output_type": "execute_result"
    },
    {
     "data": {
      "image/png": "[encoded data removed]",
      "text/plain": [
       "<Figure size 432x288 with 1 Axes>"
      ]
     },
     "metadata": {
      "needs_background": "light"
     },
     "output_type": "display_data"
    }
   ],
   "source": [
    "# Histogram for 'remote_avg' response time (local) column\n",
    "df1.hist(column='remote_avg', bins=20, grid=False, rwidth=.9, color='purple')\n",
    "df1['remote_avg'].describe()"
   ]
  },
  {
   "cell_type": "markdown",
   "metadata": {},
   "source": [
    "Analysis: The histogram tells us that the the response time (ms) is estimated largely between 0 to 2,000 while there is a fewer amount at closer to 10,000 frequency for the response time between 8,000 to 10,000"
   ]
  },
  {
   "cell_type": "markdown",
   "metadata": {},
   "source": [
    "### Use scikit-learn for Logistic Regression and DecisionTree Classification, XGBoost, Keras, Pytorch to train, test and predict a categorical variable. Use appropriate metric and interpret themeaning of the score"
   ]
  },
  {
   "cell_type": "markdown",
   "metadata": {},
   "source": [
    "### Decision Tree\n",
    "- Done by Viphu Nguyen and Eric Topmiller"
   ]
  },
  {
   "cell_type": "code",
   "execution_count": 140,
   "metadata": {},
   "outputs": [],
   "source": [
    "# Duplicate the dataframe in case of crashes\n",
    "df2 = df1.copy()"
   ]
  },
  {
   "cell_type": "code",
   "execution_count": 141,
   "metadata": {},
   "outputs": [
    {
     "name": "stdout",
     "output_type": "stream",
     "text": [
      "[2 1 0]\n",
      "[0 2 1]\n",
      "       local_delay_int  remote_delay_int\n",
      "0                    2                 0\n",
      "1                    1                 0\n",
      "2                    1                 2\n",
      "3                    1                 0\n",
      "4                    1                 0\n",
      "...                ...               ...\n",
      "69740                1                 2\n",
      "69741                1                 0\n",
      "69742                1                 2\n",
      "69743                1                 0\n",
      "69744                1                 2\n",
      "\n",
      "[69745 rows x 2 columns]\n",
      "0        3\n",
      "1        3\n",
      "2        3\n",
      "3        3\n",
      "4        3\n",
      "        ..\n",
      "69740    3\n",
      "69741    3\n",
      "69742    3\n",
      "69743    3\n",
      "69744    3\n",
      "Name: hour, Length: 69745, dtype: int32\n"
     ]
    }
   ],
   "source": [
    "# map the local_delay and remote_delay to integers since that is what is needed by the classifier\n",
    "df2['local_delay_int'] = df2['local_delay'].map({'Small':0, 'Medium':1, 'Large':2}).astype(int)\n",
    "df2['remote_delay_int'] = df2['remote_delay'].map({'Small':0, 'Medium':1, 'Large':2}).astype(int)\n",
    "print(df2['local_delay_int'].unique())\n",
    "print(df2['remote_delay_int'].unique())\n",
    "X = df2.drop(['timestamp', 'source', 'local_avg', 'remote_avg', 'local_delay', 'remote_delay', 'hour'], axis = 1)\n",
    "y = df2['hour']\n",
    "print(X)\n",
    "print(y)"
   ]
  },
  {
   "cell_type": "code",
   "execution_count": 142,
   "metadata": {},
   "outputs": [
    {
     "name": "stdout",
     "output_type": "stream",
     "text": [
      "       local_delay_int  remote_delay_int\n",
      "33973                1                 2\n",
      "68346                1                 2\n",
      "18644                1                 2\n",
      "11347                1                 0\n",
      "59206                1                 0\n",
      "...                ...               ...\n",
      "57042                1                 2\n",
      "36008                1                 0\n",
      "46265                1                 0\n",
      "23587                1                 2\n",
      "29313                1                 2\n",
      "\n",
      "[55796 rows x 2 columns] 33973    0\n",
      "68346    0\n",
      "18644    5\n",
      "11347    5\n",
      "59206    4\n",
      "        ..\n",
      "57042    4\n",
      "36008    0\n",
      "46265    4\n",
      "23587    1\n",
      "29313    5\n",
      "Name: hour, Length: 55796, dtype: int32\n"
     ]
    }
   ],
   "source": [
    "X_train, X_test, y_train, y_test= train_test_split(X, y,test_size=0.2,random_state=99)\n",
    "print(X_train, y_train)\n",
    "\n",
    "clf = DecisionTreeClassifier(criterion='entropy', random_state=99)"
   ]
  },
  {
   "cell_type": "code",
   "execution_count": 143,
   "metadata": {},
   "outputs": [
    {
     "data": {
      "text/plain": [
       "0.186034841207255"
      ]
     },
     "execution_count": 143,
     "metadata": {},
     "output_type": "execute_result"
    }
   ],
   "source": [
    "clf.fit(X_train,y_train)\n",
    "y_pred= clf.predict(X_test)\n",
    "accuracy_score(y_test, y_pred)"
   ]
  },
  {
   "cell_type": "markdown",
   "metadata": {},
   "source": [
    "##### Plot a Decision Tree"
   ]
  },
  {
   "cell_type": "code",
   "execution_count": 145,
   "metadata": {},
   "outputs": [
    {
     "data": {
      "image/png": "[encoded data removed]",
      "text/plain": [
       "<Figure size 864x864 with 1 Axes>"
      ]
     },
     "metadata": {
      "needs_background": "light"
     },
     "output_type": "display_data"
    }
   ],
   "source": [
    "fig, ax = plt.subplots(figsize=(12, 12))\n",
    "tree.plot_tree(decision_tree=clf, max_depth= 2,fontsize=12);"
   ]
  },
  {
   "cell_type": "markdown",
   "metadata": {},
   "source": [
    "###  Show feature importance in XGBoost by using xgb.plot.importance"
   ]
  },
  {
   "cell_type": "code",
   "execution_count": 127,
   "metadata": {},
   "outputs": [
    {
     "name": "stdout",
     "output_type": "stream",
     "text": [
      "Collecting xgboost\n",
      "  Downloading xgboost-1.6.0-py3-none-win_amd64.whl (126.1 MB)\n",
      "Requirement already satisfied: numpy in c:\\programdata\\anaconda3\\lib\\site-packages (from xgboost) (1.19.2)\n",
      "Requirement already satisfied: scipy in c:\\programdata\\anaconda3\\lib\\site-packages (from xgboost) (1.5.2)\n",
      "Installing collected packages: xgboost\n",
      "Successfully installed xgboost-1.6.0\n",
      "accuracy: 0.084164\n"
     ]
    }
   ],
   "source": [
    "!pip install xgboost\n",
    "import xgboost as xgb\n",
    "xg_cl = xgb.XGBClassifier(objective='binary:logistic', max_depth=10, n_estimators=20, seed=99) \n",
    "xg_cl.fit(X_train, y_train)\n",
    "preds = xg_cl.predict(X_test)\n",
    "accuracy = float(np.sum(preds==y_test))/y_test.shape[0]\n",
    "print(\"accuracy: %f\" % (accuracy))"
   ]
  },
  {
   "cell_type": "markdown",
   "metadata": {},
   "source": [
    "## Keras"
   ]
  },
  {
   "cell_type": "code",
   "execution_count": null,
   "metadata": {},
   "outputs": [],
   "source": [
    "from tensorflow.keras import layers, losses\n",
    "from tensorflow.keras.datasets import fashion_mnist\n",
    "from tensorflow.keras.models import Model"
   ]
  },
  {
   "cell_type": "code",
   "execution_count": null,
   "metadata": {},
   "outputs": [],
   "source": []
  },
  {
   "cell_type": "markdown",
   "metadata": {},
   "source": [
    "### Compare the results of the algorithms (comparison, conclusion, challenges...etc.)"
   ]
  },
  {
   "cell_type": "markdown",
   "metadata": {},
   "source": [
    "### Outcome of our analysis"
   ]
  }
 ],
 "metadata": {
  "interpreter": {
   "hash": "8de1bb01c2428b23fd1b239bce59c3de0408e0bcefc62ecc36a17fc4e3b0c588"
  },
  "kernelspec": {
   "display_name": "Python 3",
   "language": "python",
   "name": "python3"
  },
  "language_info": {
   "codemirror_mode": {
    "name": "ipython",
    "version": 3
   },
   "file_extension": ".py",
   "mimetype": "text/x-python",
   "name": "python",
   "nbconvert_exporter": "python",
   "pygments_lexer": "ipython3",
   "version": "3.8.5"
  }
 },
 "nbformat": 4,
 "nbformat_minor": 2
}
