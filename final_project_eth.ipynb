{
 "cells": [
  {
   "cell_type": "markdown",
   "metadata": {},
   "source": [
    "# Final Project on Supervised Learning"
   ]
  },
  {
   "cell_type": "markdown",
   "metadata": {},
   "source": [
    "### LAN and WAN Response Analysis \n",
    "- Description: The source of our data comes from the variablity of a LAN network when it is connecting to the Internet. The data is collected by the ping response time from the devices of the local internet router and to the first-hop server on the internet.\n",
    "- Group Members: Eric Topmiller, Viphu Nguyen, David Gigremosa, Paul Rozario"
   ]
  },
  {
   "cell_type": "markdown",
   "metadata": {},
   "source": [
    "Question to Answer: What is the worst time of day for ping response with ethernet and wireless for both LAN and WAN?"
   ]
  },
  {
   "cell_type": "code",
   "execution_count": 2,
   "metadata": {},
   "outputs": [
    {
     "name": "stdout",
     "output_type": "stream",
     "text": [
      "Collecting numpy\n",
      "  Using cached numpy-1.22.3-cp39-cp39-win_amd64.whl (14.7 MB)\n",
      "Installing collected packages: numpy\n"
     ]
    },
    {
     "name": "stderr",
     "output_type": "stream",
     "text": [
      "WARNING: Ignoring invalid distribution -umpy (d:\\wpsystem\\s-1-5-21-1271725911-1377715172-2092081456-1001\\appdata\\local\\packages\\pythonsoftwarefoundation.python.3.9_qbz5n2kfra8p0\\localcache\\local-packages\\python39\\site-packages)\n",
      "WARNING: Ignoring invalid distribution -umpy (d:\\wpsystem\\s-1-5-21-1271725911-1377715172-2092081456-1001\\appdata\\local\\packages\\pythonsoftwarefoundation.python.3.9_qbz5n2kfra8p0\\localcache\\local-packages\\python39\\site-packages)\n",
      "WARNING: Ignoring invalid distribution -umpy (d:\\wpsystem\\s-1-5-21-1271725911-1377715172-2092081456-1001\\appdata\\local\\packages\\pythonsoftwarefoundation.python.3.9_qbz5n2kfra8p0\\localcache\\local-packages\\python39\\site-packages)\n",
      "ERROR: Could not install packages due to an OSError: [WinError 5] Access is denied: 'C:\\\\Users\\\\VIphu N\\\\AppData\\\\Local\\\\Packages\\\\PythonSoftwareFoundation.Python.3.9_qbz5n2kfra8p0\\\\LocalCache\\\\local-packages\\\\Python39\\\\site-packages\\\\numpy\\\\.libs\\\\libopenblas.EL2C6PLE4ZYW3ECEVIV3OXXGRN2NRFM2.gfortran-win_amd64.dll'\n",
      "Check the permissions.\n",
      "\n",
      "WARNING: Ignoring invalid distribution -umpy (d:\\wpsystem\\s-1-5-21-1271725911-1377715172-2092081456-1001\\appdata\\local\\packages\\pythonsoftwarefoundation.python.3.9_qbz5n2kfra8p0\\localcache\\local-packages\\python39\\site-packages)\n",
      "WARNING: Ignoring invalid distribution -umpy (d:\\wpsystem\\s-1-5-21-1271725911-1377715172-2092081456-1001\\appdata\\local\\packages\\pythonsoftwarefoundation.python.3.9_qbz5n2kfra8p0\\localcache\\local-packages\\python39\\site-packages)\n"
     ]
    }
   ],
   "source": [
    "!pip install numpy"
   ]
  },
  {
   "cell_type": "code",
   "execution_count": 1,
   "metadata": {},
   "outputs": [],
   "source": [
    "\n",
    "# Import libraries\n",
    "\n",
    "import numpy as np\n",
    "import pandas as pd \n",
    "import matplotlib.pyplot as plt \n",
    "import seaborn as sns \n",
    "from datetime import datetime\n",
    "from sklearn.linear_model import LogisticRegression\n",
    "from sklearn import tree\n",
    "from sklearn.tree import DecisionTreeClassifier\n",
    "from sklearn.model_selection import train_test_split\n",
    "from sklearn.metrics import accuracy_score\n",
    "from sklearn.metrics import classification_report, confusion_matrix\n",
    "from sklearn.metrics import roc_auc_score, roc_curve, accuracy_score\n",
    "from sklearn.metrics import precision_score, recall_score\n",
    "from sklearn import preprocessing\n",
    "import matplotlib.pyplot as plt\n",
    "from matplotlib import style"
   ]
  },
  {
   "cell_type": "code",
   "execution_count": 2,
   "metadata": {},
   "outputs": [],
   "source": [
    "# Set the dataset from the network csv\n",
    "df = pd.read_csv('ping_data_rp829c7e0e_eth.csv')\n",
    "df.head()\n",
    "df.sort_values('timestamp', inplace=True)"
   ]
  },
  {
   "cell_type": "markdown",
   "metadata": {},
   "source": [
    "### Data Wrangling and Filtering the Data\n",
    "- Done by Viphu Nguyen and Eric Topmiller"
   ]
  },
  {
   "cell_type": "code",
   "execution_count": 3,
   "metadata": {},
   "outputs": [
    {
     "data": {
      "text/plain": [
       "timestamp      0\n",
       "location       0\n",
       "source         0\n",
       "local_dest     0\n",
       "local_avg      0\n",
       "remote_dest    0\n",
       "remote_avg     0\n",
       "dtype: int64"
      ]
     },
     "execution_count": 3,
     "metadata": {},
     "output_type": "execute_result"
    }
   ],
   "source": [
    "# Finding the missing values from the ping dataset\n",
    "df.isna().sum()"
   ]
  },
  {
   "cell_type": "code",
   "execution_count": 4,
   "metadata": {},
   "outputs": [],
   "source": [
    "# Duplicate the dataframe in case of crashes\n",
    "df1 = df.copy()"
   ]
  },
  {
   "cell_type": "code",
   "execution_count": 21,
   "metadata": {},
   "outputs": [
    {
     "data": {
      "text/html": [
       "<div>\n",
       "<style scoped>\n",
       "    .dataframe tbody tr th:only-of-type {\n",
       "        vertical-align: middle;\n",
       "    }\n",
       "\n",
       "    .dataframe tbody tr th {\n",
       "        vertical-align: top;\n",
       "    }\n",
       "\n",
       "    .dataframe thead th {\n",
       "        text-align: right;\n",
       "    }\n",
       "</style>\n",
       "<table border=\"1\" class=\"dataframe\">\n",
       "  <thead>\n",
       "    <tr style=\"text-align: right;\">\n",
       "      <th></th>\n",
       "      <th>index</th>\n",
       "      <th>timestamp</th>\n",
       "      <th>source</th>\n",
       "      <th>local_avg</th>\n",
       "      <th>remote_avg</th>\n",
       "      <th>hour</th>\n",
       "      <th>local_delay</th>\n",
       "      <th>remote_delay</th>\n",
       "      <th>ismean</th>\n",
       "      <th>big_remote_avg</th>\n",
       "    </tr>\n",
       "  </thead>\n",
       "  <tbody>\n",
       "    <tr>\n",
       "      <th>0</th>\n",
       "      <td>0</td>\n",
       "      <td>1.559041e+09</td>\n",
       "      <td>ethernet</td>\n",
       "      <td>0.19</td>\n",
       "      <td>8.14</td>\n",
       "      <td>10</td>\n",
       "      <td>Large</td>\n",
       "      <td>Small</td>\n",
       "      <td>0</td>\n",
       "      <td>0</td>\n",
       "    </tr>\n",
       "    <tr>\n",
       "      <th>1</th>\n",
       "      <td>1</td>\n",
       "      <td>1.559041e+09</td>\n",
       "      <td>ethernet</td>\n",
       "      <td>0.15</td>\n",
       "      <td>7.75</td>\n",
       "      <td>10</td>\n",
       "      <td>Medium</td>\n",
       "      <td>Small</td>\n",
       "      <td>1</td>\n",
       "      <td>0</td>\n",
       "    </tr>\n",
       "    <tr>\n",
       "      <th>2</th>\n",
       "      <td>2</td>\n",
       "      <td>1.559041e+09</td>\n",
       "      <td>ethernet</td>\n",
       "      <td>0.15</td>\n",
       "      <td>8.68</td>\n",
       "      <td>10</td>\n",
       "      <td>Medium</td>\n",
       "      <td>Medium</td>\n",
       "      <td>1</td>\n",
       "      <td>0</td>\n",
       "    </tr>\n",
       "    <tr>\n",
       "      <th>3</th>\n",
       "      <td>3</td>\n",
       "      <td>1.559041e+09</td>\n",
       "      <td>ethernet</td>\n",
       "      <td>0.15</td>\n",
       "      <td>8.08</td>\n",
       "      <td>10</td>\n",
       "      <td>Medium</td>\n",
       "      <td>Small</td>\n",
       "      <td>1</td>\n",
       "      <td>0</td>\n",
       "    </tr>\n",
       "    <tr>\n",
       "      <th>4</th>\n",
       "      <td>4</td>\n",
       "      <td>1.559041e+09</td>\n",
       "      <td>ethernet</td>\n",
       "      <td>0.15</td>\n",
       "      <td>8.20</td>\n",
       "      <td>10</td>\n",
       "      <td>Medium</td>\n",
       "      <td>Medium</td>\n",
       "      <td>1</td>\n",
       "      <td>0</td>\n",
       "    </tr>\n",
       "    <tr>\n",
       "      <th>...</th>\n",
       "      <td>...</td>\n",
       "      <td>...</td>\n",
       "      <td>...</td>\n",
       "      <td>...</td>\n",
       "      <td>...</td>\n",
       "      <td>...</td>\n",
       "      <td>...</td>\n",
       "      <td>...</td>\n",
       "      <td>...</td>\n",
       "      <td>...</td>\n",
       "    </tr>\n",
       "    <tr>\n",
       "      <th>64285</th>\n",
       "      <td>69740</td>\n",
       "      <td>1.559691e+09</td>\n",
       "      <td>ethernet</td>\n",
       "      <td>0.15</td>\n",
       "      <td>8.70</td>\n",
       "      <td>23</td>\n",
       "      <td>Medium</td>\n",
       "      <td>Medium</td>\n",
       "      <td>1</td>\n",
       "      <td>0</td>\n",
       "    </tr>\n",
       "    <tr>\n",
       "      <th>64286</th>\n",
       "      <td>69741</td>\n",
       "      <td>1.559691e+09</td>\n",
       "      <td>ethernet</td>\n",
       "      <td>0.15</td>\n",
       "      <td>8.43</td>\n",
       "      <td>23</td>\n",
       "      <td>Medium</td>\n",
       "      <td>Medium</td>\n",
       "      <td>1</td>\n",
       "      <td>0</td>\n",
       "    </tr>\n",
       "    <tr>\n",
       "      <th>64287</th>\n",
       "      <td>69742</td>\n",
       "      <td>1.559691e+09</td>\n",
       "      <td>ethernet</td>\n",
       "      <td>0.15</td>\n",
       "      <td>8.71</td>\n",
       "      <td>23</td>\n",
       "      <td>Medium</td>\n",
       "      <td>Medium</td>\n",
       "      <td>1</td>\n",
       "      <td>0</td>\n",
       "    </tr>\n",
       "    <tr>\n",
       "      <th>64288</th>\n",
       "      <td>69743</td>\n",
       "      <td>1.559691e+09</td>\n",
       "      <td>ethernet</td>\n",
       "      <td>0.15</td>\n",
       "      <td>8.42</td>\n",
       "      <td>23</td>\n",
       "      <td>Medium</td>\n",
       "      <td>Medium</td>\n",
       "      <td>1</td>\n",
       "      <td>0</td>\n",
       "    </tr>\n",
       "    <tr>\n",
       "      <th>64289</th>\n",
       "      <td>69744</td>\n",
       "      <td>1.559691e+09</td>\n",
       "      <td>ethernet</td>\n",
       "      <td>0.15</td>\n",
       "      <td>9.12</td>\n",
       "      <td>23</td>\n",
       "      <td>Medium</td>\n",
       "      <td>Medium</td>\n",
       "      <td>1</td>\n",
       "      <td>0</td>\n",
       "    </tr>\n",
       "  </tbody>\n",
       "</table>\n",
       "<p>64290 rows × 10 columns</p>\n",
       "</div>"
      ],
      "text/plain": [
       "       index     timestamp    source  local_avg  remote_avg  hour local_delay  \\\n",
       "0          0  1.559041e+09  ethernet       0.19        8.14    10       Large   \n",
       "1          1  1.559041e+09  ethernet       0.15        7.75    10      Medium   \n",
       "2          2  1.559041e+09  ethernet       0.15        8.68    10      Medium   \n",
       "3          3  1.559041e+09  ethernet       0.15        8.08    10      Medium   \n",
       "4          4  1.559041e+09  ethernet       0.15        8.20    10      Medium   \n",
       "...      ...           ...       ...        ...         ...   ...         ...   \n",
       "64285  69740  1.559691e+09  ethernet       0.15        8.70    23      Medium   \n",
       "64286  69741  1.559691e+09  ethernet       0.15        8.43    23      Medium   \n",
       "64287  69742  1.559691e+09  ethernet       0.15        8.71    23      Medium   \n",
       "64288  69743  1.559691e+09  ethernet       0.15        8.42    23      Medium   \n",
       "64289  69744  1.559691e+09  ethernet       0.15        9.12    23      Medium   \n",
       "\n",
       "      remote_delay  ismean  big_remote_avg  \n",
       "0            Small       0               0  \n",
       "1            Small       1               0  \n",
       "2           Medium       1               0  \n",
       "3            Small       1               0  \n",
       "4           Medium       1               0  \n",
       "...            ...     ...             ...  \n",
       "64285       Medium       1               0  \n",
       "64286       Medium       1               0  \n",
       "64287       Medium       1               0  \n",
       "64288       Medium       1               0  \n",
       "64289       Medium       1               0  \n",
       "\n",
       "[64290 rows x 10 columns]"
      ]
     },
     "execution_count": 21,
     "metadata": {},
     "output_type": "execute_result"
    }
   ],
   "source": [
    "# Removing unncessary columns from the ping dataset\n",
    "df1 = df1.drop(['location', 'local_dest', 'remote_dest'], axis = 1)\n",
    "df1"
   ]
  },
  {
   "cell_type": "markdown",
   "metadata": {},
   "source": [
    "#### *Each header definition*\n",
    "- Timestamp: The current time of an event that is recorded\n",
    "- Source: Network Source\n",
    "- Local_avg: Response Time for local network (ms)\n",
    "- Remote_avg: Response time for remote network (ms)"
   ]
  },
  {
   "cell_type": "code",
   "execution_count": 22,
   "metadata": {},
   "outputs": [
    {
     "name": "stdout",
     "output_type": "stream",
     "text": [
      "   index     timestamp    source  local_avg  remote_avg  hour local_delay  \\\n",
      "0      0  1.559041e+09  ethernet       0.19        8.14    10       Large   \n",
      "1      1  1.559041e+09  ethernet       0.15        7.75    10      Medium   \n",
      "2      2  1.559041e+09  ethernet       0.15        8.68    10      Medium   \n",
      "3      3  1.559041e+09  ethernet       0.15        8.08    10      Medium   \n",
      "4      4  1.559041e+09  ethernet       0.15        8.20    10      Medium   \n",
      "\n",
      "  remote_delay  ismean  big_remote_avg  \n",
      "0        Small       0               0  \n",
      "1        Small       1               0  \n",
      "2       Medium       1               0  \n",
      "3        Small       1               0  \n",
      "4       Medium       1               0  \n",
      "<class 'pandas.core.frame.DataFrame'>\n",
      "RangeIndex: 64290 entries, 0 to 64289\n",
      "Data columns (total 10 columns):\n",
      " #   Column          Non-Null Count  Dtype   \n",
      "---  ------          --------------  -----   \n",
      " 0   index           64290 non-null  int64   \n",
      " 1   timestamp       64290 non-null  float64 \n",
      " 2   source          64290 non-null  object  \n",
      " 3   local_avg       64290 non-null  float64 \n",
      " 4   remote_avg      64290 non-null  float64 \n",
      " 5   hour            64290 non-null  int32   \n",
      " 6   local_delay     64290 non-null  category\n",
      " 7   remote_delay    64290 non-null  category\n",
      " 8   ismean          64290 non-null  int64   \n",
      " 9   big_remote_avg  64290 non-null  int64   \n",
      "dtypes: category(2), float64(3), int32(1), int64(3), object(1)\n",
      "memory usage: 3.8+ MB\n",
      "None\n"
     ]
    }
   ],
   "source": [
    "# create a column that is the start of the range of hours of the day, show the head, show it has all 24 hours of the day\n",
    "#df1['hour'] = (df['timestamp'].astype(int) % 86400) / 14400\n",
    "df1['hour'] = (df['timestamp'].astype(int) % 86400) / 3600\n",
    "df1['hour'] = df1['hour'].astype(int)\n",
    "print(df1.head())\n",
    "df1['hour'].unique()\n",
    "print(df1.info())"
   ]
  },
  {
   "cell_type": "code",
   "execution_count": 23,
   "metadata": {},
   "outputs": [
    {
     "name": "stdout",
     "output_type": "stream",
     "text": [
      "2000.0\n",
      "2000.0\n",
      "       index     timestamp    source  local_avg  remote_avg  hour local_delay  \\\n",
      "0          0  1.559041e+09  ethernet       0.19        8.14    10       Large   \n",
      "1          1  1.559041e+09  ethernet       0.15        7.75    10      Medium   \n",
      "2          2  1.559041e+09  ethernet       0.15        8.68    10      Medium   \n",
      "3          3  1.559041e+09  ethernet       0.15        8.08    10      Medium   \n",
      "4          4  1.559041e+09  ethernet       0.15        8.20    10      Medium   \n",
      "...      ...           ...       ...        ...         ...   ...         ...   \n",
      "64285  69740  1.559691e+09  ethernet       0.15        8.70     8      Medium   \n",
      "64286  69741  1.559691e+09  ethernet       0.15        8.43     8      Medium   \n",
      "64287  69742  1.559691e+09  ethernet       0.15        8.71     8      Medium   \n",
      "64288  69743  1.559691e+09  ethernet       0.15        8.42     8      Medium   \n",
      "64289  69744  1.559691e+09  ethernet       0.15        9.12     8      Medium   \n",
      "\n",
      "      remote_delay  ismean  big_remote_avg  \n",
      "0            Small       0               0  \n",
      "1            Small       1               0  \n",
      "2           Medium       1               0  \n",
      "3            Small       1               0  \n",
      "4           Medium       1               0  \n",
      "...            ...     ...             ...  \n",
      "64285       Medium       1               0  \n",
      "64286       Medium       1               0  \n",
      "64287       Medium       1               0  \n",
      "64288       Medium       1               0  \n",
      "64289       Medium       1               0  \n",
      "\n",
      "[64290 rows x 10 columns]\n"
     ]
    }
   ],
   "source": [
    "# find the quartiles of the time data so we can create local average categorical variable\n",
    "print(df1['local_avg'].max())\n",
    "print(df1['remote_avg'].max())\n",
    "print(df1)"
   ]
  },
  {
   "cell_type": "code",
   "execution_count": 24,
   "metadata": {},
   "outputs": [
    {
     "name": "stdout",
     "output_type": "stream",
     "text": [
      "count    64290.000000\n",
      "mean         0.403038\n",
      "std         18.790955\n",
      "min          0.140000\n",
      "25%          0.150000\n",
      "50%          0.150000\n",
      "75%          0.150000\n",
      "max       2000.000000\n",
      "Name: local_avg, dtype: float64\n",
      "count    64290.000000\n",
      "mean        11.971681\n",
      "std         31.553788\n",
      "min          4.020000\n",
      "25%          8.150000\n",
      "50%          8.540000\n",
      "75%          9.200000\n",
      "max       2000.000000\n",
      "Name: remote_avg, dtype: float64\n"
     ]
    },
    {
     "data": {
      "image/png": "[encoded data removed]",
      "text/plain": [
       "<Figure size 360x1080 with 1 Axes>"
      ]
     },
     "metadata": {
      "needs_background": "light"
     },
     "output_type": "display_data"
    },
    {
     "data": {
      "image/png": "[encoded data removed]",
      "text/plain": [
       "<Figure size 360x1080 with 1 Axes>"
      ]
     },
     "metadata": {
      "needs_background": "light"
     },
     "output_type": "display_data"
    }
   ],
   "source": [
    "# remove the rows with avg of 9999.9999 since they are failures and will skew the data\n",
    "df1 = df1[(df1['local_avg'] != 9999.9999) & (df1['remote_avg'] != 9999.9999)]\n",
    "df1 = df1.reset_index()\n",
    "print(df1['local_avg'].describe())\n",
    "print(df1['remote_avg'].describe())\n",
    "df1['local_avg'].plot(figsize=(5,15))\n",
    "plt.show()\n",
    "df1['remote_avg'].plot(figsize=(5,15))\n",
    "plt.show()"
   ]
  },
  {
   "cell_type": "code",
   "execution_count": 25,
   "metadata": {},
   "outputs": [
    {
     "name": "stdout",
     "output_type": "stream",
     "text": [
      "['Large', 'Medium', 'Small']\n",
      "Categories (3, object): ['Small' < 'Medium' < 'Large']\n"
     ]
    }
   ],
   "source": [
    "# create the categorical variable local_delay for the local delay of low, average, high\n",
    "# we will leave in the 9999.9999 since they probably represent failures and should be placed the high\n",
    "#bins = [float('-inf'), 0.149, 0.151, float('inf')]\n",
    "bins = [float('-inf'), 0.149, 0.15, float('inf')]\n",
    "labels = ['Small', 'Medium', 'Large']\n",
    "df1['local_delay'] = pd.cut(df1['local_avg'], bins=bins, labels=labels)\n",
    "df1.head()\n",
    "print(df1['local_delay'].unique())\n"
   ]
  },
  {
   "cell_type": "code",
   "execution_count": 26,
   "metadata": {},
   "outputs": [
    {
     "name": "stdout",
     "output_type": "stream",
     "text": [
      "count    64290.000000\n",
      "mean        11.971681\n",
      "std         31.553788\n",
      "min          4.020000\n",
      "25%          8.150000\n",
      "50%          8.540000\n",
      "75%          9.200000\n",
      "max       2000.000000\n",
      "Name: remote_avg, dtype: float64\n"
     ]
    }
   ],
   "source": [
    "# find the quartiles of the time data so we can create local average categorical variable\n",
    "print(df1['remote_avg'].describe())\n"
   ]
  },
  {
   "cell_type": "code",
   "execution_count": 27,
   "metadata": {},
   "outputs": [
    {
     "name": "stdout",
     "output_type": "stream",
     "text": [
      "['Large', 'Medium', 'Small']\n",
      "Categories (3, object): ['Small' < 'Medium' < 'Large']\n"
     ]
    }
   ],
   "source": [
    "# create the categorical variable local_delay for the remote delay of low, average, high\n",
    "# we will leave in the 9999.9999 since they probably represent failures and should be placed the high\n",
    "bins = [float('-inf'), 8.15, 9.2, float('inf')]\n",
    "labels = ['Small', 'Medium', 'Large']\n",
    "df1['remote_delay'] = pd.cut(df1['remote_avg'], bins=bins, labels=labels)\n",
    "df1.head()\n",
    "print(df1['local_delay'].unique())\n"
   ]
  },
  {
   "cell_type": "code",
   "execution_count": 28,
   "metadata": {},
   "outputs": [],
   "source": [
    "# do a categorical variable for ismean for the local_avg because we have a lot\n",
    "# of them\n",
    "df1['ismean'] = 0\n",
    "df1.loc[df1[\"local_avg\"] == 0.15, \"ismean\"] = 1"
   ]
  },
  {
   "cell_type": "code",
   "execution_count": 29,
   "metadata": {},
   "outputs": [],
   "source": [
    "# do a categorical variable for large remote_avg greater than 1000 ms\n",
    "df1['big_remote_avg'] = 0\n",
    "df1.loc[df1['remote_avg'] >= 1000.0, \"big_remote_avg\"] = 1"
   ]
  },
  {
   "cell_type": "markdown",
   "metadata": {},
   "source": [
    "### Data Visualizations \n",
    "- Done by Viphu Nguyen"
   ]
  },
  {
   "cell_type": "code",
   "execution_count": 30,
   "metadata": {},
   "outputs": [
    {
     "data": {
      "text/plain": [
       "count    64290.000000\n",
       "mean         0.403038\n",
       "std         18.790955\n",
       "min          0.140000\n",
       "25%          0.150000\n",
       "50%          0.150000\n",
       "75%          0.150000\n",
       "max       2000.000000\n",
       "Name: local_avg, dtype: float64"
      ]
     },
     "execution_count": 30,
     "metadata": {},
     "output_type": "execute_result"
    },
    {
     "data": {
      "image/png": "[encoded data removed]",
      "text/plain": [
       "<Figure size 432x288 with 1 Axes>"
      ]
     },
     "metadata": {
      "needs_background": "light"
     },
     "output_type": "display_data"
    }
   ],
   "source": [
    "# Histogram for 'local_avg' response time (local) column\n",
    "df1.hist(column='local_avg', bins=200, grid=False, rwidth=.9, color='purple')\n",
    "df1['local_avg'].describe()"
   ]
  },
  {
   "cell_type": "code",
   "execution_count": 31,
   "metadata": {},
   "outputs": [
    {
     "data": {
      "text/plain": [
       "count    64290.000000\n",
       "mean        11.971681\n",
       "std         31.553788\n",
       "min          4.020000\n",
       "25%          8.150000\n",
       "50%          8.540000\n",
       "75%          9.200000\n",
       "max       2000.000000\n",
       "Name: remote_avg, dtype: float64"
      ]
     },
     "execution_count": 31,
     "metadata": {},
     "output_type": "execute_result"
    },
    {
     "data": {
      "image/png": "[encoded data removed]",
      "text/plain": [
       "<Figure size 432x288 with 1 Axes>"
      ]
     },
     "metadata": {
      "needs_background": "light"
     },
     "output_type": "display_data"
    }
   ],
   "source": [
    "# Histogram for 'remote_avg' response time (local) column\n",
    "df1.hist(column='remote_avg', bins=200, grid=False, rwidth=.9, color='purple')\n",
    "df1['remote_avg'].describe()"
   ]
  },
  {
   "cell_type": "code",
   "execution_count": 32,
   "metadata": {},
   "outputs": [],
   "source": [
    "# Duplicate the dataframe in case of crashes\n",
    "df2 = df1.copy()"
   ]
  },
  {
   "cell_type": "code",
   "execution_count": 33,
   "metadata": {},
   "outputs": [
    {
     "name": "stdout",
     "output_type": "stream",
     "text": [
      "[2 1 0]\n",
      "[0 1 2]\n",
      "   level_0  ismean  big_remote_avg  local_delay_int  remote_delay_int\n",
      "0        0       0               0                2                 0\n",
      "1        1       1               0                1                 0\n",
      "2        2       1               0                1                 1\n",
      "3        3       1               0                1                 0\n",
      "4        4       1               0                1                 1\n",
      "0    10\n",
      "1    10\n",
      "2    10\n",
      "3    10\n",
      "4    10\n",
      "Name: hour, dtype: int32\n"
     ]
    }
   ],
   "source": [
    "# map the local_delay and remote_delay to integers since that is what is needed by the classifier\n",
    "df2['local_delay_int'] = df2['local_delay'].map({'Small':0, 'Medium':1, 'Large':2}).astype(int)\n",
    "df2['remote_delay_int'] = df2['remote_delay'].map({'Small':0, 'Medium':1, 'Large':2}).astype(int)\n",
    "print(df2['local_delay_int'].unique())\n",
    "print(df2['remote_delay_int'].unique())\n",
    "X = df2.drop(['index', 'timestamp', 'source', 'local_avg', 'remote_avg', 'local_delay', 'remote_delay', 'hour'], axis = 1)\n",
    "y = df2['hour']\n",
    "print(X.head())\n",
    "print(y.head())"
   ]
  },
  {
   "cell_type": "code",
   "execution_count": 34,
   "metadata": {},
   "outputs": [
    {
     "name": "stdout",
     "output_type": "stream",
     "text": [
      "       level_0  ismean  big_remote_avg  local_delay_int  remote_delay_int\n",
      "37688    37688       1               0                1                 1\n",
      "28698    28698       1               0                1                 0\n",
      "4298      4298       1               0                1                 1\n",
      "34934    34934       1               0                1                 1\n",
      "22472    22472       1               0                1                 2\n",
      "...        ...     ...             ...              ...               ...\n",
      "42697    42697       1               0                1                 1\n",
      "36008    36008       1               0                1                 0\n",
      "46265    46265       1               0                1                 1\n",
      "23587    23587       1               0                1                 0\n",
      "29313    29313       0               0                2                 2\n",
      "\n",
      "[51432 rows x 5 columns] 37688    18\n",
      "28698    17\n",
      "4298     23\n",
      "34934    10\n",
      "22472    23\n",
      "         ..\n",
      "42697     8\n",
      "36008    13\n",
      "46265    18\n",
      "23587     2\n",
      "29313    18\n",
      "Name: hour, Length: 51432, dtype: int32\n"
     ]
    }
   ],
   "source": [
    "# split out the test and train datasets\n",
    "X_train, X_test, y_train, y_test= train_test_split(X, y,test_size=0.2,random_state=99)\n",
    "print(X_train, y_train)"
   ]
  },
  {
   "cell_type": "markdown",
   "metadata": {},
   "source": [
    "### Use scikit-learn for Logistic Regression and DecisionTree Classification, XGBoost, Keras, Pytorch to train, test and predict a categorical variable. Use appropriate metric and interpret themeaning of the score"
   ]
  },
  {
   "cell_type": "markdown",
   "metadata": {},
   "source": [
    "### Logistic Regression"
   ]
  },
  {
   "cell_type": "code",
   "execution_count": 35,
   "metadata": {},
   "outputs": [],
   "source": [
    "LogReg = LogisticRegression()\n",
    "\n",
    "scaler = preprocessing.StandardScaler()\n",
    "X_train = scaler.fit_transform(X_train)\n",
    "X_test = scaler.transform(X_test)\n",
    "\n",
    "LogReg.fit(X_train,y_train)\n",
    "\n",
    "y_pred=LogReg.predict(X_test)"
   ]
  },
  {
   "cell_type": "code",
   "execution_count": 36,
   "metadata": {},
   "outputs": [
    {
     "name": "stdout",
     "output_type": "stream",
     "text": [
      "Classes [ 0  1  2  3  4  5  6  7  8  9 10 11 12 13 14 15 16 17 18 19 20 21 22 23]\n",
      "Intercept [ 0.15363497  0.461891   -0.01806193 -0.03097053 -0.06056214 -0.07201127\n",
      " -0.05530374 -0.0857518  -0.16443369 -0.17684835 -0.15975591  0.29479355\n",
      " -0.05130031 -0.05151369 -0.05380508 -0.04132861 -0.03825726 -0.03883459\n",
      " -0.01021075 -0.03474419 -0.02940612 -0.04603993  0.35465626 -0.04583587]\n",
      "Coefficients [[-2.23491098e-01 -5.53950684e-02  1.19663185e-01 -8.69509109e-02\n",
      "   4.27137465e-01]\n",
      " [ 5.37164332e-01 -2.71294415e-02  1.10002682e-01 -1.00856942e-02\n",
      "  -5.05539925e-02]\n",
      " [ 7.19214536e-02 -7.44030007e-02 -2.31621819e-02 -6.26721296e-02\n",
      "  -1.31071635e-02]\n",
      " [ 9.23779238e-02 -8.86772748e-02 -2.03469501e-02 -8.67567556e-02\n",
      "  -1.26357661e-01]\n",
      " [ 1.14337419e-01  8.21346232e-02 -1.86038523e-02  8.80759629e-02\n",
      "  -2.09766237e-01]\n",
      " [ 1.26844293e-01  1.51646529e-01 -1.69758873e-02  1.32490679e-01\n",
      "  -2.67753543e-01]\n",
      " [ 1.52135404e-01  4.45896634e-02 -1.81349687e-02  4.65157523e-02\n",
      "  -2.36440010e-01]\n",
      " [ 1.66672378e-01 -9.07422711e-02 -1.81957674e-02 -5.37453234e-02\n",
      "  -2.63925527e-01]\n",
      " [ 1.59186604e-02  1.94718617e-01 -1.64711971e-02  1.75600421e-01\n",
      "  -2.44566999e-01]\n",
      " [-7.33350008e-02 -4.84057085e-02 -1.94168680e-02 -5.37271050e-02\n",
      "  -9.75963687e-02]\n",
      " [-5.44273035e-02 -7.18217275e-02 -1.98694808e-02 -7.42209764e-02\n",
      "  -8.54113792e-02]\n",
      " [ 2.15697425e-01 -9.72213280e-02 -3.20239828e-02 -7.83717717e-02\n",
      "   1.82258511e-01]\n",
      " [-2.29248179e-01  9.49329240e-02 -2.49468194e-02  7.27549980e-02\n",
      "   8.98038732e-02]\n",
      " [-2.38642351e-01  2.83288825e-05 -2.22212245e-02  5.18705931e-03\n",
      "  -5.92811837e-02]\n",
      " [-1.93043450e-01 -1.34061830e-02 -2.40233329e-02  1.13844688e-02\n",
      "   3.34838710e-03]\n",
      " [-1.87376871e-01 -6.91668776e-02 -2.23107188e-02 -7.47010103e-02\n",
      "  -3.82024033e-02]\n",
      " [-1.54556267e-01 -1.35654095e-01 -2.38448717e-02 -1.24764900e-01\n",
      "   1.21683869e-02]\n",
      " [-1.52093350e-01  4.68496701e-02 -2.29783373e-02  3.24228036e-02\n",
      "   6.05700223e-03]\n",
      " [-1.16555795e-01  2.27173390e-02 -2.33858185e-02 -2.25657438e-03\n",
      "   2.80756993e-02]\n",
      " [-1.08942849e-01  1.26168046e-01  1.14679668e-01  1.42872418e-01\n",
      "   5.77703319e-02]\n",
      " [-6.25155232e-02 -2.25809057e-02 -2.72443715e-02 -2.28381104e-02\n",
      "   1.63196926e-01]\n",
      " [-4.93759920e-02 -3.24668676e-02 -2.87220371e-02 -1.88542399e-02\n",
      "   2.05279997e-01]\n",
      " [ 3.40967261e-01 -4.58847573e-02  1.07160871e-01 -2.77936479e-02\n",
      "   2.47240836e-01]\n",
      " [ 9.56747837e-03  1.09169765e-01 -2.86277381e-02  7.04345870e-02\n",
      "   2.70625052e-01]]\n"
     ]
    }
   ],
   "source": [
    "print('Classes', LogReg.classes_)\n",
    "print('Intercept',LogReg.intercept_)\n",
    "print(\"Coefficients\", LogReg.coef_ )"
   ]
  },
  {
   "cell_type": "code",
   "execution_count": 37,
   "metadata": {},
   "outputs": [
    {
     "name": "stdout",
     "output_type": "stream",
     "text": [
      "Accuracy 0.09146056929538031\n",
      "              precision    recall  f1-score   support\n",
      "\n",
      "           0       0.10      0.60      0.17       705\n",
      "           1       0.09      0.61      0.15       887\n",
      "           2       0.00      0.00      0.00       483\n",
      "           3       0.00      0.00      0.00       491\n",
      "           4       0.00      0.00      0.00       520\n",
      "           5       0.00      0.00      0.00       509\n",
      "           6       0.00      0.00      0.00       490\n",
      "           7       0.00      0.00      0.00       532\n",
      "           8       0.00      0.00      0.00       457\n",
      "           9       0.00      0.00      0.00       412\n",
      "          10       0.00      0.00      0.00       410\n",
      "          11       0.00      0.00      0.00       712\n",
      "          12       0.00      0.00      0.00       491\n",
      "          13       0.04      0.08      0.06       488\n",
      "          14       0.00      0.00      0.00       513\n",
      "          15       0.00      0.00      0.00       492\n",
      "          16       0.00      0.00      0.00       503\n",
      "          17       0.00      0.00      0.00       505\n",
      "          18       0.00      0.00      0.00       460\n",
      "          19       0.00      0.00      0.00       504\n",
      "          20       0.00      0.00      0.00       486\n",
      "          21       0.00      0.00      0.00       507\n",
      "          22       0.13      0.22      0.17       819\n",
      "          23       0.00      0.00      0.00       482\n",
      "\n",
      "    accuracy                           0.09     12858\n",
      "   macro avg       0.02      0.06      0.02     12858\n",
      "weighted avg       0.02      0.09      0.03     12858\n",
      "\n"
     ]
    },
    {
     "name": "stderr",
     "output_type": "stream",
     "text": [
      "C:\\Users\\VIphu N\\AppData\\Local\\Packages\\PythonSoftwareFoundation.Python.3.9_qbz5n2kfra8p0\\LocalCache\\local-packages\\Python39\\site-packages\\sklearn\\metrics\\_classification.py:1318: UndefinedMetricWarning: Precision and F-score are ill-defined and being set to 0.0 in labels with no predicted samples. Use `zero_division` parameter to control this behavior.\n",
      "  _warn_prf(average, modifier, msg_start, len(result))\n",
      "C:\\Users\\VIphu N\\AppData\\Local\\Packages\\PythonSoftwareFoundation.Python.3.9_qbz5n2kfra8p0\\LocalCache\\local-packages\\Python39\\site-packages\\sklearn\\metrics\\_classification.py:1318: UndefinedMetricWarning: Precision and F-score are ill-defined and being set to 0.0 in labels with no predicted samples. Use `zero_division` parameter to control this behavior.\n",
      "  _warn_prf(average, modifier, msg_start, len(result))\n",
      "C:\\Users\\VIphu N\\AppData\\Local\\Packages\\PythonSoftwareFoundation.Python.3.9_qbz5n2kfra8p0\\LocalCache\\local-packages\\Python39\\site-packages\\sklearn\\metrics\\_classification.py:1318: UndefinedMetricWarning: Precision and F-score are ill-defined and being set to 0.0 in labels with no predicted samples. Use `zero_division` parameter to control this behavior.\n",
      "  _warn_prf(average, modifier, msg_start, len(result))\n"
     ]
    }
   ],
   "source": [
    "print(\"Accuracy\", LogReg.score(X_test, y_test))\n",
    "print(classification_report(y_test, LogReg.predict(X_test)))"
   ]
  },
  {
   "cell_type": "markdown",
   "metadata": {},
   "source": [
    "### Decision Tree\n",
    "- Done by Viphu Nguyen and Eric Topmiller"
   ]
  },
  {
   "cell_type": "code",
   "execution_count": 38,
   "metadata": {},
   "outputs": [],
   "source": [
    "clf = DecisionTreeClassifier(criterion='entropy', random_state=99)"
   ]
  },
  {
   "cell_type": "code",
   "execution_count": 39,
   "metadata": {},
   "outputs": [
    {
     "data": {
      "text/plain": [
       "0.9979779125836056"
      ]
     },
     "execution_count": 39,
     "metadata": {},
     "output_type": "execute_result"
    }
   ],
   "source": [
    "clf.fit(X_train,y_train)\n",
    "y_pred= clf.predict(X_test)\n",
    "accuracy_score(y_test, y_pred)"
   ]
  },
  {
   "cell_type": "markdown",
   "metadata": {},
   "source": [
    "##### Plot a Decision Tree"
   ]
  },
  {
   "cell_type": "code",
   "execution_count": 40,
   "metadata": {},
   "outputs": [
    {
     "data": {
      "image/png": "[encoded data removed]",
      "text/plain": [
       "<Figure size 864x864 with 1 Axes>"
      ]
     },
     "metadata": {
      "needs_background": "light"
     },
     "output_type": "display_data"
    }
   ],
   "source": [
    "fig, ax = plt.subplots(figsize=(12, 12))\n",
    "tree.plot_tree(decision_tree=clf, max_depth= 2,fontsize=12);"
   ]
  },
  {
   "cell_type": "markdown",
   "metadata": {},
   "source": [
    "###  Show feature importance in XGBoost by using xgb.plot.importance"
   ]
  },
  {
   "cell_type": "code",
   "execution_count": 41,
   "metadata": {},
   "outputs": [
    {
     "name": "stdout",
     "output_type": "stream",
     "text": [
      "accuracy: 0.997667\n"
     ]
    }
   ],
   "source": [
    "# !pip install xgboost\n",
    "import xgboost as xgb\n",
    "xg_cl = xgb.XGBClassifier(objective='binary:logistic', max_depth=10, n_estimators=20, seed=99) \n",
    "xg_cl.fit(X_train, y_train)\n",
    "preds = xg_cl.predict(X_test)\n",
    "accuracy = float(np.sum(preds==y_test))/y_test.shape[0]\n",
    "print(\"accuracy: %f\" % (accuracy))"
   ]
  },
  {
   "cell_type": "markdown",
   "metadata": {},
   "source": [
    "## Keras"
   ]
  },
  {
   "cell_type": "code",
   "execution_count": 52,
   "metadata": {},
   "outputs": [],
   "source": [
    "#!pip install tensorflow --user\n",
    "#from tensorflow.keras import layers, losses\n",
    "#from tensorflow.keras.datasets import fashion_mnist\n",
    "#from tensorflow.keras.models import Model"
   ]
  },
  {
   "cell_type": "code",
   "execution_count": null,
   "metadata": {},
   "outputs": [],
   "source": []
  },
  {
   "cell_type": "markdown",
   "metadata": {},
   "source": [
    "## Pytorch on Neural Network"
   ]
  },
  {
   "cell_type": "code",
   "execution_count": 127,
   "metadata": {},
   "outputs": [],
   "source": [
    "# importing pytorch libraries\n",
    "# !pip install torch\n",
    "import torch\n",
    "import torch.nn as nn\n",
    "import torch.optim as optim\n",
    "from torch.utils.data import Dataset, DataLoader\n",
    "import torch.nn.functional as F\n",
    "\n"
   ]
  },
  {
   "cell_type": "code",
   "execution_count": 60,
   "metadata": {},
   "outputs": [
    {
     "data": {
      "text/html": [
       "<div>\n",
       "<style scoped>\n",
       "    .dataframe tbody tr th:only-of-type {\n",
       "        vertical-align: middle;\n",
       "    }\n",
       "\n",
       "    .dataframe tbody tr th {\n",
       "        vertical-align: top;\n",
       "    }\n",
       "\n",
       "    .dataframe thead th {\n",
       "        text-align: right;\n",
       "    }\n",
       "</style>\n",
       "<table border=\"1\" class=\"dataframe\">\n",
       "  <thead>\n",
       "    <tr style=\"text-align: right;\">\n",
       "      <th></th>\n",
       "      <th>level_0</th>\n",
       "      <th>index</th>\n",
       "      <th>timestamp</th>\n",
       "      <th>source</th>\n",
       "      <th>local_avg</th>\n",
       "      <th>remote_avg</th>\n",
       "      <th>hour</th>\n",
       "      <th>local_delay</th>\n",
       "      <th>remote_delay</th>\n",
       "      <th>ismean</th>\n",
       "      <th>big_remote_avg</th>\n",
       "      <th>local_delay_int</th>\n",
       "      <th>remote_delay_int</th>\n",
       "    </tr>\n",
       "  </thead>\n",
       "  <tbody>\n",
       "    <tr>\n",
       "      <th>0</th>\n",
       "      <td>0</td>\n",
       "      <td>0</td>\n",
       "      <td>1.559041e+09</td>\n",
       "      <td>ethernet</td>\n",
       "      <td>0.19</td>\n",
       "      <td>8.14</td>\n",
       "      <td>10</td>\n",
       "      <td>Large</td>\n",
       "      <td>Small</td>\n",
       "      <td>0</td>\n",
       "      <td>0</td>\n",
       "      <td>2</td>\n",
       "      <td>0</td>\n",
       "    </tr>\n",
       "    <tr>\n",
       "      <th>1</th>\n",
       "      <td>1</td>\n",
       "      <td>1</td>\n",
       "      <td>1.559041e+09</td>\n",
       "      <td>ethernet</td>\n",
       "      <td>0.15</td>\n",
       "      <td>7.75</td>\n",
       "      <td>10</td>\n",
       "      <td>Medium</td>\n",
       "      <td>Small</td>\n",
       "      <td>1</td>\n",
       "      <td>0</td>\n",
       "      <td>1</td>\n",
       "      <td>0</td>\n",
       "    </tr>\n",
       "    <tr>\n",
       "      <th>2</th>\n",
       "      <td>2</td>\n",
       "      <td>2</td>\n",
       "      <td>1.559041e+09</td>\n",
       "      <td>ethernet</td>\n",
       "      <td>0.15</td>\n",
       "      <td>8.68</td>\n",
       "      <td>10</td>\n",
       "      <td>Medium</td>\n",
       "      <td>Medium</td>\n",
       "      <td>1</td>\n",
       "      <td>0</td>\n",
       "      <td>1</td>\n",
       "      <td>1</td>\n",
       "    </tr>\n",
       "    <tr>\n",
       "      <th>3</th>\n",
       "      <td>3</td>\n",
       "      <td>3</td>\n",
       "      <td>1.559041e+09</td>\n",
       "      <td>ethernet</td>\n",
       "      <td>0.15</td>\n",
       "      <td>8.08</td>\n",
       "      <td>10</td>\n",
       "      <td>Medium</td>\n",
       "      <td>Small</td>\n",
       "      <td>1</td>\n",
       "      <td>0</td>\n",
       "      <td>1</td>\n",
       "      <td>0</td>\n",
       "    </tr>\n",
       "    <tr>\n",
       "      <th>4</th>\n",
       "      <td>4</td>\n",
       "      <td>4</td>\n",
       "      <td>1.559041e+09</td>\n",
       "      <td>ethernet</td>\n",
       "      <td>0.15</td>\n",
       "      <td>8.20</td>\n",
       "      <td>10</td>\n",
       "      <td>Medium</td>\n",
       "      <td>Medium</td>\n",
       "      <td>1</td>\n",
       "      <td>0</td>\n",
       "      <td>1</td>\n",
       "      <td>1</td>\n",
       "    </tr>\n",
       "    <tr>\n",
       "      <th>...</th>\n",
       "      <td>...</td>\n",
       "      <td>...</td>\n",
       "      <td>...</td>\n",
       "      <td>...</td>\n",
       "      <td>...</td>\n",
       "      <td>...</td>\n",
       "      <td>...</td>\n",
       "      <td>...</td>\n",
       "      <td>...</td>\n",
       "      <td>...</td>\n",
       "      <td>...</td>\n",
       "      <td>...</td>\n",
       "      <td>...</td>\n",
       "    </tr>\n",
       "    <tr>\n",
       "      <th>64285</th>\n",
       "      <td>64285</td>\n",
       "      <td>69740</td>\n",
       "      <td>1.559691e+09</td>\n",
       "      <td>ethernet</td>\n",
       "      <td>0.15</td>\n",
       "      <td>8.70</td>\n",
       "      <td>8</td>\n",
       "      <td>Medium</td>\n",
       "      <td>Medium</td>\n",
       "      <td>1</td>\n",
       "      <td>0</td>\n",
       "      <td>1</td>\n",
       "      <td>1</td>\n",
       "    </tr>\n",
       "    <tr>\n",
       "      <th>64286</th>\n",
       "      <td>64286</td>\n",
       "      <td>69741</td>\n",
       "      <td>1.559691e+09</td>\n",
       "      <td>ethernet</td>\n",
       "      <td>0.15</td>\n",
       "      <td>8.43</td>\n",
       "      <td>8</td>\n",
       "      <td>Medium</td>\n",
       "      <td>Medium</td>\n",
       "      <td>1</td>\n",
       "      <td>0</td>\n",
       "      <td>1</td>\n",
       "      <td>1</td>\n",
       "    </tr>\n",
       "    <tr>\n",
       "      <th>64287</th>\n",
       "      <td>64287</td>\n",
       "      <td>69742</td>\n",
       "      <td>1.559691e+09</td>\n",
       "      <td>ethernet</td>\n",
       "      <td>0.15</td>\n",
       "      <td>8.71</td>\n",
       "      <td>8</td>\n",
       "      <td>Medium</td>\n",
       "      <td>Medium</td>\n",
       "      <td>1</td>\n",
       "      <td>0</td>\n",
       "      <td>1</td>\n",
       "      <td>1</td>\n",
       "    </tr>\n",
       "    <tr>\n",
       "      <th>64288</th>\n",
       "      <td>64288</td>\n",
       "      <td>69743</td>\n",
       "      <td>1.559691e+09</td>\n",
       "      <td>ethernet</td>\n",
       "      <td>0.15</td>\n",
       "      <td>8.42</td>\n",
       "      <td>8</td>\n",
       "      <td>Medium</td>\n",
       "      <td>Medium</td>\n",
       "      <td>1</td>\n",
       "      <td>0</td>\n",
       "      <td>1</td>\n",
       "      <td>1</td>\n",
       "    </tr>\n",
       "    <tr>\n",
       "      <th>64289</th>\n",
       "      <td>64289</td>\n",
       "      <td>69744</td>\n",
       "      <td>1.559691e+09</td>\n",
       "      <td>ethernet</td>\n",
       "      <td>0.15</td>\n",
       "      <td>9.12</td>\n",
       "      <td>8</td>\n",
       "      <td>Medium</td>\n",
       "      <td>Medium</td>\n",
       "      <td>1</td>\n",
       "      <td>0</td>\n",
       "      <td>1</td>\n",
       "      <td>1</td>\n",
       "    </tr>\n",
       "  </tbody>\n",
       "</table>\n",
       "<p>64290 rows × 13 columns</p>\n",
       "</div>"
      ],
      "text/plain": [
       "       level_0  index     timestamp    source  local_avg  remote_avg  hour  \\\n",
       "0            0      0  1.559041e+09  ethernet       0.19        8.14    10   \n",
       "1            1      1  1.559041e+09  ethernet       0.15        7.75    10   \n",
       "2            2      2  1.559041e+09  ethernet       0.15        8.68    10   \n",
       "3            3      3  1.559041e+09  ethernet       0.15        8.08    10   \n",
       "4            4      4  1.559041e+09  ethernet       0.15        8.20    10   \n",
       "...        ...    ...           ...       ...        ...         ...   ...   \n",
       "64285    64285  69740  1.559691e+09  ethernet       0.15        8.70     8   \n",
       "64286    64286  69741  1.559691e+09  ethernet       0.15        8.43     8   \n",
       "64287    64287  69742  1.559691e+09  ethernet       0.15        8.71     8   \n",
       "64288    64288  69743  1.559691e+09  ethernet       0.15        8.42     8   \n",
       "64289    64289  69744  1.559691e+09  ethernet       0.15        9.12     8   \n",
       "\n",
       "      local_delay remote_delay  ismean  big_remote_avg  local_delay_int  \\\n",
       "0           Large        Small       0               0                2   \n",
       "1          Medium        Small       1               0                1   \n",
       "2          Medium       Medium       1               0                1   \n",
       "3          Medium        Small       1               0                1   \n",
       "4          Medium       Medium       1               0                1   \n",
       "...           ...          ...     ...             ...              ...   \n",
       "64285      Medium       Medium       1               0                1   \n",
       "64286      Medium       Medium       1               0                1   \n",
       "64287      Medium       Medium       1               0                1   \n",
       "64288      Medium       Medium       1               0                1   \n",
       "64289      Medium       Medium       1               0                1   \n",
       "\n",
       "       remote_delay_int  \n",
       "0                     0  \n",
       "1                     0  \n",
       "2                     1  \n",
       "3                     0  \n",
       "4                     1  \n",
       "...                 ...  \n",
       "64285                 1  \n",
       "64286                 1  \n",
       "64287                 1  \n",
       "64288                 1  \n",
       "64289                 1  \n",
       "\n",
       "[64290 rows x 13 columns]"
      ]
     },
     "execution_count": 60,
     "metadata": {},
     "output_type": "execute_result"
    }
   ],
   "source": [
    "df3 = df2.copy()\n",
    "df3"
   ]
  },
  {
   "cell_type": "code",
   "execution_count": 61,
   "metadata": {},
   "outputs": [
    {
     "data": {
      "text/html": [
       "<div>\n",
       "<style scoped>\n",
       "    .dataframe tbody tr th:only-of-type {\n",
       "        vertical-align: middle;\n",
       "    }\n",
       "\n",
       "    .dataframe tbody tr th {\n",
       "        vertical-align: top;\n",
       "    }\n",
       "\n",
       "    .dataframe thead th {\n",
       "        text-align: right;\n",
       "    }\n",
       "</style>\n",
       "<table border=\"1\" class=\"dataframe\">\n",
       "  <thead>\n",
       "    <tr style=\"text-align: right;\">\n",
       "      <th></th>\n",
       "      <th>local_avg</th>\n",
       "      <th>remote_avg</th>\n",
       "      <th>local_delay</th>\n",
       "      <th>remote_delay</th>\n",
       "    </tr>\n",
       "  </thead>\n",
       "  <tbody>\n",
       "    <tr>\n",
       "      <th>0</th>\n",
       "      <td>0.19</td>\n",
       "      <td>8.14</td>\n",
       "      <td>Large</td>\n",
       "      <td>Small</td>\n",
       "    </tr>\n",
       "    <tr>\n",
       "      <th>1</th>\n",
       "      <td>0.15</td>\n",
       "      <td>7.75</td>\n",
       "      <td>Medium</td>\n",
       "      <td>Small</td>\n",
       "    </tr>\n",
       "    <tr>\n",
       "      <th>2</th>\n",
       "      <td>0.15</td>\n",
       "      <td>8.68</td>\n",
       "      <td>Medium</td>\n",
       "      <td>Medium</td>\n",
       "    </tr>\n",
       "    <tr>\n",
       "      <th>3</th>\n",
       "      <td>0.15</td>\n",
       "      <td>8.08</td>\n",
       "      <td>Medium</td>\n",
       "      <td>Small</td>\n",
       "    </tr>\n",
       "    <tr>\n",
       "      <th>4</th>\n",
       "      <td>0.15</td>\n",
       "      <td>8.20</td>\n",
       "      <td>Medium</td>\n",
       "      <td>Medium</td>\n",
       "    </tr>\n",
       "    <tr>\n",
       "      <th>...</th>\n",
       "      <td>...</td>\n",
       "      <td>...</td>\n",
       "      <td>...</td>\n",
       "      <td>...</td>\n",
       "    </tr>\n",
       "    <tr>\n",
       "      <th>64285</th>\n",
       "      <td>0.15</td>\n",
       "      <td>8.70</td>\n",
       "      <td>Medium</td>\n",
       "      <td>Medium</td>\n",
       "    </tr>\n",
       "    <tr>\n",
       "      <th>64286</th>\n",
       "      <td>0.15</td>\n",
       "      <td>8.43</td>\n",
       "      <td>Medium</td>\n",
       "      <td>Medium</td>\n",
       "    </tr>\n",
       "    <tr>\n",
       "      <th>64287</th>\n",
       "      <td>0.15</td>\n",
       "      <td>8.71</td>\n",
       "      <td>Medium</td>\n",
       "      <td>Medium</td>\n",
       "    </tr>\n",
       "    <tr>\n",
       "      <th>64288</th>\n",
       "      <td>0.15</td>\n",
       "      <td>8.42</td>\n",
       "      <td>Medium</td>\n",
       "      <td>Medium</td>\n",
       "    </tr>\n",
       "    <tr>\n",
       "      <th>64289</th>\n",
       "      <td>0.15</td>\n",
       "      <td>9.12</td>\n",
       "      <td>Medium</td>\n",
       "      <td>Medium</td>\n",
       "    </tr>\n",
       "  </tbody>\n",
       "</table>\n",
       "<p>64290 rows × 4 columns</p>\n",
       "</div>"
      ],
      "text/plain": [
       "       local_avg  remote_avg local_delay remote_delay\n",
       "0           0.19        8.14       Large        Small\n",
       "1           0.15        7.75      Medium        Small\n",
       "2           0.15        8.68      Medium       Medium\n",
       "3           0.15        8.08      Medium        Small\n",
       "4           0.15        8.20      Medium       Medium\n",
       "...          ...         ...         ...          ...\n",
       "64285       0.15        8.70      Medium       Medium\n",
       "64286       0.15        8.43      Medium       Medium\n",
       "64287       0.15        8.71      Medium       Medium\n",
       "64288       0.15        8.42      Medium       Medium\n",
       "64289       0.15        9.12      Medium       Medium\n",
       "\n",
       "[64290 rows x 4 columns]"
      ]
     },
     "execution_count": 61,
     "metadata": {},
     "output_type": "execute_result"
    }
   ],
   "source": [
    "cols = ['local_avg', 'remote_avg', 'local_delay', 'remote_delay', ]\n",
    "df3 = df3[cols]\n",
    "df3"
   ]
  },
  {
   "cell_type": "code",
   "execution_count": 62,
   "metadata": {},
   "outputs": [
    {
     "name": "stderr",
     "output_type": "stream",
     "text": [
      "C:\\Users\\VIphu N\\AppData\\Local\\Packages\\PythonSoftwareFoundation.Python.3.9_qbz5n2kfra8p0\\LocalCache\\local-packages\\Python39\\site-packages\\pandas\\core\\series.py:4509: SettingWithCopyWarning: \n",
      "A value is trying to be set on a copy of a slice from a DataFrame\n",
      "\n",
      "See the caveats in the documentation: https://pandas.pydata.org/pandas-docs/stable/user_guide/indexing.html#returning-a-view-versus-a-copy\n",
      "  return super().replace(\n"
     ]
    }
   ],
   "source": [
    "# Converting the small, medium, and large to [0, 1, 2]\n",
    "df3['local_delay'].replace({'Small': 0, 'Medium': 1, 'Large': 2}, inplace = True)\n",
    "df3['remote_delay'].replace({'Small': 0, 'Medium': 1, 'Large': 2}, inplace = True)"
   ]
  },
  {
   "cell_type": "code",
   "execution_count": 63,
   "metadata": {},
   "outputs": [
    {
     "name": "stderr",
     "output_type": "stream",
     "text": [
      "C:\\Users\\VIphu N\\AppData\\Local\\Packages\\PythonSoftwareFoundation.Python.3.9_qbz5n2kfra8p0\\LocalCache\\local-packages\\Python39\\site-packages\\seaborn\\_decorators.py:36: FutureWarning: Pass the following variable as a keyword arg: x. From version 0.12, the only valid positional argument will be `data`, and passing other arguments without an explicit keyword will result in an error or misinterpretation.\n",
      "  warnings.warn(\n"
     ]
    },
    {
     "data": {
      "image/png": "[encoded data removed]",
      "text/plain": [
       "<Figure size 432x288 with 1 Axes>"
      ]
     },
     "metadata": {
      "needs_background": "light"
     },
     "output_type": "display_data"
    }
   ],
   "source": [
    "# To display the histogram of how often the response time is for the local delay input network \n",
    "sns.countplot(df3.local_delay);"
   ]
  },
  {
   "cell_type": "code",
   "execution_count": 64,
   "metadata": {},
   "outputs": [
    {
     "name": "stderr",
     "output_type": "stream",
     "text": [
      "C:\\Users\\VIphu N\\AppData\\Local\\Packages\\PythonSoftwareFoundation.Python.3.9_qbz5n2kfra8p0\\LocalCache\\local-packages\\Python39\\site-packages\\seaborn\\_decorators.py:36: FutureWarning: Pass the following variable as a keyword arg: x. From version 0.12, the only valid positional argument will be `data`, and passing other arguments without an explicit keyword will result in an error or misinterpretation.\n",
      "  warnings.warn(\n"
     ]
    },
    {
     "data": {
      "image/png": "[encoded data removed]",
      "text/plain": [
       "<Figure size 432x288 with 1 Axes>"
      ]
     },
     "metadata": {
      "needs_background": "light"
     },
     "output_type": "display_data"
    }
   ],
   "source": [
    "# To display the histogram of how often the response time is for the remote delay input network \n",
    "sns.countplot(df3.remote_delay);"
   ]
  },
  {
   "cell_type": "code",
   "execution_count": 66,
   "metadata": {},
   "outputs": [
    {
     "data": {
      "text/plain": [
       "1    0.827578\n",
       "2    0.169124\n",
       "0    0.003298\n",
       "Name: local_delay, dtype: float64"
      ]
     },
     "execution_count": 66,
     "metadata": {},
     "output_type": "execute_result"
    }
   ],
   "source": [
    "# To look at the percentage of how much impact is the response time for local delay \n",
    "df3.local_delay.value_counts() / df3.shape[0]"
   ]
  },
  {
   "cell_type": "code",
   "execution_count": 67,
   "metadata": {},
   "outputs": [
    {
     "data": {
      "text/plain": [
       "1    0.495583\n",
       "0    0.254534\n",
       "2    0.249883\n",
       "Name: remote_delay, dtype: float64"
      ]
     },
     "execution_count": 67,
     "metadata": {},
     "output_type": "execute_result"
    }
   ],
   "source": [
    "# To look at the percentage of how much impact is the response time for remote delay\n",
    "df3.remote_delay.value_counts() / df3.shape[0]"
   ]
  },
  {
   "cell_type": "code",
   "execution_count": 117,
   "metadata": {},
   "outputs": [],
   "source": [
    "# To split the data into train and test sets:\n",
    "X = df3[['remote_delay', 'local_avg', 'remote_avg']]\n",
    "y = df3[['local_delay']]\n",
    "\n",
    "X_train, X_test, y_train, y_test = train_test_split(X, y, test_size=0.2, random_state=42)"
   ]
  },
  {
   "cell_type": "code",
   "execution_count": 1,
   "metadata": {},
   "outputs": [
    {
     "ename": "NameError",
     "evalue": "name 'torch' is not defined",
     "output_type": "error",
     "traceback": [
      "\u001b[1;31m---------------------------------------------------------------------------\u001b[0m",
      "\u001b[1;31mNameError\u001b[0m                                 Traceback (most recent call last)",
      "\u001b[1;32m<ipython-input-1-01c6e63187e8>\u001b[0m in \u001b[0;36m<module>\u001b[1;34m\u001b[0m\n\u001b[0;32m      1\u001b[0m \u001b[1;31m# Convert all of it to Tensors (so we can use it with PyTorch)\u001b[0m\u001b[1;33m\u001b[0m\u001b[1;33m\u001b[0m\u001b[0m\n\u001b[1;32m----> 2\u001b[1;33m \u001b[0mX_train\u001b[0m \u001b[1;33m=\u001b[0m \u001b[0mtorch\u001b[0m\u001b[1;33m.\u001b[0m\u001b[0mfrom_numpy\u001b[0m\u001b[1;33m(\u001b[0m\u001b[0mX_train\u001b[0m\u001b[1;33m.\u001b[0m\u001b[0mto_numpy\u001b[0m\u001b[1;33m(\u001b[0m\u001b[1;33m)\u001b[0m\u001b[1;33m)\u001b[0m\u001b[1;33m.\u001b[0m\u001b[0mfloat\u001b[0m\u001b[1;33m(\u001b[0m\u001b[1;33m)\u001b[0m\u001b[1;33m\u001b[0m\u001b[1;33m\u001b[0m\u001b[0m\n\u001b[0m\u001b[0;32m      3\u001b[0m \u001b[0my_train\u001b[0m \u001b[1;33m=\u001b[0m \u001b[0mtorch\u001b[0m\u001b[1;33m.\u001b[0m\u001b[0msqueeze\u001b[0m\u001b[1;33m(\u001b[0m\u001b[0mtorch\u001b[0m\u001b[1;33m.\u001b[0m\u001b[0mfrom_numpy\u001b[0m\u001b[1;33m(\u001b[0m\u001b[0my_train\u001b[0m\u001b[1;33m.\u001b[0m\u001b[0mto_numpy\u001b[0m\u001b[1;33m(\u001b[0m\u001b[1;33m)\u001b[0m\u001b[1;33m)\u001b[0m\u001b[1;33m.\u001b[0m\u001b[0mfloat\u001b[0m\u001b[1;33m(\u001b[0m\u001b[1;33m)\u001b[0m\u001b[1;33m)\u001b[0m\u001b[1;33m\u001b[0m\u001b[1;33m\u001b[0m\u001b[0m\n\u001b[0;32m      4\u001b[0m \u001b[0mX_test\u001b[0m \u001b[1;33m=\u001b[0m \u001b[0mtorch\u001b[0m\u001b[1;33m.\u001b[0m\u001b[0mfrom_numpy\u001b[0m\u001b[1;33m(\u001b[0m\u001b[0mX_test\u001b[0m\u001b[1;33m.\u001b[0m\u001b[0mto_numpy\u001b[0m\u001b[1;33m(\u001b[0m\u001b[1;33m)\u001b[0m\u001b[1;33m)\u001b[0m\u001b[1;33m.\u001b[0m\u001b[0mfloat\u001b[0m\u001b[1;33m(\u001b[0m\u001b[1;33m)\u001b[0m\u001b[1;33m\u001b[0m\u001b[1;33m\u001b[0m\u001b[0m\n\u001b[0;32m      5\u001b[0m \u001b[0my_test\u001b[0m \u001b[1;33m=\u001b[0m \u001b[0mtorch\u001b[0m\u001b[1;33m.\u001b[0m\u001b[0msqueeze\u001b[0m\u001b[1;33m(\u001b[0m\u001b[0mtorch\u001b[0m\u001b[1;33m.\u001b[0m\u001b[0mfrom_numpy\u001b[0m\u001b[1;33m(\u001b[0m\u001b[0my_test\u001b[0m\u001b[1;33m.\u001b[0m\u001b[0mto_numpy\u001b[0m\u001b[1;33m(\u001b[0m\u001b[1;33m)\u001b[0m\u001b[1;33m)\u001b[0m\u001b[1;33m.\u001b[0m\u001b[0mfloat\u001b[0m\u001b[1;33m(\u001b[0m\u001b[1;33m)\u001b[0m\u001b[1;33m)\u001b[0m\u001b[1;33m\u001b[0m\u001b[1;33m\u001b[0m\u001b[0m\n",
      "\u001b[1;31mNameError\u001b[0m: name 'torch' is not defined"
     ]
    }
   ],
   "source": [
    "# Convert all of it to Tensors (so we can use it with PyTorch)\n",
    "X_train = torch.from_numpy(X_train.to_numpy()).float()\n",
    "y_train = torch.squeeze(torch.from_numpy(y_train.to_numpy()).float())\n",
    "X_test = torch.from_numpy(X_test.to_numpy()).float()\n",
    "y_test = torch.squeeze(torch.from_numpy(y_test.to_numpy()).float())\n",
    "\n",
    "print(X_train.shape, y_train.shape)\n",
    "print(X_test.shape, y_test.shape)\n"
   ]
  },
  {
   "cell_type": "markdown",
   "metadata": {},
   "source": [
    "### Building a Neural Network"
   ]
  },
  {
   "cell_type": "code",
   "execution_count": 119,
   "metadata": {},
   "outputs": [
    {
     "data": {
      "text/plain": [
       "Net(\n",
       "  (fc1): Linear(in_features=3, out_features=5, bias=True)\n",
       "  (fc2): Linear(in_features=5, out_features=3, bias=True)\n",
       "  (fc3): Linear(in_features=3, out_features=1, bias=True)\n",
       ")"
      ]
     },
     "execution_count": 119,
     "metadata": {},
     "output_type": "execute_result"
    }
   ],
   "source": [
    "class Net(nn.Module):\n",
    "  def __init__(self, n_features):\n",
    "    super(Net, self).__init__()\n",
    "    self.fc1 = nn.Linear(n_features, 5)\n",
    "    self.fc2 = nn.Linear(5, 3)\n",
    "    self.fc3 = nn.Linear(3, 1)\n",
    "    \n",
    "  def forward(self, x):\n",
    "    x = F.relu(self.fc1(x))\n",
    "    x = F.relu(self.fc2(x))\n",
    "    return torch.sigmoid(self.fc3(x))\n",
    "\n",
    "net = Net(X_train.shape[1])\n",
    "net"
   ]
  },
  {
   "cell_type": "code",
   "execution_count": 130,
   "metadata": {},
   "outputs": [],
   "source": [
    "criterion = nn.BCELoss()\n",
    "optimizer = optim.Adam(net.parameters(), lr=0.001)\n",
    "device = torch.device(\"cuda:0\" if torch.cuda.is_available() else \"cpu\")"
   ]
  },
  {
   "cell_type": "code",
   "execution_count": 123,
   "metadata": {},
   "outputs": [],
   "source": [
    "X_train = X_train.to(device)\n",
    "y_train = y_train.to(device)\n",
    "\n",
    "X_test = X_test.to(device)\n",
    "y_test = y_test.to(device)\n"
   ]
  },
  {
   "cell_type": "code",
   "execution_count": 124,
   "metadata": {},
   "outputs": [],
   "source": [
    "net = net.to(device)\n",
    "\n",
    "criterion = criterion.to(device)"
   ]
  },
  {
   "cell_type": "code",
   "execution_count": 131,
   "metadata": {},
   "outputs": [
    {
     "name": "stdout",
     "output_type": "stream",
     "text": [
      "epoch 0 Train set - loss: -16.428, accuracy: 0.829\n",
      "            Test  set - loss: -16.995, accuracy: 0.823\n",
      "            \n",
      "epoch 100 Train set - loss: -16.463, accuracy: 0.829\n",
      "            Test  set - loss: -17.048, accuracy: 0.823\n",
      "            \n",
      "epoch 200 Train set - loss: -16.466, accuracy: 0.829\n",
      "            Test  set - loss: -17.048, accuracy: 0.823\n",
      "            \n",
      "epoch 300 Train set - loss: -16.466, accuracy: 0.829\n",
      "            Test  set - loss: -17.048, accuracy: 0.823\n",
      "            \n",
      "epoch 400 Train set - loss: -16.466, accuracy: 0.829\n",
      "            Test  set - loss: -17.048, accuracy: 0.823\n",
      "            \n",
      "epoch 500 Train set - loss: -16.466, accuracy: 0.829\n",
      "            Test  set - loss: -17.048, accuracy: 0.823\n",
      "            \n",
      "epoch 600 Train set - loss: -16.466, accuracy: 0.829\n",
      "            Test  set - loss: -17.048, accuracy: 0.823\n",
      "            \n",
      "epoch 700 Train set - loss: -16.466, accuracy: 0.829\n",
      "            Test  set - loss: -17.048, accuracy: 0.823\n",
      "            \n",
      "epoch 800 Train set - loss: -16.466, accuracy: 0.829\n",
      "            Test  set - loss: -17.048, accuracy: 0.823\n",
      "            \n",
      "epoch 900 Train set - loss: -16.466, accuracy: 0.829\n",
      "            Test  set - loss: -17.048, accuracy: 0.823\n",
      "            \n"
     ]
    }
   ],
   "source": [
    "def calculate_accuracy(y_true, y_pred):\n",
    "  predicted = y_pred.ge(.5).view(-1)\n",
    "  return (y_true == predicted).sum().float() / len(y_true)\n",
    "\n",
    "def round_tensor(t, decimal_places=3):\n",
    "  return round(t.item(), decimal_places)\n",
    "\n",
    "for epoch in range(1000):\n",
    "    \n",
    "    y_pred = net(X_train)\n",
    "    \n",
    "    y_pred = torch.squeeze(y_pred)\n",
    "    train_loss = criterion(y_pred, y_train)\n",
    "    \n",
    "    if epoch % 100 == 0:\n",
    "      train_acc = calculate_accuracy(y_train, y_pred)\n",
    "\n",
    "      y_test_pred = net(X_test)\n",
    "      y_test_pred = torch.squeeze(y_test_pred)\n",
    "\n",
    "      test_loss = criterion(y_test_pred, y_test)\n",
    "\n",
    "      test_acc = calculate_accuracy(y_test, y_test_pred)\n",
    "      print(f'''epoch {epoch} Train set - loss: {round_tensor(train_loss)}, accuracy: {round_tensor(train_acc)}\n",
    "            Test  set - loss: {round_tensor(test_loss)}, accuracy: {round_tensor(test_acc)}\n",
    "            ''')\n",
    "    \n",
    "    optimizer.zero_grad()\n",
    "    \n",
    "    train_loss.backward()\n",
    "    \n",
    "    optimizer.step()"
   ]
  },
  {
   "cell_type": "markdown",
   "metadata": {},
   "source": [
    "### Evaluation on the Neural Network (Pytorch)"
   ]
  },
  {
   "cell_type": "code",
   "execution_count": 134,
   "metadata": {},
   "outputs": [
    {
     "name": "stdout",
     "output_type": "stream",
     "text": [
      "              precision    recall  f1-score   support\n",
      "\n",
      "         Low       0.00      0.00      0.00        41\n",
      "      Medium       0.82      1.00      0.90     10584\n",
      "       Large       0.00      0.00      0.00      2233\n",
      "\n",
      "    accuracy                           0.82     12858\n",
      "   macro avg       0.27      0.33      0.30     12858\n",
      "weighted avg       0.68      0.82      0.74     12858\n",
      "\n"
     ]
    },
    {
     "name": "stderr",
     "output_type": "stream",
     "text": [
      "C:\\Users\\VIphu N\\AppData\\Local\\Packages\\PythonSoftwareFoundation.Python.3.9_qbz5n2kfra8p0\\LocalCache\\local-packages\\Python39\\site-packages\\sklearn\\metrics\\_classification.py:1318: UndefinedMetricWarning: Precision and F-score are ill-defined and being set to 0.0 in labels with no predicted samples. Use `zero_division` parameter to control this behavior.\n",
      "  _warn_prf(average, modifier, msg_start, len(result))\n",
      "C:\\Users\\VIphu N\\AppData\\Local\\Packages\\PythonSoftwareFoundation.Python.3.9_qbz5n2kfra8p0\\LocalCache\\local-packages\\Python39\\site-packages\\sklearn\\metrics\\_classification.py:1318: UndefinedMetricWarning: Precision and F-score are ill-defined and being set to 0.0 in labels with no predicted samples. Use `zero_division` parameter to control this behavior.\n",
      "  _warn_prf(average, modifier, msg_start, len(result))\n",
      "C:\\Users\\VIphu N\\AppData\\Local\\Packages\\PythonSoftwareFoundation.Python.3.9_qbz5n2kfra8p0\\LocalCache\\local-packages\\Python39\\site-packages\\sklearn\\metrics\\_classification.py:1318: UndefinedMetricWarning: Precision and F-score are ill-defined and being set to 0.0 in labels with no predicted samples. Use `zero_division` parameter to control this behavior.\n",
      "  _warn_prf(average, modifier, msg_start, len(result))\n"
     ]
    }
   ],
   "source": [
    "classes = ['Low', 'Medium', 'Large']\n",
    "y_pred = net(X_test)\n",
    "y_pred = y_pred.ge(.5).view(-1).cpu()\n",
    "y_test = y_test.cpu()\n",
    "print(classification_report(y_test, y_pred, target_names=classes))"
   ]
  },
  {
   "cell_type": "markdown",
   "metadata": {},
   "source": [
    "### Compare the results of the algorithms (comparison, conclusion, challenges...etc.)"
   ]
  },
  {
   "cell_type": "markdown",
   "metadata": {},
   "source": [
    "### Outcome of our analysis"
   ]
  }
 ],
 "metadata": {
  "interpreter": {
   "hash": "e3257dd6bb7ac5f2a2209d12b9ac77c9cd3e930a64993a400625cc1af97630f6"
  },
  "kernelspec": {
   "display_name": "Python 3.9.12 64-bit (windows store)",
   "language": "python",
   "name": "python3"
  },
  "language_info": {
   "codemirror_mode": {
    "name": "ipython",
    "version": 3
   },
   "file_extension": ".py",
   "mimetype": "text/x-python",
   "name": "python",
   "nbconvert_exporter": "python",
   "pygments_lexer": "ipython3",
   "version": "3.9.12"
  }
 },
 "nbformat": 4,
 "nbformat_minor": 2
}
