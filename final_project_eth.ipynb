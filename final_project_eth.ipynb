{
 "cells": [
  {
   "cell_type": "markdown",
   "metadata": {},
   "source": [
    "# Final Project on Supervised Learning"
   ]
  },
  {
   "cell_type": "markdown",
   "metadata": {},
   "source": [
    "### LAN and WAN Response Analysis \n",
    "- Description: The source of our data comes from the variablity of a LAN network when it is connecting to the Internet. The data is collected by the ping response time from the devices of the local internet router and to the first-hop server on the internet.\n",
    "- Group Members: Eric Topmiller, Viphu Nguyen, David Gigremosa, Paul Rozario"
   ]
  },
  {
   "cell_type": "markdown",
   "metadata": {},
   "source": [
    "Question to Answer: What is the worst time of day for ping response with ethernet and wireless for both LAN and WAN?"
   ]
  },
  {
   "cell_type": "code",
   "execution_count": 27,
   "metadata": {},
   "outputs": [],
   "source": [
    "\n",
    "# Import libraries\n",
    "\n",
    "import numpy as np\n",
    "import pandas as pd \n",
    "import matplotlib.pyplot as plt \n",
    "import seaborn as sns \n",
    "from datetime import datetime\n",
    "from sklearn.linear_model import LogisticRegression\n",
    "from sklearn import tree\n",
    "from sklearn.tree import DecisionTreeClassifier\n",
    "from sklearn.model_selection import train_test_split\n",
    "from sklearn.metrics import accuracy_score\n",
    "from sklearn.metrics import classification_report, confusion_matrix\n",
    "from sklearn.metrics import roc_auc_score, roc_curve, accuracy_score\n",
    "from sklearn.metrics import precision_score, recall_score\n",
    "from sklearn import preprocessing\n",
    "import matplotlib.pyplot as plt\n",
    "from matplotlib import style"
   ]
  },
  {
   "cell_type": "code",
   "execution_count": 28,
   "metadata": {},
   "outputs": [],
   "source": [
    "# Set the dataset from the network csv\n",
    "df = pd.read_csv('ping_data_rp829c7e0e_eth.csv')\n",
    "df.head()\n",
    "df.sort_values('timestamp', inplace=True)"
   ]
  },
  {
   "cell_type": "markdown",
   "metadata": {},
   "source": [
    "### Data Wrangling and Filtering the Data\n",
    "- Done by Viphu Nguyen and Eric Topmiller"
   ]
  },
  {
   "cell_type": "code",
   "execution_count": 29,
   "metadata": {},
   "outputs": [
    {
     "data": {
      "text/plain": [
       "timestamp      0\n",
       "location       0\n",
       "source         0\n",
       "local_dest     0\n",
       "local_avg      0\n",
       "remote_dest    0\n",
       "remote_avg     0\n",
       "dtype: int64"
      ]
     },
     "execution_count": 29,
     "metadata": {},
     "output_type": "execute_result"
    }
   ],
   "source": [
    "# Finding the missing values from the ping dataset\n",
    "df.isna().sum()"
   ]
  },
  {
   "cell_type": "code",
   "execution_count": 30,
   "metadata": {},
   "outputs": [],
   "source": [
    "# Duplicate the dataframe in case of crashes\n",
    "df1 = df.copy()"
   ]
  },
  {
   "cell_type": "code",
   "execution_count": 31,
   "metadata": {},
   "outputs": [
    {
     "data": {
      "text/html": [
       "<div>\n",
       "<style scoped>\n",
       "    .dataframe tbody tr th:only-of-type {\n",
       "        vertical-align: middle;\n",
       "    }\n",
       "\n",
       "    .dataframe tbody tr th {\n",
       "        vertical-align: top;\n",
       "    }\n",
       "\n",
       "    .dataframe thead th {\n",
       "        text-align: right;\n",
       "    }\n",
       "</style>\n",
       "<table border=\"1\" class=\"dataframe\">\n",
       "  <thead>\n",
       "    <tr style=\"text-align: right;\">\n",
       "      <th></th>\n",
       "      <th>timestamp</th>\n",
       "      <th>source</th>\n",
       "      <th>local_avg</th>\n",
       "      <th>remote_avg</th>\n",
       "    </tr>\n",
       "  </thead>\n",
       "  <tbody>\n",
       "    <tr>\n",
       "      <th>0</th>\n",
       "      <td>1.559041e+09</td>\n",
       "      <td>ethernet</td>\n",
       "      <td>0.19</td>\n",
       "      <td>8.14</td>\n",
       "    </tr>\n",
       "    <tr>\n",
       "      <th>1</th>\n",
       "      <td>1.559041e+09</td>\n",
       "      <td>ethernet</td>\n",
       "      <td>0.15</td>\n",
       "      <td>7.75</td>\n",
       "    </tr>\n",
       "    <tr>\n",
       "      <th>2</th>\n",
       "      <td>1.559041e+09</td>\n",
       "      <td>ethernet</td>\n",
       "      <td>0.15</td>\n",
       "      <td>8.68</td>\n",
       "    </tr>\n",
       "    <tr>\n",
       "      <th>3</th>\n",
       "      <td>1.559041e+09</td>\n",
       "      <td>ethernet</td>\n",
       "      <td>0.15</td>\n",
       "      <td>8.08</td>\n",
       "    </tr>\n",
       "    <tr>\n",
       "      <th>4</th>\n",
       "      <td>1.559041e+09</td>\n",
       "      <td>ethernet</td>\n",
       "      <td>0.15</td>\n",
       "      <td>8.20</td>\n",
       "    </tr>\n",
       "    <tr>\n",
       "      <th>...</th>\n",
       "      <td>...</td>\n",
       "      <td>...</td>\n",
       "      <td>...</td>\n",
       "      <td>...</td>\n",
       "    </tr>\n",
       "    <tr>\n",
       "      <th>69740</th>\n",
       "      <td>1.559691e+09</td>\n",
       "      <td>ethernet</td>\n",
       "      <td>0.15</td>\n",
       "      <td>8.70</td>\n",
       "    </tr>\n",
       "    <tr>\n",
       "      <th>69741</th>\n",
       "      <td>1.559691e+09</td>\n",
       "      <td>ethernet</td>\n",
       "      <td>0.15</td>\n",
       "      <td>8.43</td>\n",
       "    </tr>\n",
       "    <tr>\n",
       "      <th>69742</th>\n",
       "      <td>1.559691e+09</td>\n",
       "      <td>ethernet</td>\n",
       "      <td>0.15</td>\n",
       "      <td>8.71</td>\n",
       "    </tr>\n",
       "    <tr>\n",
       "      <th>69743</th>\n",
       "      <td>1.559691e+09</td>\n",
       "      <td>ethernet</td>\n",
       "      <td>0.15</td>\n",
       "      <td>8.42</td>\n",
       "    </tr>\n",
       "    <tr>\n",
       "      <th>69744</th>\n",
       "      <td>1.559691e+09</td>\n",
       "      <td>ethernet</td>\n",
       "      <td>0.15</td>\n",
       "      <td>9.12</td>\n",
       "    </tr>\n",
       "  </tbody>\n",
       "</table>\n",
       "<p>69745 rows × 4 columns</p>\n",
       "</div>"
      ],
      "text/plain": [
       "          timestamp    source  local_avg  remote_avg\n",
       "0      1.559041e+09  ethernet       0.19        8.14\n",
       "1      1.559041e+09  ethernet       0.15        7.75\n",
       "2      1.559041e+09  ethernet       0.15        8.68\n",
       "3      1.559041e+09  ethernet       0.15        8.08\n",
       "4      1.559041e+09  ethernet       0.15        8.20\n",
       "...             ...       ...        ...         ...\n",
       "69740  1.559691e+09  ethernet       0.15        8.70\n",
       "69741  1.559691e+09  ethernet       0.15        8.43\n",
       "69742  1.559691e+09  ethernet       0.15        8.71\n",
       "69743  1.559691e+09  ethernet       0.15        8.42\n",
       "69744  1.559691e+09  ethernet       0.15        9.12\n",
       "\n",
       "[69745 rows x 4 columns]"
      ]
     },
     "execution_count": 31,
     "metadata": {},
     "output_type": "execute_result"
    }
   ],
   "source": [
    "# Removing unncessary columns from the ping dataset\n",
    "df1 = df1.drop(['location', 'local_dest', 'remote_dest'], axis = 1)\n",
    "df1"
   ]
  },
  {
   "cell_type": "markdown",
   "metadata": {},
   "source": [
    "#### *Each header definition*\n",
    "- Timestamp: The current time of an event that is recorded\n",
    "- Source: Network Source\n",
    "- Local_avg: Response Time for local network (ms)\n",
    "- Remote_avg: Response time for remote network (ms)"
   ]
  },
  {
   "cell_type": "code",
   "execution_count": 32,
   "metadata": {},
   "outputs": [
    {
     "name": "stdout",
     "output_type": "stream",
     "text": [
      "      timestamp    source  local_avg  remote_avg  hour\n",
      "0  1.559041e+09  ethernet       0.19        8.14    10\n",
      "1  1.559041e+09  ethernet       0.15        7.75    10\n",
      "2  1.559041e+09  ethernet       0.15        8.68    10\n",
      "3  1.559041e+09  ethernet       0.15        8.08    10\n",
      "4  1.559041e+09  ethernet       0.15        8.20    10\n",
      "<class 'pandas.core.frame.DataFrame'>\n",
      "Int64Index: 69745 entries, 0 to 69744\n",
      "Data columns (total 5 columns):\n",
      " #   Column      Non-Null Count  Dtype  \n",
      "---  ------      --------------  -----  \n",
      " 0   timestamp   69745 non-null  float64\n",
      " 1   source      69745 non-null  object \n",
      " 2   local_avg   69745 non-null  float64\n",
      " 3   remote_avg  69745 non-null  float64\n",
      " 4   hour        69745 non-null  int32  \n",
      "dtypes: float64(3), int32(1), object(1)\n",
      "memory usage: 2.9+ MB\n",
      "None\n"
     ]
    }
   ],
   "source": [
    "# create a column that is the start of the range of hours of the day, show the head, show it has all 24 hours of the day\n",
    "#df1['hour'] = (df['timestamp'].astype(int) % 86400) / 14400\n",
    "df1['hour'] = (df['timestamp'].astype(int) % 86400) / 3600\n",
    "df1['hour'] = df1['hour'].astype(int)\n",
    "print(df1.head())\n",
    "df1['hour'].unique()\n",
    "print(df1.info())"
   ]
  },
  {
   "cell_type": "code",
   "execution_count": 33,
   "metadata": {},
   "outputs": [
    {
     "name": "stdout",
     "output_type": "stream",
     "text": [
      "9999.9999\n",
      "9999.9999\n",
      "          timestamp    source  local_avg  remote_avg  hour\n",
      "0      1.559041e+09  ethernet       0.19        8.14    10\n",
      "1      1.559041e+09  ethernet       0.15        7.75    10\n",
      "2      1.559041e+09  ethernet       0.15        8.68    10\n",
      "3      1.559041e+09  ethernet       0.15        8.08    10\n",
      "4      1.559041e+09  ethernet       0.15        8.20    10\n",
      "...             ...       ...        ...         ...   ...\n",
      "69740  1.559691e+09  ethernet       0.15        8.70    23\n",
      "69741  1.559691e+09  ethernet       0.15        8.43    23\n",
      "69742  1.559691e+09  ethernet       0.15        8.71    23\n",
      "69743  1.559691e+09  ethernet       0.15        8.42    23\n",
      "69744  1.559691e+09  ethernet       0.15        9.12    23\n",
      "\n",
      "[69745 rows x 5 columns]\n"
     ]
    }
   ],
   "source": [
    "# find the quartiles of the time data so we can create local average categorical variable\n",
    "print(df1['local_avg'].max())\n",
    "print(df1['remote_avg'].max())\n",
    "print(df1)"
   ]
  },
  {
   "cell_type": "code",
   "execution_count": 34,
   "metadata": {},
   "outputs": [
    {
     "name": "stdout",
     "output_type": "stream",
     "text": [
      "count    64290.000000\n",
      "mean         0.403038\n",
      "std         18.790955\n",
      "min          0.140000\n",
      "25%          0.150000\n",
      "50%          0.150000\n",
      "75%          0.150000\n",
      "max       2000.000000\n",
      "Name: local_avg, dtype: float64\n",
      "count    64290.000000\n",
      "mean        11.971681\n",
      "std         31.553788\n",
      "min          4.020000\n",
      "25%          8.150000\n",
      "50%          8.540000\n",
      "75%          9.200000\n",
      "max       2000.000000\n",
      "Name: remote_avg, dtype: float64\n"
     ]
    },
    {
     "data": {
      "image/png": "[encoded data removed]",
      "text/plain": [
       "<Figure size 360x1080 with 1 Axes>"
      ]
     },
     "metadata": {
      "needs_background": "light"
     },
     "output_type": "display_data"
    },
    {
     "data": {
      "image/png": "[encoded data removed]",
      "text/plain": [
       "<Figure size 360x1080 with 1 Axes>"
      ]
     },
     "metadata": {
      "needs_background": "light"
     },
     "output_type": "display_data"
    }
   ],
   "source": [
    "# remove the rows with avg of 9999.9999 since they are failures and will skew the data\n",
    "df1 = df1[(df1['local_avg'] != 9999.9999) & (df1['remote_avg'] != 9999.9999)]\n",
    "df1 = df1.reset_index()\n",
    "print(df1['local_avg'].describe())\n",
    "print(df1['remote_avg'].describe())\n",
    "df1['local_avg'].plot(figsize=(5,15))\n",
    "plt.show()\n",
    "df1['remote_avg'].plot(figsize=(5,15))\n",
    "plt.show()"
   ]
  },
  {
   "cell_type": "code",
   "execution_count": 35,
   "metadata": {},
   "outputs": [
    {
     "name": "stdout",
     "output_type": "stream",
     "text": [
      "['Large', 'Medium', 'Small']\n",
      "Categories (3, object): ['Small' < 'Medium' < 'Large']\n"
     ]
    }
   ],
   "source": [
    "# create the categorical variable local_delay for the local delay of low, average, high\n",
    "# we will leave in the 9999.9999 since they probably represent failures and should be placed the high\n",
    "#bins = [float('-inf'), 0.149, 0.151, float('inf')]\n",
    "bins = [float('-inf'), 0.149, 0.15, float('inf')]\n",
    "labels = ['Small', 'Medium', 'Large']\n",
    "df1['local_delay'] = pd.cut(df1['local_avg'], bins=bins, labels=labels)\n",
    "df1.head()\n",
    "print(df1['local_delay'].unique())\n"
   ]
  },
  {
   "cell_type": "code",
   "execution_count": 36,
   "metadata": {},
   "outputs": [
    {
     "name": "stdout",
     "output_type": "stream",
     "text": [
      "count    64290.000000\n",
      "mean        11.971681\n",
      "std         31.553788\n",
      "min          4.020000\n",
      "25%          8.150000\n",
      "50%          8.540000\n",
      "75%          9.200000\n",
      "max       2000.000000\n",
      "Name: remote_avg, dtype: float64\n"
     ]
    }
   ],
   "source": [
    "# find the quartiles of the time data so we can create local average categorical variable\n",
    "print(df1['remote_avg'].describe())\n"
   ]
  },
  {
   "cell_type": "code",
   "execution_count": 37,
   "metadata": {},
   "outputs": [
    {
     "name": "stdout",
     "output_type": "stream",
     "text": [
      "['Large', 'Medium', 'Small']\n",
      "Categories (3, object): ['Small' < 'Medium' < 'Large']\n"
     ]
    }
   ],
   "source": [
    "# create the categorical variable local_delay for the remote delay of low, average, high\n",
    "# we will leave in the 9999.9999 since they probably represent failures and should be placed the high\n",
    "bins = [float('-inf'), 8.15, 9.2, float('inf')]\n",
    "labels = ['Small', 'Medium', 'Large']\n",
    "df1['remote_delay'] = pd.cut(df1['remote_avg'], bins=bins, labels=labels)\n",
    "df1.head()\n",
    "print(df1['local_delay'].unique())\n"
   ]
  },
  {
   "cell_type": "code",
   "execution_count": 38,
   "metadata": {},
   "outputs": [],
   "source": [
    "# do a categorical variable for ismean for the local_avg because we have a lot\n",
    "# of them\n",
    "df1['ismean'] = 0\n",
    "df1.loc[df1[\"local_avg\"] == 0.15, \"ismean\"] = 1"
   ]
  },
  {
   "cell_type": "code",
   "execution_count": 39,
   "metadata": {},
   "outputs": [],
   "source": [
    "# do a categorical variable for large remote_avg greater than 1000 ms\n",
    "df1['big_remote_avg'] = 0\n",
    "df1.loc[df1['remote_avg'] >= 1000.0, \"big_remote_avg\"] = 1"
   ]
  },
  {
   "cell_type": "markdown",
   "metadata": {},
   "source": [
    "### Data Visualizations \n",
    "- Done by Viphu Nguyen"
   ]
  },
  {
   "cell_type": "code",
   "execution_count": 40,
   "metadata": {},
   "outputs": [
    {
     "data": {
      "text/plain": [
       "count    64290.000000\n",
       "mean         0.403038\n",
       "std         18.790955\n",
       "min          0.140000\n",
       "25%          0.150000\n",
       "50%          0.150000\n",
       "75%          0.150000\n",
       "max       2000.000000\n",
       "Name: local_avg, dtype: float64"
      ]
     },
     "execution_count": 40,
     "metadata": {},
     "output_type": "execute_result"
    },
    {
     "data": {
      "image/png": "[encoded data removed]",
      "text/plain": [
       "<Figure size 432x288 with 1 Axes>"
      ]
     },
     "metadata": {
      "needs_background": "light"
     },
     "output_type": "display_data"
    }
   ],
   "source": [
    "# Histogram for 'local_avg' response time (local) column\n",
    "df1.hist(column='local_avg', bins=200, grid=False, rwidth=.9, color='purple')\n",
    "df1['local_avg'].describe()"
   ]
  },
  {
   "cell_type": "code",
   "execution_count": 41,
   "metadata": {},
   "outputs": [
    {
     "data": {
      "text/plain": [
       "count    64290.000000\n",
       "mean        11.971681\n",
       "std         31.553788\n",
       "min          4.020000\n",
       "25%          8.150000\n",
       "50%          8.540000\n",
       "75%          9.200000\n",
       "max       2000.000000\n",
       "Name: remote_avg, dtype: float64"
      ]
     },
     "execution_count": 41,
     "metadata": {},
     "output_type": "execute_result"
    },
    {
     "data": {
      "image/png": "[encoded data removed]",
      "text/plain": [
       "<Figure size 432x288 with 1 Axes>"
      ]
     },
     "metadata": {
      "needs_background": "light"
     },
     "output_type": "display_data"
    }
   ],
   "source": [
    "# Histogram for 'remote_avg' response time (local) column\n",
    "df1.hist(column='remote_avg', bins=200, grid=False, rwidth=.9, color='purple')\n",
    "df1['remote_avg'].describe()"
   ]
  },
  {
   "cell_type": "markdown",
   "metadata": {},
   "source": [
    "Analysis: The histogram tells us that the the response time (ms) is estimated largely between 0 to 2,000 while there is a fewer amount at closer to 10,000 frequency for the response time between 8,000 to 10,000"
   ]
  },
  {
   "cell_type": "code",
   "execution_count": 42,
   "metadata": {},
   "outputs": [],
   "source": [
    "# Duplicate the dataframe in case of crashes\n",
    "df2 = df1.copy()"
   ]
  },
  {
   "cell_type": "code",
   "execution_count": 43,
   "metadata": {},
   "outputs": [
    {
     "name": "stdout",
     "output_type": "stream",
     "text": [
      "[2 1 0]\n",
      "[0 1 2]\n",
      "   ismean  big_remote_avg  local_delay_int  remote_delay_int\n",
      "0       0               0                2                 0\n",
      "1       1               0                1                 0\n",
      "2       1               0                1                 1\n",
      "3       1               0                1                 0\n",
      "4       1               0                1                 1\n",
      "0    10\n",
      "1    10\n",
      "2    10\n",
      "3    10\n",
      "4    10\n",
      "Name: hour, dtype: int32\n"
     ]
    }
   ],
   "source": [
    "# map the local_delay and remote_delay to integers since that is what is needed by the classifier\n",
    "df2['local_delay_int'] = df2['local_delay'].map({'Small':0, 'Medium':1, 'Large':2}).astype(int)\n",
    "df2['remote_delay_int'] = df2['remote_delay'].map({'Small':0, 'Medium':1, 'Large':2}).astype(int)\n",
    "print(df2['local_delay_int'].unique())\n",
    "print(df2['remote_delay_int'].unique())\n",
    "X = df2.drop(['index', 'timestamp', 'source', 'local_avg', 'remote_avg', 'local_delay', 'remote_delay', 'hour'], axis = 1)\n",
    "y = df2['hour']\n",
    "print(X.head())\n",
    "print(y.head())"
   ]
  },
  {
   "cell_type": "code",
   "execution_count": 44,
   "metadata": {},
   "outputs": [
    {
     "name": "stdout",
     "output_type": "stream",
     "text": [
      "       ismean  big_remote_avg  local_delay_int  remote_delay_int\n",
      "37688       1               0                1                 1\n",
      "28698       1               0                1                 0\n",
      "4298        1               0                1                 1\n",
      "34934       1               0                1                 1\n",
      "22472       1               0                1                 2\n",
      "...       ...             ...              ...               ...\n",
      "42697       1               0                1                 1\n",
      "36008       1               0                1                 0\n",
      "46265       1               0                1                 1\n",
      "23587       1               0                1                 0\n",
      "29313       0               0                2                 2\n",
      "\n",
      "[51432 rows x 4 columns] 37688    20\n",
      "28698    19\n",
      "4298     23\n",
      "34934    13\n",
      "22472     2\n",
      "         ..\n",
      "42697    10\n",
      "36008    16\n",
      "46265    20\n",
      "23587     5\n",
      "29313    21\n",
      "Name: hour, Length: 51432, dtype: int32\n"
     ]
    }
   ],
   "source": [
    "# split out the test and train datasets\n",
    "X_train, X_test, y_train, y_test= train_test_split(X, y,test_size=0.2,random_state=99)\n",
    "print(X_train, y_train)"
   ]
  },
  {
   "cell_type": "markdown",
   "metadata": {},
   "source": [
    "### Use scikit-learn for Logistic Regression and DecisionTree Classification, XGBoost, Keras, Pytorch to train, test and predict a categorical variable. Use appropriate metric and interpret themeaning of the score"
   ]
  },
  {
   "cell_type": "markdown",
   "metadata": {},
   "source": [
    "### Logistic Regression"
   ]
  },
  {
   "cell_type": "code",
   "execution_count": 45,
   "metadata": {},
   "outputs": [],
   "source": [
    "LogReg = LogisticRegression()\n",
    "\n",
    "scaler = preprocessing.StandardScaler()\n",
    "X_train = scaler.fit_transform(X_train)\n",
    "X_test = scaler.transform(X_test)\n",
    "\n",
    "LogReg.fit(X_train,y_train)\n",
    "\n",
    "y_pred=LogReg.predict(X_test)"
   ]
  },
  {
   "cell_type": "code",
   "execution_count": 46,
   "metadata": {},
   "outputs": [
    {
     "name": "stdout",
     "output_type": "stream",
     "text": [
      "Classes [ 0  1  2  3  4  5  6  7  8  9 10 11 12 13 14 15 16 17 18 19 20 21 22 23]\n",
      "Intercept [-0.14099822 -0.18836825 -0.21448302 -0.08903546 -0.03757543 -0.04334061\n",
      " -0.11135342 -0.1250854  -0.14170459 -0.07996194 -0.10877586  0.08761892\n",
      "  0.1158005   0.10849218  0.10684393  0.114739    0.11129795  0.11036097\n",
      "  0.10089179  0.09886773  0.09048997  0.11614667  0.07751222  0.04162037]\n",
      "Coefficients [[-0.04055158  0.08611368 -0.04831843  0.43655501]\n",
      " [-0.0118884   0.07212947  0.02927055  0.54693529]\n",
      " [ 0.10377955 -0.0231805   0.08635539  0.60275449]\n",
      " [-0.05444766 -0.01955955 -0.0698966   0.34599745]\n",
      " [-0.00673453 -0.01501846  0.0227079  -0.06273091]\n",
      " [-0.06004416 -0.0130072  -0.06857011 -0.2059365 ]\n",
      " [-0.10072869 -0.01081767 -0.10570279 -0.395942  ]\n",
      " [ 0.00430619 -0.01016198 -0.04121537 -0.42316961]\n",
      " [ 0.14684639 -0.00998008  0.13484092 -0.465906  ]\n",
      " [-0.03988571 -0.01110067 -0.08301843 -0.35491699]\n",
      " [-0.00978051 -0.01071131 -0.02892566 -0.39769254]\n",
      " [-0.08092499  0.08111144 -0.07403231 -0.19382692]\n",
      " [-0.01880114 -0.01593082 -0.0141043  -0.09418865]\n",
      " [-0.14699305 -0.01728191 -0.10741251 -0.01303279]\n",
      " [-0.02307234 -0.01776245 -0.01321765  0.06272784]\n",
      " [ 0.13229244 -0.01613681  0.1123819  -0.04340474]\n",
      " [ 0.02930043 -0.01667718  0.04640752 -0.03820279]\n",
      " [-0.0252932  -0.01714246  0.03227685 -0.04868639]\n",
      " [-0.03338871 -0.01687106 -0.04592776  0.0239702 ]\n",
      " [ 0.01046213 -0.01734041  0.00411286  0.05621516]\n",
      " [ 0.0353728  -0.01821314 -0.01067231  0.17739598]\n",
      " [ 0.02962758 -0.01855893  0.05054157  0.10124385]\n",
      " [ 0.1995938   0.07502378  0.24348903  0.16346808]\n",
      " [-0.03904664 -0.0189258  -0.05137025  0.2203735 ]]\n"
     ]
    }
   ],
   "source": [
    "print('Classes', LogReg.classes_)\n",
    "print('Intercept',LogReg.intercept_)\n",
    "print(\"Coefficients\", LogReg.coef_ )"
   ]
  },
  {
   "cell_type": "code",
   "execution_count": 47,
   "metadata": {},
   "outputs": [
    {
     "name": "stdout",
     "output_type": "stream",
     "text": [
      "Accuracy 0.05949603359776015\n",
      "              precision    recall  f1-score   support\n",
      "\n",
      "           0       1.00      0.00      0.00       532\n",
      "           1       0.07      0.08      0.08       524\n",
      "           2       0.09      0.44      0.14       520\n",
      "           3       0.00      0.00      0.00       501\n",
      "           4       0.00      0.00      0.00       512\n",
      "           5       0.00      0.00      0.00       486\n",
      "           6       0.11      0.00      0.00       515\n",
      "           7       0.00      0.00      0.00       521\n",
      "           8       0.07      0.44      0.12       517\n",
      "           9       0.00      0.00      0.00       478\n",
      "          10       0.00      0.00      0.00       529\n",
      "          11       0.00      0.00      0.00       564\n",
      "          12       0.00      0.00      0.00       536\n",
      "          13       0.00      0.00      0.00       556\n",
      "          14       0.00      0.00      0.00       556\n",
      "          15       0.04      0.41      0.08       540\n",
      "          16       0.00      0.00      0.00       554\n",
      "          17       0.04      0.08      0.05       551\n",
      "          18       0.00      0.00      0.00       580\n",
      "          19       0.00      0.00      0.00       576\n",
      "          20       0.00      0.00      0.00       565\n",
      "          21       0.00      0.00      0.00       531\n",
      "          22       0.00      0.00      0.00       593\n",
      "          23       0.00      0.00      0.00       521\n",
      "\n",
      "    accuracy                           0.06     12858\n",
      "   macro avg       0.06      0.06      0.02     12858\n",
      "weighted avg       0.06      0.06      0.02     12858\n",
      "\n"
     ]
    },
    {
     "name": "stderr",
     "output_type": "stream",
     "text": [
      "C:\\ProgramData\\Anaconda3\\lib\\site-packages\\sklearn\\metrics\\_classification.py:1221: UndefinedMetricWarning: Precision and F-score are ill-defined and being set to 0.0 in labels with no predicted samples. Use `zero_division` parameter to control this behavior.\n",
      "  _warn_prf(average, modifier, msg_start, len(result))\n"
     ]
    }
   ],
   "source": [
    "print(\"Accuracy\", LogReg.score(X_test, y_test))\n",
    "print(classification_report(y_test, LogReg.predict(X_test)))"
   ]
  },
  {
   "cell_type": "markdown",
   "metadata": {},
   "source": [
    "### Decision Tree\n",
    "- Done by Viphu Nguyen and Eric Topmiller"
   ]
  },
  {
   "cell_type": "code",
   "execution_count": 48,
   "metadata": {},
   "outputs": [],
   "source": [
    "clf = DecisionTreeClassifier(criterion='entropy', random_state=99)"
   ]
  },
  {
   "cell_type": "code",
   "execution_count": 49,
   "metadata": {},
   "outputs": [
    {
     "data": {
      "text/plain": [
       "0.06081816767771037"
      ]
     },
     "execution_count": 49,
     "metadata": {},
     "output_type": "execute_result"
    }
   ],
   "source": [
    "clf.fit(X_train,y_train)\n",
    "y_pred= clf.predict(X_test)\n",
    "accuracy_score(y_test, y_pred)"
   ]
  },
  {
   "cell_type": "markdown",
   "metadata": {},
   "source": [
    "##### Plot a Decision Tree"
   ]
  },
  {
   "cell_type": "code",
   "execution_count": 50,
   "metadata": {},
   "outputs": [
    {
     "data": {
      "image/png": "[encoded data removed]",
      "text/plain": [
       "<Figure size 864x864 with 1 Axes>"
      ]
     },
     "metadata": {
      "needs_background": "light"
     },
     "output_type": "display_data"
    }
   ],
   "source": [
    "fig, ax = plt.subplots(figsize=(12, 12))\n",
    "tree.plot_tree(decision_tree=clf, max_depth= 2,fontsize=12);"
   ]
  },
  {
   "cell_type": "markdown",
   "metadata": {},
   "source": [
    "###  Show feature importance in XGBoost by using xgb.plot.importance"
   ]
  },
  {
   "cell_type": "code",
   "execution_count": 51,
   "metadata": {},
   "outputs": [
    {
     "name": "stdout",
     "output_type": "stream",
     "text": [
      "Requirement already satisfied: xgboost in c:\\programdata\\anaconda3\\lib\\site-packages (1.6.0)\n",
      "Requirement already satisfied: scipy in c:\\programdata\\anaconda3\\lib\\site-packages (from xgboost) (1.5.2)\n",
      "Requirement already satisfied: numpy in c:\\programdata\\anaconda3\\lib\\site-packages (from xgboost) (1.19.2)\n",
      "accuracy: 0.060429\n"
     ]
    }
   ],
   "source": [
    "!pip install xgboost\n",
    "import xgboost as xgb\n",
    "xg_cl = xgb.XGBClassifier(objective='binary:logistic', max_depth=10, n_estimators=20, seed=99) \n",
    "xg_cl.fit(X_train, y_train)\n",
    "preds = xg_cl.predict(X_test)\n",
    "accuracy = float(np.sum(preds==y_test))/y_test.shape[0]\n",
    "print(\"accuracy: %f\" % (accuracy))"
   ]
  },
  {
   "cell_type": "markdown",
   "metadata": {},
   "source": [
    "## Keras"
   ]
  },
  {
   "cell_type": "code",
   "execution_count": 52,
   "metadata": {},
   "outputs": [],
   "source": [
    "#!pip install tensorflow --user\n",
    "#from tensorflow.keras import layers, losses\n",
    "#from tensorflow.keras.datasets import fashion_mnist\n",
    "#from tensorflow.keras.models import Model"
   ]
  },
  {
   "cell_type": "code",
   "execution_count": null,
   "metadata": {},
   "outputs": [],
   "source": []
  },
  {
   "cell_type": "markdown",
   "metadata": {},
   "source": [
    "### Compare the results of the algorithms (comparison, conclusion, challenges...etc.)"
   ]
  },
  {
   "cell_type": "markdown",
   "metadata": {},
   "source": [
    "### Outcome of our analysis"
   ]
  }
 ],
 "metadata": {
  "interpreter": {
   "hash": "8de1bb01c2428b23fd1b239bce59c3de0408e0bcefc62ecc36a17fc4e3b0c588"
  },
  "kernelspec": {
   "display_name": "Python 3",
   "language": "python",
   "name": "python3"
  },
  "language_info": {
   "codemirror_mode": {
    "name": "ipython",
    "version": 3
   },
   "file_extension": ".py",
   "mimetype": "text/x-python",
   "name": "python",
   "nbconvert_exporter": "python",
   "pygments_lexer": "ipython3",
   "version": "3.8.5"
  }
 },
 "nbformat": 4,
 "nbformat_minor": 2
}
