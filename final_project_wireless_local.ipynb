{
 "cells": [
  {
   "cell_type": "markdown",
   "metadata": {},
   "source": [
    "# Final Project on Supervised Learning"
   ]
  },
  {
   "cell_type": "markdown",
   "metadata": {},
   "source": [
    "### LAN and WAN Response Analysis \n",
    "- Description: The source of our data comes from the variablity of a LAN network when it is connecting to the Internet. The data is collected by the ping response time from the devices of the local internet router and to the first-hop server on the internet.\n",
    "- Group Members: Eric Topmiller, Viphu Nguyen, David Gigremosa, Paul Rozario"
   ]
  },
  {
   "cell_type": "markdown",
   "metadata": {},
   "source": [
    "Question to Answer: What is the worst time of day for ping response with ethernet and wireless for both LAN and WAN?"
   ]
  },
  {
   "cell_type": "code",
   "execution_count": 2,
   "metadata": {},
   "outputs": [],
   "source": [
    "\n",
    "# Import libraries\n",
    "\n",
    "import numpy as np\n",
    "import pandas as pd \n",
    "import matplotlib.pyplot as plt \n",
    "import seaborn as sns \n",
    "from datetime import datetime\n",
    "from sklearn.linear_model import LogisticRegression\n",
    "from sklearn import tree\n",
    "from sklearn.tree import DecisionTreeClassifier\n",
    "from sklearn.model_selection import train_test_split\n",
    "from sklearn.metrics import accuracy_score\n",
    "from sklearn.metrics import classification_report, confusion_matrix\n",
    "from sklearn.metrics import roc_auc_score, roc_curve, accuracy_score\n",
    "from sklearn.metrics import precision_score, recall_score\n",
    "from sklearn import preprocessing\n",
    "import matplotlib.pyplot as plt\n",
    "from matplotlib import style"
   ]
  },
  {
   "cell_type": "code",
   "execution_count": 3,
   "metadata": {},
   "outputs": [],
   "source": [
    "# Set the dataset from the network csv\n",
    "df = pd.read_csv('ping_data.csv')\n",
    "df.head()\n",
    "df.sort_values('timestamp', inplace=True)"
   ]
  },
  {
   "cell_type": "markdown",
   "metadata": {},
   "source": [
    "### Data Wrangling and Filtering the Data\n",
    "- Done by Viphu Nguyen"
   ]
  },
  {
   "cell_type": "code",
   "execution_count": 4,
   "metadata": {},
   "outputs": [
    {
     "data": {
      "text/plain": [
       "timestamp      0\n",
       "location       0\n",
       "source         0\n",
       "local_dest     0\n",
       "local_avg      0\n",
       "remote_dest    0\n",
       "remote_avg     0\n",
       "dtype: int64"
      ]
     },
     "execution_count": 4,
     "metadata": {},
     "output_type": "execute_result"
    }
   ],
   "source": [
    "# Finding the missing values from the ping dataset\n",
    "df.isna().sum()"
   ]
  },
  {
   "cell_type": "code",
   "execution_count": 9,
   "metadata": {},
   "outputs": [],
   "source": [
    "# Duplicate the dataframe in case of crashes\n",
    "df1 = df.copy()"
   ]
  },
  {
   "cell_type": "code",
   "execution_count": 10,
   "metadata": {},
   "outputs": [
    {
     "data": {
      "text/html": [
       "<div>\n",
       "<style scoped>\n",
       "    .dataframe tbody tr th:only-of-type {\n",
       "        vertical-align: middle;\n",
       "    }\n",
       "\n",
       "    .dataframe tbody tr th {\n",
       "        vertical-align: top;\n",
       "    }\n",
       "\n",
       "    .dataframe thead th {\n",
       "        text-align: right;\n",
       "    }\n",
       "</style>\n",
       "<table border=\"1\" class=\"dataframe\">\n",
       "  <thead>\n",
       "    <tr style=\"text-align: right;\">\n",
       "      <th></th>\n",
       "      <th>timestamp</th>\n",
       "      <th>source</th>\n",
       "      <th>local_avg</th>\n",
       "      <th>remote_avg</th>\n",
       "    </tr>\n",
       "  </thead>\n",
       "  <tbody>\n",
       "    <tr>\n",
       "      <th>0</th>\n",
       "      <td>1559040909</td>\n",
       "      <td>wireless</td>\n",
       "      <td>4.39</td>\n",
       "      <td>9.09</td>\n",
       "    </tr>\n",
       "    <tr>\n",
       "      <th>1</th>\n",
       "      <td>1559040920</td>\n",
       "      <td>wireless</td>\n",
       "      <td>0.49</td>\n",
       "      <td>16.75</td>\n",
       "    </tr>\n",
       "    <tr>\n",
       "      <th>2</th>\n",
       "      <td>1559040930</td>\n",
       "      <td>wireless</td>\n",
       "      <td>0.56</td>\n",
       "      <td>8.31</td>\n",
       "    </tr>\n",
       "    <tr>\n",
       "      <th>3</th>\n",
       "      <td>1559040940</td>\n",
       "      <td>wireless</td>\n",
       "      <td>1.64</td>\n",
       "      <td>9.40</td>\n",
       "    </tr>\n",
       "    <tr>\n",
       "      <th>4</th>\n",
       "      <td>1559040950</td>\n",
       "      <td>wireless</td>\n",
       "      <td>1.18</td>\n",
       "      <td>9.07</td>\n",
       "    </tr>\n",
       "    <tr>\n",
       "      <th>...</th>\n",
       "      <td>...</td>\n",
       "      <td>...</td>\n",
       "      <td>...</td>\n",
       "      <td>...</td>\n",
       "    </tr>\n",
       "    <tr>\n",
       "      <th>72458</th>\n",
       "      <td>1559690659</td>\n",
       "      <td>wireless</td>\n",
       "      <td>0.83</td>\n",
       "      <td>7.85</td>\n",
       "    </tr>\n",
       "    <tr>\n",
       "      <th>72459</th>\n",
       "      <td>1559690670</td>\n",
       "      <td>wireless</td>\n",
       "      <td>0.84</td>\n",
       "      <td>8.88</td>\n",
       "    </tr>\n",
       "    <tr>\n",
       "      <th>72460</th>\n",
       "      <td>1559690680</td>\n",
       "      <td>wireless</td>\n",
       "      <td>5.73</td>\n",
       "      <td>10.92</td>\n",
       "    </tr>\n",
       "    <tr>\n",
       "      <th>72461</th>\n",
       "      <td>1559690690</td>\n",
       "      <td>wireless</td>\n",
       "      <td>0.19</td>\n",
       "      <td>10.00</td>\n",
       "    </tr>\n",
       "    <tr>\n",
       "      <th>72462</th>\n",
       "      <td>1559690700</td>\n",
       "      <td>wireless</td>\n",
       "      <td>0.72</td>\n",
       "      <td>8.36</td>\n",
       "    </tr>\n",
       "  </tbody>\n",
       "</table>\n",
       "<p>72463 rows × 4 columns</p>\n",
       "</div>"
      ],
      "text/plain": [
       "        timestamp    source  local_avg  remote_avg\n",
       "0      1559040909  wireless       4.39        9.09\n",
       "1      1559040920  wireless       0.49       16.75\n",
       "2      1559040930  wireless       0.56        8.31\n",
       "3      1559040940  wireless       1.64        9.40\n",
       "4      1559040950  wireless       1.18        9.07\n",
       "...           ...       ...        ...         ...\n",
       "72458  1559690659  wireless       0.83        7.85\n",
       "72459  1559690670  wireless       0.84        8.88\n",
       "72460  1559690680  wireless       5.73       10.92\n",
       "72461  1559690690  wireless       0.19       10.00\n",
       "72462  1559690700  wireless       0.72        8.36\n",
       "\n",
       "[72463 rows x 4 columns]"
      ]
     },
     "execution_count": 10,
     "metadata": {},
     "output_type": "execute_result"
    }
   ],
   "source": [
    "df1 = df1.drop(['location', 'local_dest', 'remote_dest'], axis = 1)\n",
    "df1"
   ]
  },
  {
   "cell_type": "markdown",
   "metadata": {},
   "source": [
    "#### *Each header definition*\n",
    "- Timestamp: The current time of an event that is recorded\n",
    "- Source: Network Source\n",
    "- Local_avg: Response Time for local network (ms)\n",
    "- Remote_avg: Response time for remote network (ms)"
   ]
  },
  {
   "cell_type": "code",
   "execution_count": 11,
   "metadata": {},
   "outputs": [
    {
     "name": "stdout",
     "output_type": "stream",
     "text": [
      "    timestamp    source  local_avg  remote_avg  hour\n",
      "0  1559040909  wireless       4.39        9.09     1\n",
      "1  1559040920  wireless       0.49       16.75     1\n",
      "2  1559040930  wireless       0.56        8.31     1\n",
      "3  1559040940  wireless       1.64        9.40     1\n",
      "4  1559040950  wireless       1.18        9.07     1\n",
      "[1 2 0]\n",
      "<class 'pandas.core.frame.DataFrame'>\n",
      "Int64Index: 72463 entries, 0 to 72462\n",
      "Data columns (total 5 columns):\n",
      " #   Column      Non-Null Count  Dtype  \n",
      "---  ------      --------------  -----  \n",
      " 0   timestamp   72463 non-null  int64  \n",
      " 1   source      72463 non-null  object \n",
      " 2   local_avg   72463 non-null  float64\n",
      " 3   remote_avg  72463 non-null  float64\n",
      " 4   hour        72463 non-null  int32  \n",
      "dtypes: float64(2), int32(1), int64(1), object(1)\n",
      "memory usage: 3.0+ MB\n",
      "None\n"
     ]
    }
   ],
   "source": [
    "# create a column that is the start of the range of hours of the day, show the head, show it has all 24 hours of the day\n",
    "#df1['hour'] = (df['timestamp'].astype(int) % 86400) / 14400\n",
    "df1['hour'] = (df['timestamp'].astype(int) % 86400) / 28800\n",
    "df1['hour'] = df1['hour'].astype(int)\n",
    "print(df1.head())\n",
    "print(df1['hour'].unique())\n",
    "print(df1.info())"
   ]
  },
  {
   "cell_type": "code",
   "execution_count": 12,
   "metadata": {},
   "outputs": [
    {
     "name": "stdout",
     "output_type": "stream",
     "text": [
      "count    72463.000000\n",
      "mean      1228.909344\n",
      "std       3267.419743\n",
      "min          0.150000\n",
      "25%          0.310000\n",
      "50%          0.730000\n",
      "75%          2.000000\n",
      "max       9999.999900\n",
      "Name: local_avg, dtype: float64\n",
      "count    72463.000000\n",
      "mean      1238.649549\n",
      "std       3263.714778\n",
      "min          2.350000\n",
      "25%          8.700000\n",
      "50%          9.550000\n",
      "75%         13.310000\n",
      "max       9999.999900\n",
      "Name: remote_avg, dtype: float64\n"
     ]
    },
    {
     "data": {
      "image/png": "[encoded data removed]",
      "text/plain": [
       "<Figure size 360x2160 with 1 Axes>"
      ]
     },
     "metadata": {
      "needs_background": "light"
     },
     "output_type": "display_data"
    }
   ],
   "source": [
    "# remove the rows with avg of 9999.9999 since they are failures and will skew the data\n",
    "#df1 = df1[(df1['local_avg'] != 9999) & (df1['remote_avg'] < 1000.0)]\n",
    "df1 = df1.reset_index()\n",
    "print(df1['local_avg'].describe())\n",
    "print(df1['remote_avg'].describe())\n",
    "# for plotting throw out the large values so we can better see the more common local_avg\n",
    "df_small_local = df1[(df1['local_avg'] < 500)]\n",
    "df_small_local['local_avg'].plot(figsize=(5,30))\n",
    "plt.show()"
   ]
  },
  {
   "cell_type": "code",
   "execution_count": 13,
   "metadata": {},
   "outputs": [
    {
     "name": "stdout",
     "output_type": "stream",
     "text": [
      "count    72463.000000\n",
      "mean      1228.909344\n",
      "std       3267.419743\n",
      "min          0.150000\n",
      "25%          0.310000\n",
      "50%          0.730000\n",
      "75%          2.000000\n",
      "max       9999.999900\n",
      "Name: local_avg, dtype: float64\n"
     ]
    }
   ],
   "source": [
    "# find the quartiles of the time data so we can create local average categorical variable\n",
    "print(df1['local_avg'].describe())"
   ]
  },
  {
   "cell_type": "code",
   "execution_count": 14,
   "metadata": {},
   "outputs": [
    {
     "name": "stdout",
     "output_type": "stream",
     "text": [
      "['Large', 'Medium']\n",
      "Categories (2, object): ['Medium' < 'Large']\n"
     ]
    }
   ],
   "source": [
    "# create the categorical variable local_delay for the local delay of low, average, high using the quartiles\n",
    "# we will leave in the 9999.9999 since they probably represent failures and should be placed the high\n",
    "bins = [float('-inf'), 0.149, 0.15, float('inf')]\n",
    "labels = ['Small', 'Medium', 'Large']\n",
    "df1['local_delay'] = pd.cut(df1['local_avg'], bins=bins, labels=labels)\n",
    "df1.head()\n",
    "print(df1['local_delay'].unique())"
   ]
  },
  {
   "cell_type": "code",
   "execution_count": 15,
   "metadata": {},
   "outputs": [],
   "source": [
    "# do a categorical variable for ismean for the local_avg because we have a lot\n",
    "# of them\n",
    "df1['ismean'] = 0\n",
    "df1.loc[df1[\"local_avg\"] == 0.15, \"ismean\"] = 1"
   ]
  },
  {
   "cell_type": "code",
   "execution_count": 16,
   "metadata": {},
   "outputs": [],
   "source": [
    "# do some range categorical variables to section off the dataset based on the plot of local_avg below 500\n",
    "df1['gr500'] = 0\n",
    "df1.loc[df1['local_avg'] > 500.0, 'gr500'] = 1\n",
    "df1['gr55'] = 0\n",
    "df1.loc[(df1['local_avg'] > 55.0) & (df1['local_avg'] <= 500.0), 'gr55'] = 1\n",
    "df1['gr40'] = 0\n",
    "df1.loc[(df1['local_avg'] > 40.0) & (df1['local_avg'] <= 55.0), 'gr40'] = 1\n",
    "df1['gr30'] = 0\n",
    "df1.loc[(df1['local_avg'] > 30.0) & (df1['local_avg'] <= 40.0), 'gr30'] = 1\n",
    "df1['gr20'] = 0\n",
    "df1.loc[(df1['local_avg'] > 20.0) & (df1['local_avg'] <= 30.0), 'gr20'] = 1\n",
    "df1['gr10'] = 0\n",
    "df1.loc[(df1['local_avg'] > 10.0) & (df1['local_avg'] <= 20.0), 'gr10'] = 1\n",
    "df1['gr0'] = 0\n",
    "df1.loc[df1['local_avg'] <= 10.0, 'gr0'] = 1"
   ]
  },
  {
   "cell_type": "markdown",
   "metadata": {},
   "source": [
    "### Data Visualizations \n",
    "- Done by Viphu Nguyen"
   ]
  },
  {
   "cell_type": "code",
   "execution_count": 11,
   "metadata": {},
   "outputs": [
    {
     "data": {
      "text/plain": [
       "array([[<AxesSubplot:title={'center':'local_avg'}>]], dtype=object)"
      ]
     },
     "execution_count": 11,
     "metadata": {},
     "output_type": "execute_result"
    },
    {
     "data": {
      "image/png": "[encoded data removed]",
      "text/plain": [
       "<Figure size 432x288 with 1 Axes>"
      ]
     },
     "metadata": {
      "needs_background": "light"
     },
     "output_type": "display_data"
    }
   ],
   "source": [
    "# Histogram for 'local_avg' response time (local) column\n",
    "df1.hist(column='local_avg', bins=5, grid=False, rwidth=.9, color='purple')"
   ]
  },
  {
   "cell_type": "markdown",
   "metadata": {},
   "source": [
    "Analysis: The histogram tells us that the the response time (ms) is estimated largely between 0 to 2,000 while there is a fewer amount at closer to 10,000 frequency for the response time between 8,000 to 10,000"
   ]
  },
  {
   "cell_type": "markdown",
   "metadata": {},
   "source": [
    "### Use scikit-learn for Logistic Regression and DecisionTree Classification, XGBoost, Keras, Pytorch to train, test and predict a categorical variable. Use appropriate metric and interpret themeaning of the score"
   ]
  },
  {
   "cell_type": "markdown",
   "metadata": {},
   "source": [
    "### Decision Tree\n",
    "- Done by Viphu Nguyen"
   ]
  },
  {
   "cell_type": "code",
   "execution_count": 15,
   "metadata": {},
   "outputs": [],
   "source": [
    "# Duplicate the dataframe in case of crashes\n",
    "df2 = df1.copy()"
   ]
  },
  {
   "cell_type": "code",
   "execution_count": 18,
   "metadata": {},
   "outputs": [],
   "source": [
    "X = df2.drop(['location', 'source', 'local_dest', 'remote_dest'], axis = 1)\n",
    "y = df2['local_dest']"
   ]
  },
  {
   "cell_type": "code",
   "execution_count": 19,
   "metadata": {},
   "outputs": [],
   "source": [
    "X_train, X_test, y_train, y_test= train_test_split(X, y,test_size=0.2,random_state=99)\n",
    "\n",
    "clf = DecisionTreeClassifier(criterion='entropy', random_state=99)"
   ]
  },
  {
   "cell_type": "code",
   "execution_count": 20,
   "metadata": {},
   "outputs": [
    {
     "data": {
      "text/plain": [
       "1.0"
      ]
     },
     "execution_count": 20,
     "metadata": {},
     "output_type": "execute_result"
    }
   ],
   "source": [
    "clf.fit(X_train,y_train)\n",
    "y_pred= clf.predict(X_test)\n",
    "accuracy_score(y_test, y_pred)"
   ]
  },
  {
   "cell_type": "markdown",
   "metadata": {},
   "source": [
    "##### Plot a Decision Tree"
   ]
  },
  {
   "cell_type": "code",
   "execution_count": 21,
   "metadata": {},
   "outputs": [
    {
     "data": {
      "image/png": "[encoded data removed]",
      "text/plain": [
       "<Figure size 864x864 with 1 Axes>"
      ]
     },
     "metadata": {
      "needs_background": "light"
     },
     "output_type": "display_data"
    }
   ],
   "source": [
    "fig, ax = plt.subplots(figsize=(12, 12))\n",
    "tree.plot_tree(decision_tree=clf, max_depth= 3,fontsize=12);"
   ]
  }
 ],
 "metadata": {
  "interpreter": {
   "hash": "e3257dd6bb7ac5f2a2209d12b9ac77c9cd3e930a64993a400625cc1af97630f6"
  },
  "kernelspec": {
   "display_name": "Python 3.9.12 64-bit (windows store)",
   "language": "python",
   "name": "python3"
  },
  "language_info": {
   "codemirror_mode": {
    "name": "ipython",
    "version": 3
   },
   "file_extension": ".py",
   "mimetype": "text/x-python",
   "name": "python",
   "nbconvert_exporter": "python",
   "pygments_lexer": "ipython3",
   "version": "3.9.12"
  },
  "orig_nbformat": 4
 },
 "nbformat": 4,
 "nbformat_minor": 2
}
