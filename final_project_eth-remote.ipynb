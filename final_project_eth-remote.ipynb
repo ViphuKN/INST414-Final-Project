{
 "cells": [
  {
   "cell_type": "markdown",
   "metadata": {},
   "source": [
    "# Final Project on Supervised Learning"
   ]
  },
  {
   "cell_type": "markdown",
   "metadata": {},
   "source": [
    "### LAN and WAN Response Analysis \n",
    "- Description: The source of our data comes from the variablity of a LAN network when it is connecting to the Internet. The data is collected by the ping response time from the devices of the local internet router and to the first-hop server on the internet.\n",
    "- Group Members: Eric Topmiller, Viphu Nguyen, David Gigremosa, Paul Rozario"
   ]
  },
  {
   "cell_type": "markdown",
   "metadata": {},
   "source": [
    "Question to Answer: What is the worst time of day for ping response with ethernet and wireless for both LAN and WAN?"
   ]
  },
  {
   "cell_type": "code",
   "execution_count": 88,
   "metadata": {},
   "outputs": [],
   "source": [
    "\n",
    "# Import libraries\n",
    "import sys\n",
    "# sys.path.append('C:\\\\Users\\\\mgwyn_dgsghje\\\\AppData\\\\Roaming\\\\Python\\\\Python38\\\\Scripts')\n",
    "# !pip install numpy --user --upgrade --ignore-installed\n",
    "import numpy as np\n",
    "import pandas as pd \n",
    "import matplotlib.pyplot as plt \n",
    "import seaborn as sns \n",
    "from datetime import datetime\n",
    "from sklearn.linear_model import LogisticRegression\n",
    "from sklearn import tree\n",
    "from sklearn.tree import DecisionTreeClassifier\n",
    "from sklearn.model_selection import train_test_split\n",
    "from sklearn.metrics import accuracy_score\n",
    "from sklearn.metrics import classification_report, confusion_matrix\n",
    "from sklearn.metrics import roc_auc_score, roc_curve, accuracy_score\n",
    "from sklearn.metrics import precision_score, recall_score\n",
    "from sklearn import preprocessing\n",
    "import matplotlib.pyplot as plt\n",
    "from matplotlib import style"
   ]
  },
  {
   "cell_type": "code",
   "execution_count": 89,
   "metadata": {},
   "outputs": [],
   "source": [
    "# Set the dataset from the network csv\n",
    "df = pd.read_csv('ping_data_rp829c7e0e_eth.csv')\n",
    "df.head()\n",
    "df.sort_values('timestamp', inplace=True)"
   ]
  },
  {
   "cell_type": "markdown",
   "metadata": {},
   "source": [
    "### Data Wrangling and Filtering the Data\n",
    "- Done by Viphu Nguyen and Eric Topmiller"
   ]
  },
  {
   "cell_type": "code",
   "execution_count": 90,
   "metadata": {},
   "outputs": [
    {
     "data": {
      "text/plain": [
       "timestamp      0\n",
       "location       0\n",
       "source         0\n",
       "local_dest     0\n",
       "local_avg      0\n",
       "remote_dest    0\n",
       "remote_avg     0\n",
       "dtype: int64"
      ]
     },
     "execution_count": 90,
     "metadata": {},
     "output_type": "execute_result"
    }
   ],
   "source": [
    "# Finding the missing values from the ping dataset\n",
    "df.isna().sum()"
   ]
  },
  {
   "cell_type": "code",
   "execution_count": 91,
   "metadata": {},
   "outputs": [],
   "source": [
    "# Duplicate the dataframe in case of crashes\n",
    "df1 = df.copy()"
   ]
  },
  {
   "cell_type": "code",
   "execution_count": 92,
   "metadata": {},
   "outputs": [
    {
     "data": {
      "text/html": [
       "<div>\n",
       "<style scoped>\n",
       "    .dataframe tbody tr th:only-of-type {\n",
       "        vertical-align: middle;\n",
       "    }\n",
       "\n",
       "    .dataframe tbody tr th {\n",
       "        vertical-align: top;\n",
       "    }\n",
       "\n",
       "    .dataframe thead th {\n",
       "        text-align: right;\n",
       "    }\n",
       "</style>\n",
       "<table border=\"1\" class=\"dataframe\">\n",
       "  <thead>\n",
       "    <tr style=\"text-align: right;\">\n",
       "      <th></th>\n",
       "      <th>timestamp</th>\n",
       "      <th>source</th>\n",
       "      <th>local_avg</th>\n",
       "      <th>remote_avg</th>\n",
       "    </tr>\n",
       "  </thead>\n",
       "  <tbody>\n",
       "    <tr>\n",
       "      <th>0</th>\n",
       "      <td>1.559041e+09</td>\n",
       "      <td>ethernet</td>\n",
       "      <td>0.19</td>\n",
       "      <td>8.14</td>\n",
       "    </tr>\n",
       "    <tr>\n",
       "      <th>1</th>\n",
       "      <td>1.559041e+09</td>\n",
       "      <td>ethernet</td>\n",
       "      <td>0.15</td>\n",
       "      <td>7.75</td>\n",
       "    </tr>\n",
       "    <tr>\n",
       "      <th>2</th>\n",
       "      <td>1.559041e+09</td>\n",
       "      <td>ethernet</td>\n",
       "      <td>0.15</td>\n",
       "      <td>8.68</td>\n",
       "    </tr>\n",
       "    <tr>\n",
       "      <th>3</th>\n",
       "      <td>1.559041e+09</td>\n",
       "      <td>ethernet</td>\n",
       "      <td>0.15</td>\n",
       "      <td>8.08</td>\n",
       "    </tr>\n",
       "    <tr>\n",
       "      <th>4</th>\n",
       "      <td>1.559041e+09</td>\n",
       "      <td>ethernet</td>\n",
       "      <td>0.15</td>\n",
       "      <td>8.20</td>\n",
       "    </tr>\n",
       "    <tr>\n",
       "      <th>...</th>\n",
       "      <td>...</td>\n",
       "      <td>...</td>\n",
       "      <td>...</td>\n",
       "      <td>...</td>\n",
       "    </tr>\n",
       "    <tr>\n",
       "      <th>69740</th>\n",
       "      <td>1.559691e+09</td>\n",
       "      <td>ethernet</td>\n",
       "      <td>0.15</td>\n",
       "      <td>8.70</td>\n",
       "    </tr>\n",
       "    <tr>\n",
       "      <th>69741</th>\n",
       "      <td>1.559691e+09</td>\n",
       "      <td>ethernet</td>\n",
       "      <td>0.15</td>\n",
       "      <td>8.43</td>\n",
       "    </tr>\n",
       "    <tr>\n",
       "      <th>69742</th>\n",
       "      <td>1.559691e+09</td>\n",
       "      <td>ethernet</td>\n",
       "      <td>0.15</td>\n",
       "      <td>8.71</td>\n",
       "    </tr>\n",
       "    <tr>\n",
       "      <th>69743</th>\n",
       "      <td>1.559691e+09</td>\n",
       "      <td>ethernet</td>\n",
       "      <td>0.15</td>\n",
       "      <td>8.42</td>\n",
       "    </tr>\n",
       "    <tr>\n",
       "      <th>69744</th>\n",
       "      <td>1.559691e+09</td>\n",
       "      <td>ethernet</td>\n",
       "      <td>0.15</td>\n",
       "      <td>9.12</td>\n",
       "    </tr>\n",
       "  </tbody>\n",
       "</table>\n",
       "<p>69745 rows × 4 columns</p>\n",
       "</div>"
      ],
      "text/plain": [
       "          timestamp    source  local_avg  remote_avg\n",
       "0      1.559041e+09  ethernet       0.19        8.14\n",
       "1      1.559041e+09  ethernet       0.15        7.75\n",
       "2      1.559041e+09  ethernet       0.15        8.68\n",
       "3      1.559041e+09  ethernet       0.15        8.08\n",
       "4      1.559041e+09  ethernet       0.15        8.20\n",
       "...             ...       ...        ...         ...\n",
       "69740  1.559691e+09  ethernet       0.15        8.70\n",
       "69741  1.559691e+09  ethernet       0.15        8.43\n",
       "69742  1.559691e+09  ethernet       0.15        8.71\n",
       "69743  1.559691e+09  ethernet       0.15        8.42\n",
       "69744  1.559691e+09  ethernet       0.15        9.12\n",
       "\n",
       "[69745 rows x 4 columns]"
      ]
     },
     "execution_count": 92,
     "metadata": {},
     "output_type": "execute_result"
    }
   ],
   "source": [
    "# Removing unncessary columns from the ping dataset\n",
    "df1 = df1.drop(['location', 'local_dest', 'remote_dest'], axis = 1)\n",
    "df1"
   ]
  },
  {
   "cell_type": "markdown",
   "metadata": {},
   "source": [
    "#### *Each header definition*\n",
    "- Timestamp: The current time of an event that is recorded\n",
    "- Source: Network Source\n",
    "- Local_avg: Response Time for local network (ms)\n",
    "- Remote_avg: Response time for remote network (ms)"
   ]
  },
  {
   "cell_type": "code",
   "execution_count": 93,
   "metadata": {},
   "outputs": [
    {
     "name": "stdout",
     "output_type": "stream",
     "text": [
      "      timestamp    source  local_avg  remote_avg  hour\n",
      "0  1.559041e+09  ethernet       0.19        8.14     1\n",
      "1  1.559041e+09  ethernet       0.15        7.75     1\n",
      "2  1.559041e+09  ethernet       0.15        8.68     1\n",
      "3  1.559041e+09  ethernet       0.15        8.08     1\n",
      "4  1.559041e+09  ethernet       0.15        8.20     1\n",
      "[1 2 0]\n",
      "<class 'pandas.core.frame.DataFrame'>\n",
      "Int64Index: 69745 entries, 0 to 69744\n",
      "Data columns (total 5 columns):\n",
      " #   Column      Non-Null Count  Dtype  \n",
      "---  ------      --------------  -----  \n",
      " 0   timestamp   69745 non-null  float64\n",
      " 1   source      69745 non-null  object \n",
      " 2   local_avg   69745 non-null  float64\n",
      " 3   remote_avg  69745 non-null  float64\n",
      " 4   hour        69745 non-null  int32  \n",
      "dtypes: float64(3), int32(1), object(1)\n",
      "memory usage: 2.9+ MB\n",
      "None\n"
     ]
    }
   ],
   "source": [
    "# create a column that is the start of the range of hours of the day, show the head, show it has all 24 hours of the day\n",
    "#df1['hour'] = (df['timestamp'].astype(int) % 86400) / 14400\n",
    "df1['hour'] = (df['timestamp'].astype(int) % 86400) / 28800\n",
    "df1['hour'] = df1['hour'].astype(int)\n",
    "print(df1.head())\n",
    "print(df1['hour'].unique())\n",
    "print(df1.info())"
   ]
  },
  {
   "cell_type": "code",
   "execution_count": 94,
   "metadata": {},
   "outputs": [
    {
     "name": "stdout",
     "output_type": "stream",
     "text": [
      "count    69745.000000\n",
      "mean       782.506427\n",
      "std       2685.044084\n",
      "min          0.140000\n",
      "25%          0.150000\n",
      "50%          0.150000\n",
      "75%          0.150000\n",
      "max       9999.999900\n",
      "Name: local_avg, dtype: float64\n",
      "count    69745.000000\n",
      "mean       793.170246\n",
      "std       2682.048286\n",
      "min          4.020000\n",
      "25%          8.180000\n",
      "50%          8.620000\n",
      "75%          9.570000\n",
      "max       9999.999900\n",
      "Name: remote_avg, dtype: float64\n"
     ]
    },
    {
     "data": {
      "image/png": "[encoded data removed]",
      "text/plain": [
       "<Figure size 360x2160 with 1 Axes>"
      ]
     },
     "metadata": {
      "needs_background": "light"
     },
     "output_type": "display_data"
    }
   ],
   "source": [
    "# remove the rows with avg of 9999.9999 since they are failures and will skew the data\n",
    "#df1 = df1[(df1['local_avg'] != 9999) & (df1['remote_avg'] < 1000.0)]\n",
    "df1 = df1.reset_index()\n",
    "print(df1['local_avg'].describe())\n",
    "print(df1['remote_avg'].describe())\n",
    "# for plotting throw out the large values so we can better see the more common local_avg\n",
    "df_small_remote = df1[(df1['remote_avg'] < 1000.0)]\n",
    "df_small_remote['remote_avg'].plot(figsize=(5,30))\n",
    "plt.show()"
   ]
  },
  {
   "cell_type": "code",
   "execution_count": 95,
   "metadata": {},
   "outputs": [
    {
     "name": "stdout",
     "output_type": "stream",
     "text": [
      "count    69745.000000\n",
      "mean       793.170246\n",
      "std       2682.048286\n",
      "min          4.020000\n",
      "25%          8.180000\n",
      "50%          8.620000\n",
      "75%          9.570000\n",
      "max       9999.999900\n",
      "Name: remote_avg, dtype: float64\n"
     ]
    }
   ],
   "source": [
    "# find the quartiles of the time data so we can create local average categorical variable\n",
    "print(df1['remote_avg'].describe())"
   ]
  },
  {
   "cell_type": "code",
   "execution_count": 96,
   "metadata": {},
   "outputs": [
    {
     "name": "stdout",
     "output_type": "stream",
     "text": [
      "['Large']\n",
      "Categories (1, object): ['Large']\n"
     ]
    }
   ],
   "source": [
    "# create the categorical variable local_delay for the local delay of low, average, high using the quartiles\n",
    "# we will leave in the 9999.9999 since they probably represent failures and should be placed the high\n",
    "bins = [float('-inf'), 0.149, 0.15, float('inf')]\n",
    "labels = ['Small', 'Medium', 'Large']\n",
    "df1['remote_delay'] = pd.cut(df1['remote_avg'], bins=bins, labels=labels)\n",
    "df1.head()\n",
    "print(df1['remote_delay'].unique())\n"
   ]
  },
  {
   "cell_type": "code",
   "execution_count": 97,
   "metadata": {},
   "outputs": [],
   "source": [
    "# do some range categorical variables to section off the dataset based on the plot of remote_avg below 1000\n",
    "df1['gr1000'] = 0\n",
    "df1.loc[df1['remote_avg'] > 1000.0, 'gr1000'] = 1\n",
    "df1['gr750'] = 0\n",
    "df1.loc[(df1['remote_avg'] > 750.0) & (df1['remote_avg'] <= 1000.0), 'gr750'] = 1\n",
    "df1['gr500'] = 0\n",
    "df1.loc[(df1['remote_avg'] > 500.0) & (df1['remote_avg'] <= 750.0), 'gr500'] = 1\n",
    "df1['gr410'] = 0\n",
    "df1.loc[(df1['remote_avg'] > 410.0) & (df1['remote_avg'] <= 500.0), 'gr410'] = 1\n",
    "df1['gr190'] = 0\n",
    "df1.loc[(df1['remote_avg'] > 190.0) & (df1['remote_avg'] <= 410.0), 'gr190'] = 1\n",
    "df1['gr100'] = 0\n",
    "df1.loc[(df1['remote_avg'] > 100.0) & (df1['remote_avg'] <= 190.0), 'gr100'] = 1\n",
    "df1['gr75'] = 0\n",
    "df1.loc[(df1['remote_avg'] > 75.0) & (df1['remote_avg'] <= 100.0), 'gr100'] = 1\n",
    "df1['gr0'] = 0\n",
    "df1.loc[df1['remote_avg'] <= 75.0, 'gr0'] = 1"
   ]
  },
  {
   "cell_type": "markdown",
   "metadata": {},
   "source": [
    "### Data Visualizations \n",
    "- Done by Viphu Nguyen"
   ]
  },
  {
   "cell_type": "code",
   "execution_count": 73,
   "metadata": {},
   "outputs": [
    {
     "data": {
      "text/plain": [
       "count    69745.000000\n",
       "mean       782.506427\n",
       "std       2685.044084\n",
       "min          0.140000\n",
       "25%          0.150000\n",
       "50%          0.150000\n",
       "75%          0.150000\n",
       "max       9999.999900\n",
       "Name: local_avg, dtype: float64"
      ]
     },
     "execution_count": 73,
     "metadata": {},
     "output_type": "execute_result"
    },
    {
     "data": {
      "image/png": "[encoded data removed]",
      "text/plain": [
       "<Figure size 432x288 with 1 Axes>"
      ]
     },
     "metadata": {
      "needs_background": "light"
     },
     "output_type": "display_data"
    }
   ],
   "source": [
    "# Histogram for 'local_avg' response time (local) column\n",
    "df1.hist(column='local_avg', bins=200, grid=False, rwidth=.9, color='purple')\n",
    "df1['local_avg'].describe()"
   ]
  },
  {
   "cell_type": "code",
   "execution_count": 74,
   "metadata": {},
   "outputs": [
    {
     "data": {
      "text/plain": [
       "count    69745.000000\n",
       "mean       793.170246\n",
       "std       2682.048286\n",
       "min          4.020000\n",
       "25%          8.180000\n",
       "50%          8.620000\n",
       "75%          9.570000\n",
       "max       9999.999900\n",
       "Name: remote_avg, dtype: float64"
      ]
     },
     "execution_count": 74,
     "metadata": {},
     "output_type": "execute_result"
    },
    {
     "data": {
      "image/png": "[encoded data removed]",
      "text/plain": [
       "<Figure size 432x288 with 1 Axes>"
      ]
     },
     "metadata": {
      "needs_background": "light"
     },
     "output_type": "display_data"
    }
   ],
   "source": [
    "# Histogram for 'remote_avg' response time (local) column\n",
    "df1.hist(column='remote_avg', bins=200, grid=False, rwidth=.9, color='purple')\n",
    "df1['remote_avg'].describe()"
   ]
  },
  {
   "cell_type": "markdown",
   "metadata": {},
   "source": [
    "Analysis: The histogram tells us that the the response time (ms) is estimated largely between 0 to 2,000 while there is a fewer amount at closer to 10,000 frequency for the response time between 8,000 to 10,000"
   ]
  },
  {
   "cell_type": "code",
   "execution_count": 98,
   "metadata": {},
   "outputs": [],
   "source": [
    "# Duplicate the dataframe in case of crashes\n",
    "df2 = df1.copy()"
   ]
  },
  {
   "cell_type": "code",
   "execution_count": 99,
   "metadata": {},
   "outputs": [
    {
     "name": "stdout",
     "output_type": "stream",
     "text": [
      "[2]\n",
      "   gr1000  gr750  gr500  gr410  gr190  gr100  gr75  gr0  remote_delay_int\n",
      "0       0      0      0      0      0      0     0    1                 2\n",
      "1       0      0      0      0      0      0     0    1                 2\n",
      "2       0      0      0      0      0      0     0    1                 2\n",
      "3       0      0      0      0      0      0     0    1                 2\n",
      "4       0      0      0      0      0      0     0    1                 2\n",
      "0    1\n",
      "1    1\n",
      "2    1\n",
      "3    1\n",
      "4    1\n",
      "Name: hour, dtype: int32\n"
     ]
    }
   ],
   "source": [
    "# map the local_delay and remote_delay to integers since that is what is needed by the classifier\n",
    "df2['remote_delay_int'] = df2['remote_delay'].map({'Small':0, 'Medium':1, 'Large':2}).astype(int)\n",
    "print(df2['remote_delay_int'].unique())\n",
    "X = df2.drop(['index', 'timestamp', 'source', 'local_avg', 'remote_avg', 'remote_delay', 'hour'], axis = 1)\n",
    "y = df2['hour']\n",
    "print(X.head())\n",
    "print(y.head())"
   ]
  },
  {
   "cell_type": "code",
   "execution_count": 100,
   "metadata": {},
   "outputs": [
    {
     "name": "stdout",
     "output_type": "stream",
     "text": [
      "       gr1000  gr750  gr500  gr410  gr190  gr100  gr75  gr0  remote_delay_int\n",
      "33973       0      0      0      0      0      0     0    1                 2\n",
      "68346       0      0      0      0      0      0     0    1                 2\n",
      "18644       0      0      0      0      0      0     0    1                 2\n",
      "11347       0      0      0      0      0      0     0    1                 2\n",
      "59206       0      0      0      0      0      0     0    1                 2\n",
      "...       ...    ...    ...    ...    ...    ...   ...  ...               ...\n",
      "57042       0      0      0      0      0      0     0    1                 2\n",
      "36008       0      0      0      0      0      0     0    1                 2\n",
      "46265       0      0      0      0      0      0     0    1                 2\n",
      "23587       0      0      0      0      0      0     0    1                 2\n",
      "29313       0      0      0      0      0      0     0    1                 2\n",
      "\n",
      "[55796 rows x 9 columns] 33973    0\n",
      "68346    2\n",
      "18644    1\n",
      "11347    2\n",
      "59206    2\n",
      "        ..\n",
      "57042    1\n",
      "36008    1\n",
      "46265    2\n",
      "23587    0\n",
      "29313    2\n",
      "Name: hour, Length: 55796, dtype: int32\n"
     ]
    }
   ],
   "source": [
    "# split out the test and train datasets\n",
    "X_train, X_test, y_train, y_test= train_test_split(X, y,test_size=0.2,random_state=99)\n",
    "print(X_train, y_train)"
   ]
  },
  {
   "cell_type": "markdown",
   "metadata": {},
   "source": [
    "### Use scikit-learn for Logistic Regression and DecisionTree Classification, XGBoost, Keras, Pytorch to train, test and predict a categorical variable. Use appropriate metric and interpret themeaning of the score"
   ]
  },
  {
   "cell_type": "markdown",
   "metadata": {},
   "source": [
    "### Logistic Regression"
   ]
  },
  {
   "cell_type": "code",
   "execution_count": 78,
   "metadata": {},
   "outputs": [],
   "source": [
    "LogReg = LogisticRegression()\n",
    "\n",
    "scaler = preprocessing.StandardScaler()\n",
    "X_train = scaler.fit_transform(X_train)\n",
    "X_test = scaler.transform(X_test)\n",
    "\n",
    "LogReg.fit(X_train,y_train)\n",
    "\n",
    "y_pred=LogReg.predict(X_test)"
   ]
  },
  {
   "cell_type": "code",
   "execution_count": 79,
   "metadata": {},
   "outputs": [
    {
     "name": "stdout",
     "output_type": "stream",
     "text": [
      "Classes [0 1 2]\n",
      "Intercept [-0.02289705 -0.01942434  0.04232139]\n",
      "Coefficients [[ 0.0907466  -0.0142235   0.00678151  0.00095779  0.02361307  0.01128548\n",
      "   0.         -0.09392198  0.        ]\n",
      " [-0.06924005 -0.01188108 -0.01332728  0.00306959  0.00590847  0.00980965\n",
      "   0.          0.0627188   0.        ]\n",
      " [-0.02150655  0.02610458  0.00654577 -0.00402738 -0.02952154 -0.02109513\n",
      "   0.          0.03120317  0.        ]]\n"
     ]
    }
   ],
   "source": [
    "print('Classes', LogReg.classes_)\n",
    "print('Intercept',LogReg.intercept_)\n",
    "print(\"Coefficients\", LogReg.coef_ )"
   ]
  },
  {
   "cell_type": "code",
   "execution_count": 80,
   "metadata": {},
   "outputs": [
    {
     "name": "stdout",
     "output_type": "stream",
     "text": [
      "Accuracy 0.37020574951609436\n",
      "              precision    recall  f1-score   support\n",
      "\n",
      "           0       0.53      0.15      0.23      4610\n",
      "           1       0.00      0.00      0.00      4525\n",
      "           2       0.35      0.93      0.51      4814\n",
      "\n",
      "    accuracy                           0.37     13949\n",
      "   macro avg       0.29      0.36      0.25     13949\n",
      "weighted avg       0.30      0.37      0.25     13949\n",
      "\n"
     ]
    },
    {
     "name": "stderr",
     "output_type": "stream",
     "text": [
      "C:\\Users\\VIphu N\\AppData\\Local\\Packages\\PythonSoftwareFoundation.Python.3.9_qbz5n2kfra8p0\\LocalCache\\local-packages\\Python39\\site-packages\\sklearn\\metrics\\_classification.py:1318: UndefinedMetricWarning: Precision and F-score are ill-defined and being set to 0.0 in labels with no predicted samples. Use `zero_division` parameter to control this behavior.\n",
      "  _warn_prf(average, modifier, msg_start, len(result))\n",
      "C:\\Users\\VIphu N\\AppData\\Local\\Packages\\PythonSoftwareFoundation.Python.3.9_qbz5n2kfra8p0\\LocalCache\\local-packages\\Python39\\site-packages\\sklearn\\metrics\\_classification.py:1318: UndefinedMetricWarning: Precision and F-score are ill-defined and being set to 0.0 in labels with no predicted samples. Use `zero_division` parameter to control this behavior.\n",
      "  _warn_prf(average, modifier, msg_start, len(result))\n",
      "C:\\Users\\VIphu N\\AppData\\Local\\Packages\\PythonSoftwareFoundation.Python.3.9_qbz5n2kfra8p0\\LocalCache\\local-packages\\Python39\\site-packages\\sklearn\\metrics\\_classification.py:1318: UndefinedMetricWarning: Precision and F-score are ill-defined and being set to 0.0 in labels with no predicted samples. Use `zero_division` parameter to control this behavior.\n",
      "  _warn_prf(average, modifier, msg_start, len(result))\n"
     ]
    }
   ],
   "source": [
    "print(\"Accuracy\", LogReg.score(X_test, y_test))\n",
    "print(classification_report(y_test, LogReg.predict(X_test)))"
   ]
  },
  {
   "cell_type": "markdown",
   "metadata": {},
   "source": [
    "### Decision Tree\n",
    "- Done by Viphu Nguyen and Eric Topmiller"
   ]
  },
  {
   "cell_type": "code",
   "execution_count": 81,
   "metadata": {},
   "outputs": [],
   "source": [
    "clf = DecisionTreeClassifier(criterion='entropy', random_state=99)"
   ]
  },
  {
   "cell_type": "code",
   "execution_count": 82,
   "metadata": {},
   "outputs": [
    {
     "data": {
      "text/plain": [
       "0.37020574951609436"
      ]
     },
     "execution_count": 82,
     "metadata": {},
     "output_type": "execute_result"
    }
   ],
   "source": [
    "clf.fit(X_train,y_train)\n",
    "y_pred= clf.predict(X_test)\n",
    "accuracy_score(y_test, y_pred)"
   ]
  },
  {
   "cell_type": "markdown",
   "metadata": {},
   "source": [
    "##### Plot a Decision Tree"
   ]
  },
  {
   "cell_type": "code",
   "execution_count": 83,
   "metadata": {},
   "outputs": [
    {
     "data": {
      "image/png": "[encoded data removed]",
      "text/plain": [
       "<Figure size 864x864 with 1 Axes>"
      ]
     },
     "metadata": {
      "needs_background": "light"
     },
     "output_type": "display_data"
    }
   ],
   "source": [
    "fig, ax = plt.subplots(figsize=(12, 12))\n",
    "tree.plot_tree(decision_tree=clf, max_depth= 3,fontsize=12);"
   ]
  },
  {
   "cell_type": "markdown",
   "metadata": {},
   "source": [
    "###  Show feature importance in XGBoost by using xgb.plot.importance"
   ]
  },
  {
   "cell_type": "code",
   "execution_count": 84,
   "metadata": {},
   "outputs": [
    {
     "name": "stdout",
     "output_type": "stream",
     "text": [
      "accuracy: 0.370206\n"
     ]
    }
   ],
   "source": [
    "# !pip install xgboost\n",
    "import xgboost as xgb\n",
    "xg_cl = xgb.XGBClassifier(objective='binary:logistic', max_depth=10, n_estimators=100, seed=99) \n",
    "xg_cl.fit(X_train, y_train)\n",
    "preds = xg_cl.predict(X_test)\n",
    "accuracy = float(np.sum(preds==y_test))/y_test.shape[0]\n",
    "print(\"accuracy: %f\" % (accuracy))"
   ]
  },
  {
   "cell_type": "markdown",
   "metadata": {},
   "source": [
    "## Keras\n",
    "### model from https://www.kaggle.com/code/nitinsss/time-series-prediction-with-keras-for-beginners/notebook"
   ]
  },
  {
   "cell_type": "code",
   "execution_count": 85,
   "metadata": {},
   "outputs": [
    {
     "ename": "ModuleNotFoundError",
     "evalue": "No module named 'tensorflow'",
     "output_type": "error",
     "traceback": [
      "\u001b[1;31m---------------------------------------------------------------------------\u001b[0m",
      "\u001b[1;31mModuleNotFoundError\u001b[0m                       Traceback (most recent call last)",
      "\u001b[1;32m<ipython-input-85-d13e0edd8e8a>\u001b[0m in \u001b[0;36m<module>\u001b[1;34m\u001b[0m\n\u001b[0;32m     10\u001b[0m \u001b[1;31m# !pip install tensorflow\u001b[0m\u001b[1;33m\u001b[0m\u001b[1;33m\u001b[0m\u001b[0m\n\u001b[0;32m     11\u001b[0m \u001b[1;33m\u001b[0m\u001b[0m\n\u001b[1;32m---> 12\u001b[1;33m \u001b[1;32mfrom\u001b[0m \u001b[0mtensorflow\u001b[0m\u001b[1;33m.\u001b[0m\u001b[0mkeras\u001b[0m\u001b[1;33m.\u001b[0m\u001b[0mmodels\u001b[0m \u001b[1;32mimport\u001b[0m \u001b[0mload_model\u001b[0m\u001b[1;33m\u001b[0m\u001b[1;33m\u001b[0m\u001b[0m\n\u001b[0m\u001b[0;32m     13\u001b[0m \u001b[1;32mfrom\u001b[0m \u001b[0mtensorflow\u001b[0m\u001b[1;33m.\u001b[0m\u001b[0mkeras\u001b[0m\u001b[1;33m.\u001b[0m\u001b[0mcallbacks\u001b[0m \u001b[1;32mimport\u001b[0m \u001b[0mModelCheckpoint\u001b[0m\u001b[1;33m\u001b[0m\u001b[1;33m\u001b[0m\u001b[0m\n\u001b[0;32m     14\u001b[0m \u001b[1;32mfrom\u001b[0m \u001b[0mtensorflow\u001b[0m\u001b[1;33m.\u001b[0m\u001b[0mkeras\u001b[0m \u001b[1;32mimport\u001b[0m \u001b[0mlayers\u001b[0m\u001b[1;33m,\u001b[0m \u001b[0mlosses\u001b[0m\u001b[1;33m\u001b[0m\u001b[1;33m\u001b[0m\u001b[0m\n",
      "\u001b[1;31mModuleNotFoundError\u001b[0m: No module named 'tensorflow'"
     ]
    }
   ],
   "source": [
    "# uninstall existing tensorflow-macos and tensorflow-metal\n",
    "# !pip uninstall tensorflow-macos\n",
    "# !pip uninstall tensorflow-metal\n",
    "# !pip install tensorflow-macos\n",
    "# !pip install tensorflow-metal\n",
    "# # Upgrade tensorflow-deps\n",
    "# !pip install tensorflow-deps --force-reinstall\n",
    "# # or point to specific conda environment\n",
    "# #conda install -c apple tensorflow-deps --force-reinstall -n my_env \n",
    "# !pip install tensorflow\n",
    "\n",
    "from tensorflow.keras.models import load_model\n",
    "from tensorflow.keras.callbacks import ModelCheckpoint\n",
    "from tensorflow.keras import layers, losses\n",
    "from tensorflow.keras.datasets import fashion_mnist\n",
    "from tensorflow.keras.models import Model\n",
    "from tensorflow.keras.layers import Input, Dense, Dropout\n",
    "from tensorflow.keras.optimizers import SGD"
   ]
  },
  {
   "cell_type": "code",
   "execution_count": null,
   "metadata": {},
   "outputs": [],
   "source": [
    "# create the model input layers\n",
    "input_layer = Input(shape=(9), dtype='float32')\n",
    "dense1 = Dense(60, activation='linear')(input_layer)\n",
    "dense2 = Dense(60, activation='linear')(dense1)\n",
    "dropout_layer = Dropout(0.2)(dense2)\n",
    "output_layer = Dense(1, activation='linear')(dropout_layer)"
   ]
  },
  {
   "cell_type": "code",
   "execution_count": null,
   "metadata": {},
   "outputs": [
    {
     "name": "stdout",
     "output_type": "stream",
     "text": [
      "Model: \"model_2\"\n",
      "_________________________________________________________________\n",
      " Layer (type)                Output Shape              Param #   \n",
      "=================================================================\n",
      " input_3 (InputLayer)        [(None, 9)]               0         \n",
      "                                                                 \n",
      " dense_6 (Dense)             (None, 60)                600       \n",
      "                                                                 \n",
      " dense_7 (Dense)             (None, 60)                3660      \n",
      "                                                                 \n",
      " dropout_2 (Dropout)         (None, 60)                0         \n",
      "                                                                 \n",
      " dense_8 (Dense)             (None, 1)                 61        \n",
      "                                                                 \n",
      "=================================================================\n",
      "Total params: 4,321\n",
      "Trainable params: 4,321\n",
      "Non-trainable params: 0\n",
      "_________________________________________________________________\n"
     ]
    }
   ],
   "source": [
    "model = Model(inputs=input_layer, outputs=output_layer)\n",
    "model.compile(loss='mean_squared_error', optimizer='adam')\n",
    "model.summary()"
   ]
  },
  {
   "cell_type": "code",
   "execution_count": null,
   "metadata": {},
   "outputs": [],
   "source": [
    "# Make the dataframe like the kaggle example\n",
    "df3 = df2.copy()\n",
    "df3.drop(['index', 'timestamp', 'source', 'local_avg', 'remote_avg', 'remote_delay'], axis = 1, inplace=True)\n",
    "df3.head()\n",
    "df_new = df3.copy()"
   ]
  },
  {
   "cell_type": "code",
   "execution_count": null,
   "metadata": {},
   "outputs": [
    {
     "name": "stdout",
     "output_type": "stream",
     "text": [
      "Shape of training inputs, training target: (62944, 9) (62944,)\n",
      "Shape of validation inputs, validation target: (3313, 9) (3313,)\n",
      "Shape of test inputs, test target: (3488, 9) (3488,)\n"
     ]
    }
   ],
   "source": [
    "# create the training, validation, and test inputs\n",
    "df_copy = df3.copy()\n",
    "test_set_size = 0.05\n",
    "valid_set_size= 0.05\n",
    "\n",
    "df_copy = df_new.reset_index(drop=True)\n",
    "\n",
    "df_test = df_copy.iloc[ int(np.floor(len(df_copy)*(1-test_set_size))) : ]\n",
    "df_train_plus_valid = df_copy.iloc[ : int(np.floor(len(df_copy)*(1-test_set_size))) ]\n",
    "\n",
    "df_train = df_train_plus_valid.iloc[ : int(np.floor(len(df_train_plus_valid)*(1-valid_set_size))) ]\n",
    "df_valid = df_train_plus_valid.iloc[ int(np.floor(len(df_train_plus_valid)*(1-valid_set_size))) : ]\n",
    "\n",
    "\n",
    "X_train, y_train = df_train.iloc[:, 1:], df_train.iloc[:, 0]\n",
    "X_valid, y_valid = df_valid.iloc[:, 1:], df_valid.iloc[:, 0]\n",
    "X_test, y_test = df_test.iloc[:, 1:], df_test.iloc[:, 0]\n",
    "\n",
    "print('Shape of training inputs, training target:', X_train.shape, y_train.shape)\n",
    "print('Shape of validation inputs, validation target:', X_valid.shape, y_valid.shape)\n",
    "print('Shape of test inputs, test target:', X_test.shape, y_test.shape)"
   ]
  },
  {
   "cell_type": "code",
   "execution_count": null,
   "metadata": {},
   "outputs": [],
   "source": [
    "# We will normalize our data in the range in the range (0.01, 0.99) before feeding it to the the neural network.\n",
    "from sklearn.preprocessing import MinMaxScaler\n",
    "\n",
    "Target_scaler = MinMaxScaler(feature_range=(0.01, 0.99))\n",
    "Feature_scaler = MinMaxScaler(feature_range=(0.01, 0.99))\n",
    "\n",
    "X_train_scaled = Feature_scaler.fit_transform(np.array(X_train))\n",
    "X_valid_scaled = Feature_scaler.fit_transform(np.array(X_valid))\n",
    "X_test_scaled = Feature_scaler.fit_transform(np.array(X_test))\n",
    "\n",
    "y_train_scaled = Target_scaler.fit_transform(np.array(y_train).reshape(-1,1))\n",
    "y_valid_scaled = Target_scaler.fit_transform(np.array(y_valid).reshape(-1,1))\n",
    "y_test_scaled = Target_scaler.fit_transform(np.array(y_test).reshape(-1,1))"
   ]
  },
  {
   "cell_type": "code",
   "execution_count": null,
   "metadata": {},
   "outputs": [
    {
     "name": "stdout",
     "output_type": "stream",
     "text": [
      "Epoch 1/30\n",
      "12589/12589 [==============================] - 13s 990us/step - loss: 0.1659 - val_loss: 0.2378\n",
      "Epoch 2/30\n",
      "12589/12589 [==============================] - 12s 944us/step - loss: 0.1633 - val_loss: 0.2456\n",
      "Epoch 3/30\n",
      "12589/12589 [==============================] - 12s 914us/step - loss: 0.1627 - val_loss: 0.2359\n",
      "Epoch 4/30\n",
      "12589/12589 [==============================] - 11s 912us/step - loss: 0.1628 - val_loss: 0.2363\n",
      "Epoch 5/30\n",
      "12589/12589 [==============================] - 12s 915us/step - loss: 0.1626 - val_loss: 0.2412\n",
      "Epoch 6/30\n",
      "12589/12589 [==============================] - 12s 917us/step - loss: 0.1627 - val_loss: 0.2396\n",
      "Epoch 7/30\n",
      "12589/12589 [==============================] - 11s 906us/step - loss: 0.1626 - val_loss: 0.2374\n",
      "Epoch 8/30\n",
      "12589/12589 [==============================] - 12s 923us/step - loss: 0.1626 - val_loss: 0.2380\n",
      "Epoch 9/30\n",
      "12589/12589 [==============================] - 12s 967us/step - loss: 0.1627 - val_loss: 0.2392\n",
      "Epoch 10/30\n",
      "12589/12589 [==============================] - 12s 978us/step - loss: 0.1627 - val_loss: 0.2333\n",
      "Epoch 11/30\n",
      "12589/12589 [==============================] - 12s 947us/step - loss: 0.1626 - val_loss: 0.2357\n",
      "Epoch 12/30\n",
      "12589/12589 [==============================] - 12s 917us/step - loss: 0.1626 - val_loss: 0.2332\n",
      "Epoch 13/30\n",
      "12589/12589 [==============================] - 12s 976us/step - loss: 0.1626 - val_loss: 0.2419\n",
      "Epoch 14/30\n",
      "12589/12589 [==============================] - 12s 963us/step - loss: 0.1626 - val_loss: 0.2430\n",
      "Epoch 15/30\n",
      "12589/12589 [==============================] - 12s 980us/step - loss: 0.1626 - val_loss: 0.2387\n",
      "Epoch 16/30\n",
      "12589/12589 [==============================] - 12s 968us/step - loss: 0.1626 - val_loss: 0.2367\n",
      "Epoch 17/30\n",
      "12589/12589 [==============================] - 12s 960us/step - loss: 0.1626 - val_loss: 0.2362\n",
      "Epoch 18/30\n",
      "12589/12589 [==============================] - 13s 1ms/step - loss: 0.1627 - val_loss: 0.2323\n",
      "Epoch 19/30\n",
      "12589/12589 [==============================] - 13s 1ms/step - loss: 0.1626 - val_loss: 0.2390\n",
      "Epoch 20/30\n",
      "12589/12589 [==============================] - 13s 1ms/step - loss: 0.1626 - val_loss: 0.2349\n",
      "Epoch 21/30\n",
      "12589/12589 [==============================] - 13s 1ms/step - loss: 0.1626 - val_loss: 0.2356\n",
      "Epoch 22/30\n",
      "12589/12589 [==============================] - 12s 966us/step - loss: 0.1626 - val_loss: 0.2375\n",
      "Epoch 23/30\n",
      "12589/12589 [==============================] - 12s 926us/step - loss: 0.1626 - val_loss: 0.2358\n",
      "Epoch 24/30\n",
      "12589/12589 [==============================] - 12s 923us/step - loss: 0.1626 - val_loss: 0.2374\n",
      "Epoch 25/30\n",
      "12589/12589 [==============================] - 12s 946us/step - loss: 0.1626 - val_loss: 0.2407\n",
      "Epoch 26/30\n",
      "12589/12589 [==============================] - 12s 966us/step - loss: 0.1626 - val_loss: 0.2355\n",
      "Epoch 27/30\n",
      "12589/12589 [==============================] - 12s 987us/step - loss: 0.1627 - val_loss: 0.2345\n",
      "Epoch 28/30\n",
      "12589/12589 [==============================] - 12s 984us/step - loss: 0.1626 - val_loss: 0.2406\n",
      "Epoch 29/30\n",
      "12589/12589 [==============================] - 12s 988us/step - loss: 0.1626 - val_loss: 0.2333\n",
      "Epoch 30/30\n",
      "12589/12589 [==============================] - 13s 1ms/step - loss: 0.1626 - val_loss: 0.2390\n"
     ]
    },
    {
     "data": {
      "text/plain": [
       "<keras.callbacks.History at 0x2430b9505e0>"
      ]
     },
     "execution_count": 61,
     "metadata": {},
     "output_type": "execute_result"
    }
   ],
   "source": [
    "# training and validation\n",
    "model.fit(x=X_train_scaled, y=y_train_scaled, batch_size=5, epochs=30, verbose=1, validation_data=(X_valid_scaled, y_valid_scaled), shuffle=True)"
   ]
  },
  {
   "cell_type": "code",
   "execution_count": null,
   "metadata": {},
   "outputs": [],
   "source": [
    "# do the prediction\n",
    "y_pred = model.predict(X_test_scaled)\n",
    "y_pred_rescaled = Target_scaler.inverse_transform(y_pred)"
   ]
  },
  {
   "cell_type": "code",
   "execution_count": null,
   "metadata": {},
   "outputs": [
    {
     "name": "stdout",
     "output_type": "stream",
     "text": [
      "R-squared score for the test set: -0.4313\n"
     ]
    }
   ],
   "source": [
    "# find the R2 score\n",
    "from sklearn.metrics import r2_score\n",
    "y_test_rescaled =  Target_scaler.inverse_transform(y_test_scaled)\n",
    "score = r2_score(y_test_rescaled, y_pred_rescaled)\n",
    "print('R-squared score for the test set:', round(score,4))"
   ]
  },
  {
   "cell_type": "code",
   "execution_count": null,
   "metadata": {},
   "outputs": [],
   "source": [
    "y_actual = pd.DataFrame(y_test_rescaled, columns=['Actual 8 hour period'])\n",
    "\n",
    "y_hat = pd.DataFrame(y_pred_rescaled, columns=['Predicted 8 hour period'])"
   ]
  },
  {
   "cell_type": "code",
   "execution_count": null,
   "metadata": {},
   "outputs": [
    {
     "data": {
      "image/png": "[encoded data removed]",
      "text/plain": [
       "<Figure size 792x432 with 1 Axes>"
      ]
     },
     "metadata": {
      "needs_background": "light"
     },
     "output_type": "display_data"
    }
   ],
   "source": [
    "plt.figure(figsize=(11, 6))\n",
    "plt.plot(y_actual, linestyle='solid', color='r')\n",
    "plt.plot(y_hat, linestyle='dashed', color='b')\n",
    "\n",
    "plt.legend(['Actual','Predicted'], loc='best', prop={'size': 14})\n",
    "plt.title('8 hour period lan performance', weight='bold', fontsize=16)\n",
    "plt.ylabel('Period', weight='bold', fontsize=14)\n",
    "plt.xlabel('Test Set Period no.', weight='bold', fontsize=14)\n",
    "plt.xticks(weight='bold', fontsize=12, rotation=45)\n",
    "plt.yticks(weight='bold', fontsize=12)\n",
    "plt.grid(color = 'y', linewidth='0.5')\n",
    "plt.show()"
   ]
  },
  {
   "cell_type": "markdown",
   "metadata": {},
   "source": [
    "## Pytorch on Neural Network"
   ]
  },
  {
   "cell_type": "code",
   "execution_count": 101,
   "metadata": {},
   "outputs": [],
   "source": [
    "# importing pytorch libraries\n",
    "# !pip install torch\n",
    "import torch\n",
    "import torch.nn as nn\n",
    "import torch.optim as optim\n",
    "from torch.utils.data import Dataset, DataLoader\n",
    "import torch.nn.functional as F\n",
    "\n"
   ]
  },
  {
   "cell_type": "code",
   "execution_count": 102,
   "metadata": {},
   "outputs": [
    {
     "data": {
      "text/html": [
       "<div>\n",
       "<style scoped>\n",
       "    .dataframe tbody tr th:only-of-type {\n",
       "        vertical-align: middle;\n",
       "    }\n",
       "\n",
       "    .dataframe tbody tr th {\n",
       "        vertical-align: top;\n",
       "    }\n",
       "\n",
       "    .dataframe thead th {\n",
       "        text-align: right;\n",
       "    }\n",
       "</style>\n",
       "<table border=\"1\" class=\"dataframe\">\n",
       "  <thead>\n",
       "    <tr style=\"text-align: right;\">\n",
       "      <th></th>\n",
       "      <th>index</th>\n",
       "      <th>timestamp</th>\n",
       "      <th>source</th>\n",
       "      <th>local_avg</th>\n",
       "      <th>remote_avg</th>\n",
       "      <th>hour</th>\n",
       "      <th>remote_delay</th>\n",
       "      <th>gr1000</th>\n",
       "      <th>gr750</th>\n",
       "      <th>gr500</th>\n",
       "      <th>gr410</th>\n",
       "      <th>gr190</th>\n",
       "      <th>gr100</th>\n",
       "      <th>gr75</th>\n",
       "      <th>gr0</th>\n",
       "      <th>remote_delay_int</th>\n",
       "    </tr>\n",
       "  </thead>\n",
       "  <tbody>\n",
       "    <tr>\n",
       "      <th>0</th>\n",
       "      <td>0</td>\n",
       "      <td>1.559041e+09</td>\n",
       "      <td>ethernet</td>\n",
       "      <td>0.19</td>\n",
       "      <td>8.14</td>\n",
       "      <td>1</td>\n",
       "      <td>Large</td>\n",
       "      <td>0</td>\n",
       "      <td>0</td>\n",
       "      <td>0</td>\n",
       "      <td>0</td>\n",
       "      <td>0</td>\n",
       "      <td>0</td>\n",
       "      <td>0</td>\n",
       "      <td>1</td>\n",
       "      <td>2</td>\n",
       "    </tr>\n",
       "    <tr>\n",
       "      <th>1</th>\n",
       "      <td>1</td>\n",
       "      <td>1.559041e+09</td>\n",
       "      <td>ethernet</td>\n",
       "      <td>0.15</td>\n",
       "      <td>7.75</td>\n",
       "      <td>1</td>\n",
       "      <td>Large</td>\n",
       "      <td>0</td>\n",
       "      <td>0</td>\n",
       "      <td>0</td>\n",
       "      <td>0</td>\n",
       "      <td>0</td>\n",
       "      <td>0</td>\n",
       "      <td>0</td>\n",
       "      <td>1</td>\n",
       "      <td>2</td>\n",
       "    </tr>\n",
       "    <tr>\n",
       "      <th>2</th>\n",
       "      <td>2</td>\n",
       "      <td>1.559041e+09</td>\n",
       "      <td>ethernet</td>\n",
       "      <td>0.15</td>\n",
       "      <td>8.68</td>\n",
       "      <td>1</td>\n",
       "      <td>Large</td>\n",
       "      <td>0</td>\n",
       "      <td>0</td>\n",
       "      <td>0</td>\n",
       "      <td>0</td>\n",
       "      <td>0</td>\n",
       "      <td>0</td>\n",
       "      <td>0</td>\n",
       "      <td>1</td>\n",
       "      <td>2</td>\n",
       "    </tr>\n",
       "    <tr>\n",
       "      <th>3</th>\n",
       "      <td>3</td>\n",
       "      <td>1.559041e+09</td>\n",
       "      <td>ethernet</td>\n",
       "      <td>0.15</td>\n",
       "      <td>8.08</td>\n",
       "      <td>1</td>\n",
       "      <td>Large</td>\n",
       "      <td>0</td>\n",
       "      <td>0</td>\n",
       "      <td>0</td>\n",
       "      <td>0</td>\n",
       "      <td>0</td>\n",
       "      <td>0</td>\n",
       "      <td>0</td>\n",
       "      <td>1</td>\n",
       "      <td>2</td>\n",
       "    </tr>\n",
       "    <tr>\n",
       "      <th>4</th>\n",
       "      <td>4</td>\n",
       "      <td>1.559041e+09</td>\n",
       "      <td>ethernet</td>\n",
       "      <td>0.15</td>\n",
       "      <td>8.20</td>\n",
       "      <td>1</td>\n",
       "      <td>Large</td>\n",
       "      <td>0</td>\n",
       "      <td>0</td>\n",
       "      <td>0</td>\n",
       "      <td>0</td>\n",
       "      <td>0</td>\n",
       "      <td>0</td>\n",
       "      <td>0</td>\n",
       "      <td>1</td>\n",
       "      <td>2</td>\n",
       "    </tr>\n",
       "    <tr>\n",
       "      <th>...</th>\n",
       "      <td>...</td>\n",
       "      <td>...</td>\n",
       "      <td>...</td>\n",
       "      <td>...</td>\n",
       "      <td>...</td>\n",
       "      <td>...</td>\n",
       "      <td>...</td>\n",
       "      <td>...</td>\n",
       "      <td>...</td>\n",
       "      <td>...</td>\n",
       "      <td>...</td>\n",
       "      <td>...</td>\n",
       "      <td>...</td>\n",
       "      <td>...</td>\n",
       "      <td>...</td>\n",
       "      <td>...</td>\n",
       "    </tr>\n",
       "    <tr>\n",
       "      <th>69740</th>\n",
       "      <td>69740</td>\n",
       "      <td>1.559691e+09</td>\n",
       "      <td>ethernet</td>\n",
       "      <td>0.15</td>\n",
       "      <td>8.70</td>\n",
       "      <td>2</td>\n",
       "      <td>Large</td>\n",
       "      <td>0</td>\n",
       "      <td>0</td>\n",
       "      <td>0</td>\n",
       "      <td>0</td>\n",
       "      <td>0</td>\n",
       "      <td>0</td>\n",
       "      <td>0</td>\n",
       "      <td>1</td>\n",
       "      <td>2</td>\n",
       "    </tr>\n",
       "    <tr>\n",
       "      <th>69741</th>\n",
       "      <td>69741</td>\n",
       "      <td>1.559691e+09</td>\n",
       "      <td>ethernet</td>\n",
       "      <td>0.15</td>\n",
       "      <td>8.43</td>\n",
       "      <td>2</td>\n",
       "      <td>Large</td>\n",
       "      <td>0</td>\n",
       "      <td>0</td>\n",
       "      <td>0</td>\n",
       "      <td>0</td>\n",
       "      <td>0</td>\n",
       "      <td>0</td>\n",
       "      <td>0</td>\n",
       "      <td>1</td>\n",
       "      <td>2</td>\n",
       "    </tr>\n",
       "    <tr>\n",
       "      <th>69742</th>\n",
       "      <td>69742</td>\n",
       "      <td>1.559691e+09</td>\n",
       "      <td>ethernet</td>\n",
       "      <td>0.15</td>\n",
       "      <td>8.71</td>\n",
       "      <td>2</td>\n",
       "      <td>Large</td>\n",
       "      <td>0</td>\n",
       "      <td>0</td>\n",
       "      <td>0</td>\n",
       "      <td>0</td>\n",
       "      <td>0</td>\n",
       "      <td>0</td>\n",
       "      <td>0</td>\n",
       "      <td>1</td>\n",
       "      <td>2</td>\n",
       "    </tr>\n",
       "    <tr>\n",
       "      <th>69743</th>\n",
       "      <td>69743</td>\n",
       "      <td>1.559691e+09</td>\n",
       "      <td>ethernet</td>\n",
       "      <td>0.15</td>\n",
       "      <td>8.42</td>\n",
       "      <td>2</td>\n",
       "      <td>Large</td>\n",
       "      <td>0</td>\n",
       "      <td>0</td>\n",
       "      <td>0</td>\n",
       "      <td>0</td>\n",
       "      <td>0</td>\n",
       "      <td>0</td>\n",
       "      <td>0</td>\n",
       "      <td>1</td>\n",
       "      <td>2</td>\n",
       "    </tr>\n",
       "    <tr>\n",
       "      <th>69744</th>\n",
       "      <td>69744</td>\n",
       "      <td>1.559691e+09</td>\n",
       "      <td>ethernet</td>\n",
       "      <td>0.15</td>\n",
       "      <td>9.12</td>\n",
       "      <td>2</td>\n",
       "      <td>Large</td>\n",
       "      <td>0</td>\n",
       "      <td>0</td>\n",
       "      <td>0</td>\n",
       "      <td>0</td>\n",
       "      <td>0</td>\n",
       "      <td>0</td>\n",
       "      <td>0</td>\n",
       "      <td>1</td>\n",
       "      <td>2</td>\n",
       "    </tr>\n",
       "  </tbody>\n",
       "</table>\n",
       "<p>69745 rows × 16 columns</p>\n",
       "</div>"
      ],
      "text/plain": [
       "       index     timestamp    source  local_avg  remote_avg  hour  \\\n",
       "0          0  1.559041e+09  ethernet       0.19        8.14     1   \n",
       "1          1  1.559041e+09  ethernet       0.15        7.75     1   \n",
       "2          2  1.559041e+09  ethernet       0.15        8.68     1   \n",
       "3          3  1.559041e+09  ethernet       0.15        8.08     1   \n",
       "4          4  1.559041e+09  ethernet       0.15        8.20     1   \n",
       "...      ...           ...       ...        ...         ...   ...   \n",
       "69740  69740  1.559691e+09  ethernet       0.15        8.70     2   \n",
       "69741  69741  1.559691e+09  ethernet       0.15        8.43     2   \n",
       "69742  69742  1.559691e+09  ethernet       0.15        8.71     2   \n",
       "69743  69743  1.559691e+09  ethernet       0.15        8.42     2   \n",
       "69744  69744  1.559691e+09  ethernet       0.15        9.12     2   \n",
       "\n",
       "      remote_delay  gr1000  gr750  gr500  gr410  gr190  gr100  gr75  gr0  \\\n",
       "0            Large       0      0      0      0      0      0     0    1   \n",
       "1            Large       0      0      0      0      0      0     0    1   \n",
       "2            Large       0      0      0      0      0      0     0    1   \n",
       "3            Large       0      0      0      0      0      0     0    1   \n",
       "4            Large       0      0      0      0      0      0     0    1   \n",
       "...            ...     ...    ...    ...    ...    ...    ...   ...  ...   \n",
       "69740        Large       0      0      0      0      0      0     0    1   \n",
       "69741        Large       0      0      0      0      0      0     0    1   \n",
       "69742        Large       0      0      0      0      0      0     0    1   \n",
       "69743        Large       0      0      0      0      0      0     0    1   \n",
       "69744        Large       0      0      0      0      0      0     0    1   \n",
       "\n",
       "       remote_delay_int  \n",
       "0                     2  \n",
       "1                     2  \n",
       "2                     2  \n",
       "3                     2  \n",
       "4                     2  \n",
       "...                 ...  \n",
       "69740                 2  \n",
       "69741                 2  \n",
       "69742                 2  \n",
       "69743                 2  \n",
       "69744                 2  \n",
       "\n",
       "[69745 rows x 16 columns]"
      ]
     },
     "execution_count": 102,
     "metadata": {},
     "output_type": "execute_result"
    }
   ],
   "source": [
    "df4 = df2.copy()\n",
    "df4"
   ]
  },
  {
   "cell_type": "code",
   "execution_count": 103,
   "metadata": {},
   "outputs": [
    {
     "data": {
      "text/html": [
       "<div>\n",
       "<style scoped>\n",
       "    .dataframe tbody tr th:only-of-type {\n",
       "        vertical-align: middle;\n",
       "    }\n",
       "\n",
       "    .dataframe tbody tr th {\n",
       "        vertical-align: top;\n",
       "    }\n",
       "\n",
       "    .dataframe thead th {\n",
       "        text-align: right;\n",
       "    }\n",
       "</style>\n",
       "<table border=\"1\" class=\"dataframe\">\n",
       "  <thead>\n",
       "    <tr style=\"text-align: right;\">\n",
       "      <th></th>\n",
       "      <th>local_avg</th>\n",
       "      <th>remote_avg</th>\n",
       "      <th>remote_delay</th>\n",
       "    </tr>\n",
       "  </thead>\n",
       "  <tbody>\n",
       "    <tr>\n",
       "      <th>0</th>\n",
       "      <td>0.19</td>\n",
       "      <td>8.14</td>\n",
       "      <td>Large</td>\n",
       "    </tr>\n",
       "    <tr>\n",
       "      <th>1</th>\n",
       "      <td>0.15</td>\n",
       "      <td>7.75</td>\n",
       "      <td>Large</td>\n",
       "    </tr>\n",
       "    <tr>\n",
       "      <th>2</th>\n",
       "      <td>0.15</td>\n",
       "      <td>8.68</td>\n",
       "      <td>Large</td>\n",
       "    </tr>\n",
       "    <tr>\n",
       "      <th>3</th>\n",
       "      <td>0.15</td>\n",
       "      <td>8.08</td>\n",
       "      <td>Large</td>\n",
       "    </tr>\n",
       "    <tr>\n",
       "      <th>4</th>\n",
       "      <td>0.15</td>\n",
       "      <td>8.20</td>\n",
       "      <td>Large</td>\n",
       "    </tr>\n",
       "    <tr>\n",
       "      <th>...</th>\n",
       "      <td>...</td>\n",
       "      <td>...</td>\n",
       "      <td>...</td>\n",
       "    </tr>\n",
       "    <tr>\n",
       "      <th>69740</th>\n",
       "      <td>0.15</td>\n",
       "      <td>8.70</td>\n",
       "      <td>Large</td>\n",
       "    </tr>\n",
       "    <tr>\n",
       "      <th>69741</th>\n",
       "      <td>0.15</td>\n",
       "      <td>8.43</td>\n",
       "      <td>Large</td>\n",
       "    </tr>\n",
       "    <tr>\n",
       "      <th>69742</th>\n",
       "      <td>0.15</td>\n",
       "      <td>8.71</td>\n",
       "      <td>Large</td>\n",
       "    </tr>\n",
       "    <tr>\n",
       "      <th>69743</th>\n",
       "      <td>0.15</td>\n",
       "      <td>8.42</td>\n",
       "      <td>Large</td>\n",
       "    </tr>\n",
       "    <tr>\n",
       "      <th>69744</th>\n",
       "      <td>0.15</td>\n",
       "      <td>9.12</td>\n",
       "      <td>Large</td>\n",
       "    </tr>\n",
       "  </tbody>\n",
       "</table>\n",
       "<p>69745 rows × 3 columns</p>\n",
       "</div>"
      ],
      "text/plain": [
       "       local_avg  remote_avg remote_delay\n",
       "0           0.19        8.14        Large\n",
       "1           0.15        7.75        Large\n",
       "2           0.15        8.68        Large\n",
       "3           0.15        8.08        Large\n",
       "4           0.15        8.20        Large\n",
       "...          ...         ...          ...\n",
       "69740       0.15        8.70        Large\n",
       "69741       0.15        8.43        Large\n",
       "69742       0.15        8.71        Large\n",
       "69743       0.15        8.42        Large\n",
       "69744       0.15        9.12        Large\n",
       "\n",
       "[69745 rows x 3 columns]"
      ]
     },
     "execution_count": 103,
     "metadata": {},
     "output_type": "execute_result"
    }
   ],
   "source": [
    "cols = ['local_avg', 'remote_avg', 'remote_delay']\n",
    "df4 = df4[cols]\n",
    "df4"
   ]
  },
  {
   "cell_type": "code",
   "execution_count": 104,
   "metadata": {},
   "outputs": [
    {
     "name": "stderr",
     "output_type": "stream",
     "text": [
      "C:\\Users\\VIphu N\\AppData\\Local\\Packages\\PythonSoftwareFoundation.Python.3.9_qbz5n2kfra8p0\\LocalCache\\local-packages\\Python39\\site-packages\\pandas\\core\\series.py:4509: SettingWithCopyWarning: \n",
      "A value is trying to be set on a copy of a slice from a DataFrame\n",
      "\n",
      "See the caveats in the documentation: https://pandas.pydata.org/pandas-docs/stable/user_guide/indexing.html#returning-a-view-versus-a-copy\n",
      "  return super().replace(\n"
     ]
    }
   ],
   "source": [
    "# Converting the small, medium, and large to [0, 1, 2]\n",
    "df4['remote_delay'].replace({'Small': 0, 'Medium': 1, 'Large': 2}, inplace = True)"
   ]
  },
  {
   "cell_type": "code",
   "execution_count": 105,
   "metadata": {},
   "outputs": [
    {
     "name": "stderr",
     "output_type": "stream",
     "text": [
      "C:\\Users\\VIphu N\\AppData\\Local\\Packages\\PythonSoftwareFoundation.Python.3.9_qbz5n2kfra8p0\\LocalCache\\local-packages\\Python39\\site-packages\\seaborn\\_decorators.py:36: FutureWarning: Pass the following variable as a keyword arg: x. From version 0.12, the only valid positional argument will be `data`, and passing other arguments without an explicit keyword will result in an error or misinterpretation.\n",
      "  warnings.warn(\n"
     ]
    },
    {
     "data": {
      "image/png": "[encoded data removed]",
      "text/plain": [
       "<Figure size 432x288 with 1 Axes>"
      ]
     },
     "metadata": {
      "needs_background": "light"
     },
     "output_type": "display_data"
    }
   ],
   "source": [
    "# To display the histogram of how often the response time is for the local delay input network \n",
    "sns.countplot(df4.remote_delay);"
   ]
  },
  {
   "cell_type": "code",
   "execution_count": 106,
   "metadata": {},
   "outputs": [
    {
     "data": {
      "text/plain": [
       "2    1.0\n",
       "Name: remote_delay, dtype: float64"
      ]
     },
     "execution_count": 106,
     "metadata": {},
     "output_type": "execute_result"
    }
   ],
   "source": [
    "# To look at the percentage of how much impact is the response time for local delay \n",
    "df4.remote_delay.value_counts() / df4.shape[0]"
   ]
  },
  {
   "cell_type": "code",
   "execution_count": 107,
   "metadata": {},
   "outputs": [],
   "source": [
    "# To split the data into train and test sets:\n",
    "X = df4[['local_avg', 'remote_avg']]\n",
    "y = df4[['remote_avg']]\n",
    "\n",
    "X_train, X_test, y_train, y_test = train_test_split(X, y, test_size=0.2, random_state=42)"
   ]
  },
  {
   "cell_type": "code",
   "execution_count": 108,
   "metadata": {},
   "outputs": [
    {
     "name": "stdout",
     "output_type": "stream",
     "text": [
      "x_train:        local_avg  remote_avg\n",
      "60266     0.1500      8.3900\n",
      "57072     0.1500      8.7700\n",
      "51794  9999.9999   9999.9999\n",
      "42041     0.1500      8.5100\n",
      "10883     0.1600      8.5800\n",
      "...          ...         ...\n",
      "37194     0.1500      8.9300\n",
      "6265      0.1500      9.3500\n",
      "54886     0.1500      8.0000\n",
      "860       0.1500      8.5700\n",
      "15795     0.1700      8.4500\n",
      "\n",
      "[55796 rows x 2 columns]\n"
     ]
    }
   ],
   "source": [
    "# DEBUG #\n",
    "print('x_train:' , X_train)\n",
    "# print('x_test:', X_test)\n",
    "# print('y_train:', y_train)\n",
    "# print('y_test:', y_test)"
   ]
  },
  {
   "cell_type": "code",
   "execution_count": 109,
   "metadata": {},
   "outputs": [
    {
     "name": "stdout",
     "output_type": "stream",
     "text": [
      "torch.Size([55796, 2]) torch.Size([55796])\n",
      "torch.Size([13949, 2]) torch.Size([13949])\n"
     ]
    }
   ],
   "source": [
    "# Convert all of it to Tensors (so we can use it with PyTorch)\n",
    "X_train = torch.from_numpy(X_train.to_numpy()).float()\n",
    "y_train = torch.squeeze(torch.from_numpy(y_train.to_numpy()).float())\n",
    "X_test = torch.from_numpy(X_test.to_numpy()).float()\n",
    "y_test = torch.squeeze(torch.from_numpy(y_test.to_numpy()).float())\n",
    "\n",
    "\n",
    "print(X_train.shape, y_train.shape)\n",
    "print(X_test.shape, y_test.shape)\n"
   ]
  },
  {
   "cell_type": "markdown",
   "metadata": {},
   "source": [
    "### Building a Neural Network"
   ]
  },
  {
   "cell_type": "code",
   "execution_count": 111,
   "metadata": {},
   "outputs": [
    {
     "data": {
      "text/plain": [
       "Net(\n",
       "  (fc1): Linear(in_features=2, out_features=5, bias=True)\n",
       "  (fc2): Linear(in_features=5, out_features=3, bias=True)\n",
       "  (fc3): Linear(in_features=3, out_features=1, bias=True)\n",
       ")"
      ]
     },
     "execution_count": 111,
     "metadata": {},
     "output_type": "execute_result"
    }
   ],
   "source": [
    "class Net(nn.Module):\n",
    "  def __init__(self, n_features):\n",
    "    super(Net, self).__init__()\n",
    "    self.fc1 = nn.Linear(n_features, 5)\n",
    "    self.fc2 = nn.Linear(5, 3)\n",
    "    self.fc3 = nn.Linear(3, 1)\n",
    "    \n",
    "  def forward(self, x):\n",
    "    x = F.relu(self.fc1(x))\n",
    "    x = F.relu(self.fc2(x))\n",
    "    return torch.sigmoid(self.fc3(x))\n",
    "\n",
    "net = Net(X_train.shape[1])\n",
    "net"
   ]
  },
  {
   "cell_type": "code",
   "execution_count": 112,
   "metadata": {},
   "outputs": [],
   "source": [
    "criterion = nn.BCELoss()\n",
    "optimizer = optim.Adam(net.parameters(), lr=0.001)\n",
    "device = torch.device(\"cuda:0\" if torch.cuda.is_available() else \"cpu\")"
   ]
  },
  {
   "cell_type": "code",
   "execution_count": 113,
   "metadata": {},
   "outputs": [],
   "source": [
    "X_train = X_train.to(device)\n",
    "y_train = y_train.to(device)\n",
    "\n",
    "X_test = X_test.to(device)\n",
    "y_test = y_test.to(device)\n"
   ]
  },
  {
   "cell_type": "code",
   "execution_count": 114,
   "metadata": {},
   "outputs": [],
   "source": [
    "net = net.to(device)\n",
    "\n",
    "criterion = criterion.to(device)"
   ]
  },
  {
   "cell_type": "code",
   "execution_count": 115,
   "metadata": {},
   "outputs": [
    {
     "name": "stdout",
     "output_type": "stream",
     "text": [
      "epoch 0 Train set - loss: -117.484, accuracy: 0.0\n",
      "            Test  set - loss: -115.523, accuracy: 0.0\n",
      "            \n",
      "epoch 100 Train set - loss: -78495.891, accuracy: 0.0\n",
      "            Test  set - loss: -77152.258, accuracy: 0.0\n",
      "            \n",
      "epoch 200 Train set - loss: -78496.297, accuracy: 0.0\n",
      "            Test  set - loss: -77152.719, accuracy: 0.0\n",
      "            \n",
      "epoch 300 Train set - loss: -78496.852, accuracy: 0.0\n",
      "            Test  set - loss: -77153.312, accuracy: 0.0\n",
      "            \n",
      "epoch 400 Train set - loss: -78497.523, accuracy: 0.0\n",
      "            Test  set - loss: -77154.055, accuracy: 0.0\n",
      "            \n",
      "epoch 500 Train set - loss: -78498.32, accuracy: 0.0\n",
      "            Test  set - loss: -77154.938, accuracy: 0.0\n",
      "            \n",
      "epoch 600 Train set - loss: -78499.227, accuracy: 0.0\n",
      "            Test  set - loss: -77155.961, accuracy: 0.0\n",
      "            \n",
      "epoch 700 Train set - loss: -78500.273, accuracy: 0.0\n",
      "            Test  set - loss: -77157.125, accuracy: 0.0\n",
      "            \n",
      "epoch 800 Train set - loss: -78501.469, accuracy: 0.0\n",
      "            Test  set - loss: -77158.438, accuracy: 0.0\n",
      "            \n",
      "epoch 900 Train set - loss: -78502.805, accuracy: 0.0\n",
      "            Test  set - loss: -77159.93, accuracy: 0.0\n",
      "            \n"
     ]
    }
   ],
   "source": [
    "def calculate_accuracy(y_true, y_pred):\n",
    "  predicted = y_pred.ge(.5).view(-1)\n",
    "  return (y_true == predicted).sum().float() / len(y_true)\n",
    "\n",
    "def round_tensor(t, decimal_places=3):\n",
    "  return round(t.item(), decimal_places)\n",
    "\n",
    "for epoch in range(1000):\n",
    "    \n",
    "    y_pred = net(X_train)\n",
    "    \n",
    "    y_pred = torch.squeeze(y_pred)\n",
    "    train_loss = criterion(y_pred, y_train)\n",
    "    \n",
    "    if epoch % 100 == 0:\n",
    "      train_acc = calculate_accuracy(y_train, y_pred)\n",
    "\n",
    "      y_test_pred = net(X_test)\n",
    "      y_test_pred = torch.squeeze(y_test_pred)\n",
    "\n",
    "      test_loss = criterion(y_test_pred, y_test)\n",
    "\n",
    "      test_acc = calculate_accuracy(y_test, y_test_pred)\n",
    "      print(f'''epoch {epoch} Train set - loss: {round_tensor(train_loss)}, accuracy: {round_tensor(train_acc)}\n",
    "            Test  set - loss: {round_tensor(test_loss)}, accuracy: {round_tensor(test_acc)}\n",
    "            ''')\n",
    "    \n",
    "    optimizer.zero_grad()\n",
    "    \n",
    "    train_loss.backward()\n",
    "    \n",
    "    optimizer.step()"
   ]
  },
  {
   "cell_type": "markdown",
   "metadata": {},
   "source": [
    "### Compare the results of the algorithms (comparison, conclusion, challenges...etc.)"
   ]
  },
  {
   "cell_type": "markdown",
   "metadata": {},
   "source": [
    "### Outcome of our analysis"
   ]
  }
 ],
 "metadata": {
  "interpreter": {
   "hash": "e3257dd6bb7ac5f2a2209d12b9ac77c9cd3e930a64993a400625cc1af97630f6"
  },
  "kernelspec": {
   "display_name": "Python 3.9.12 64-bit (windows store)",
   "language": "python",
   "name": "python3"
  },
  "language_info": {
   "codemirror_mode": {
    "name": "ipython",
    "version": 3
   },
   "file_extension": ".py",
   "mimetype": "text/x-python",
   "name": "python",
   "nbconvert_exporter": "python",
   "pygments_lexer": "ipython3",
   "version": "3.9.12"
  }
 },
 "nbformat": 4,
 "nbformat_minor": 2
}
