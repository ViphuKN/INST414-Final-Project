{
 "cells": [
  {
   "cell_type": "markdown",
   "metadata": {},
   "source": [
    "# Final Project on Supervised Learning"
   ]
  },
  {
   "cell_type": "markdown",
   "metadata": {},
   "source": [
    "### LAN and WAN Response Analysis \n",
    "- Description: The source of our data comes from the variablity of a LAN network when it is connecting to the Internet. The data is collected by the ping response time from the devices of the local internet router and to the first-hop server on the internet.\n",
    "- Group Members: Eric Topmiller, Viphu Nguyen, David Gigremosa, Paul Rozario"
   ]
  },
  {
   "cell_type": "markdown",
   "metadata": {},
   "source": [
    "Question to Answer: What is the worst time of day for ping response with ethernet and wireless for both LAN and WAN?"
   ]
  },
  {
   "cell_type": "code",
   "execution_count": 28,
   "metadata": {},
   "outputs": [],
   "source": [
    "\n",
    "# Import libraries\n",
    "\n",
    "import numpy as np\n",
    "import pandas as pd \n",
    "import matplotlib.pyplot as plt \n",
    "import seaborn as sns \n",
    "from datetime import datetime\n",
    "from sklearn.linear_model import LogisticRegression\n",
    "from sklearn import tree\n",
    "from sklearn.tree import DecisionTreeClassifier\n",
    "from sklearn.model_selection import train_test_split\n",
    "from sklearn.metrics import accuracy_score\n",
    "from sklearn.metrics import classification_report, confusion_matrix\n",
    "from sklearn.metrics import roc_auc_score, roc_curve, accuracy_score\n",
    "from sklearn.metrics import precision_score, recall_score\n",
    "from sklearn import preprocessing\n",
    "import matplotlib.pyplot as plt\n",
    "from matplotlib import style"
   ]
  },
  {
   "cell_type": "code",
   "execution_count": 29,
   "metadata": {},
   "outputs": [],
   "source": [
    "# Set the dataset from the network csv\n",
    "df = pd.read_csv('ping_data_rp829c7e0e_eth.csv')\n",
    "df.head()\n",
    "df.sort_values('timestamp', inplace=True)"
   ]
  },
  {
   "cell_type": "markdown",
   "metadata": {},
   "source": [
    "### Data Wrangling and Filtering the Data\n",
    "- Done by Viphu Nguyen and Eric Topmiller"
   ]
  },
  {
   "cell_type": "code",
   "execution_count": 30,
   "metadata": {},
   "outputs": [
    {
     "data": {
      "text/plain": [
       "timestamp      0\n",
       "location       0\n",
       "source         0\n",
       "local_dest     0\n",
       "local_avg      0\n",
       "remote_dest    0\n",
       "remote_avg     0\n",
       "dtype: int64"
      ]
     },
     "execution_count": 30,
     "metadata": {},
     "output_type": "execute_result"
    }
   ],
   "source": [
    "# Finding the missing values from the ping dataset\n",
    "df.isna().sum()"
   ]
  },
  {
   "cell_type": "code",
   "execution_count": 31,
   "metadata": {},
   "outputs": [],
   "source": [
    "# Duplicate the dataframe in case of crashes\n",
    "df1 = df.copy()"
   ]
  },
  {
   "cell_type": "code",
   "execution_count": 32,
   "metadata": {},
   "outputs": [
    {
     "data": {
      "text/html": [
       "<div>\n",
       "<style scoped>\n",
       "    .dataframe tbody tr th:only-of-type {\n",
       "        vertical-align: middle;\n",
       "    }\n",
       "\n",
       "    .dataframe tbody tr th {\n",
       "        vertical-align: top;\n",
       "    }\n",
       "\n",
       "    .dataframe thead th {\n",
       "        text-align: right;\n",
       "    }\n",
       "</style>\n",
       "<table border=\"1\" class=\"dataframe\">\n",
       "  <thead>\n",
       "    <tr style=\"text-align: right;\">\n",
       "      <th></th>\n",
       "      <th>timestamp</th>\n",
       "      <th>source</th>\n",
       "      <th>local_avg</th>\n",
       "      <th>remote_avg</th>\n",
       "    </tr>\n",
       "  </thead>\n",
       "  <tbody>\n",
       "    <tr>\n",
       "      <th>0</th>\n",
       "      <td>1.559041e+09</td>\n",
       "      <td>ethernet</td>\n",
       "      <td>0.19</td>\n",
       "      <td>8.14</td>\n",
       "    </tr>\n",
       "    <tr>\n",
       "      <th>1</th>\n",
       "      <td>1.559041e+09</td>\n",
       "      <td>ethernet</td>\n",
       "      <td>0.15</td>\n",
       "      <td>7.75</td>\n",
       "    </tr>\n",
       "    <tr>\n",
       "      <th>2</th>\n",
       "      <td>1.559041e+09</td>\n",
       "      <td>ethernet</td>\n",
       "      <td>0.15</td>\n",
       "      <td>8.68</td>\n",
       "    </tr>\n",
       "    <tr>\n",
       "      <th>3</th>\n",
       "      <td>1.559041e+09</td>\n",
       "      <td>ethernet</td>\n",
       "      <td>0.15</td>\n",
       "      <td>8.08</td>\n",
       "    </tr>\n",
       "    <tr>\n",
       "      <th>4</th>\n",
       "      <td>1.559041e+09</td>\n",
       "      <td>ethernet</td>\n",
       "      <td>0.15</td>\n",
       "      <td>8.20</td>\n",
       "    </tr>\n",
       "    <tr>\n",
       "      <th>...</th>\n",
       "      <td>...</td>\n",
       "      <td>...</td>\n",
       "      <td>...</td>\n",
       "      <td>...</td>\n",
       "    </tr>\n",
       "    <tr>\n",
       "      <th>69740</th>\n",
       "      <td>1.559691e+09</td>\n",
       "      <td>ethernet</td>\n",
       "      <td>0.15</td>\n",
       "      <td>8.70</td>\n",
       "    </tr>\n",
       "    <tr>\n",
       "      <th>69741</th>\n",
       "      <td>1.559691e+09</td>\n",
       "      <td>ethernet</td>\n",
       "      <td>0.15</td>\n",
       "      <td>8.43</td>\n",
       "    </tr>\n",
       "    <tr>\n",
       "      <th>69742</th>\n",
       "      <td>1.559691e+09</td>\n",
       "      <td>ethernet</td>\n",
       "      <td>0.15</td>\n",
       "      <td>8.71</td>\n",
       "    </tr>\n",
       "    <tr>\n",
       "      <th>69743</th>\n",
       "      <td>1.559691e+09</td>\n",
       "      <td>ethernet</td>\n",
       "      <td>0.15</td>\n",
       "      <td>8.42</td>\n",
       "    </tr>\n",
       "    <tr>\n",
       "      <th>69744</th>\n",
       "      <td>1.559691e+09</td>\n",
       "      <td>ethernet</td>\n",
       "      <td>0.15</td>\n",
       "      <td>9.12</td>\n",
       "    </tr>\n",
       "  </tbody>\n",
       "</table>\n",
       "<p>69745 rows × 4 columns</p>\n",
       "</div>"
      ],
      "text/plain": [
       "          timestamp    source  local_avg  remote_avg\n",
       "0      1.559041e+09  ethernet       0.19        8.14\n",
       "1      1.559041e+09  ethernet       0.15        7.75\n",
       "2      1.559041e+09  ethernet       0.15        8.68\n",
       "3      1.559041e+09  ethernet       0.15        8.08\n",
       "4      1.559041e+09  ethernet       0.15        8.20\n",
       "...             ...       ...        ...         ...\n",
       "69740  1.559691e+09  ethernet       0.15        8.70\n",
       "69741  1.559691e+09  ethernet       0.15        8.43\n",
       "69742  1.559691e+09  ethernet       0.15        8.71\n",
       "69743  1.559691e+09  ethernet       0.15        8.42\n",
       "69744  1.559691e+09  ethernet       0.15        9.12\n",
       "\n",
       "[69745 rows x 4 columns]"
      ]
     },
     "execution_count": 32,
     "metadata": {},
     "output_type": "execute_result"
    }
   ],
   "source": [
    "# Removing unncessary columns from the ping dataset\n",
    "df1 = df1.drop(['location', 'local_dest', 'remote_dest'], axis = 1)\n",
    "df1"
   ]
  },
  {
   "cell_type": "markdown",
   "metadata": {},
   "source": [
    "#### *Each header definition*\n",
    "- Timestamp: The current time of an event that is recorded\n",
    "- Source: Network Source\n",
    "- Local_avg: Response Time for local network (ms)\n",
    "- Remote_avg: Response time for remote network (ms)"
   ]
  },
  {
   "cell_type": "code",
   "execution_count": 33,
   "metadata": {},
   "outputs": [
    {
     "name": "stdout",
     "output_type": "stream",
     "text": [
      "      timestamp    source  local_avg  remote_avg  hour\n",
      "0  1.559041e+09  ethernet       0.19        8.14    10\n",
      "1  1.559041e+09  ethernet       0.15        7.75    10\n",
      "2  1.559041e+09  ethernet       0.15        8.68    10\n",
      "3  1.559041e+09  ethernet       0.15        8.08    10\n",
      "4  1.559041e+09  ethernet       0.15        8.20    10\n",
      "[10 11 12 13 14 15 16 17 18 19 20 21 22 23  0  1  2  3  4  5  6  7  8  9]\n",
      "<class 'pandas.core.frame.DataFrame'>\n",
      "Int64Index: 69745 entries, 0 to 69744\n",
      "Data columns (total 5 columns):\n",
      " #   Column      Non-Null Count  Dtype  \n",
      "---  ------      --------------  -----  \n",
      " 0   timestamp   69745 non-null  float64\n",
      " 1   source      69745 non-null  object \n",
      " 2   local_avg   69745 non-null  float64\n",
      " 3   remote_avg  69745 non-null  float64\n",
      " 4   hour        69745 non-null  int32  \n",
      "dtypes: float64(3), int32(1), object(1)\n",
      "memory usage: 2.9+ MB\n",
      "None\n"
     ]
    }
   ],
   "source": [
    "# create a column that is the start of the range of hours of the day, show the head, show it has all 24 hours of the day\n",
    "#df1['hour'] = (df['timestamp'].astype(int) % 86400) / 14400\n",
    "df1['hour'] = (df['timestamp'].astype(int) % 86400) / 3600\n",
    "df1['hour'] = df1['hour'].astype(int)\n",
    "print(df1.head())\n",
    "print(df1['hour'].unique())\n",
    "print(df1.info())"
   ]
  },
  {
   "cell_type": "code",
   "execution_count": 34,
   "metadata": {},
   "outputs": [
    {
     "name": "stdout",
     "output_type": "stream",
     "text": [
      "count    69745.000000\n",
      "mean       782.506427\n",
      "std       2685.044084\n",
      "min          0.140000\n",
      "25%          0.150000\n",
      "50%          0.150000\n",
      "75%          0.150000\n",
      "max       9999.999900\n",
      "Name: local_avg, dtype: float64\n",
      "count    69745.000000\n",
      "mean       793.170246\n",
      "std       2682.048286\n",
      "min          4.020000\n",
      "25%          8.180000\n",
      "50%          8.620000\n",
      "75%          9.570000\n",
      "max       9999.999900\n",
      "Name: remote_avg, dtype: float64\n"
     ]
    },
    {
     "data": {
      "image/png": "[encoded data removed]",
      "text/plain": [
       "<Figure size 360x2160 with 1 Axes>"
      ]
     },
     "metadata": {
      "needs_background": "light"
     },
     "output_type": "display_data"
    }
   ],
   "source": [
    "# remove the rows with avg of 9999.9999 since they are failures and will skew the data\n",
    "#df1 = df1[(df1['local_avg'] != 9999) & (df1['remote_avg'] < 1000.0)]\n",
    "df1 = df1.reset_index()\n",
    "print(df1['local_avg'].describe())\n",
    "print(df1['remote_avg'].describe())\n",
    "# for plotting throw out the large values so we can better see the more common local_avg\n",
    "df_small_remote = df1[(df1['remote_avg'] < 1000.0)]\n",
    "df_small_remote['remote_avg'].plot(figsize=(5,30))\n",
    "plt.show()"
   ]
  },
  {
   "cell_type": "code",
   "execution_count": 35,
   "metadata": {},
   "outputs": [
    {
     "name": "stdout",
     "output_type": "stream",
     "text": [
      "count    69745.000000\n",
      "mean       793.170246\n",
      "std       2682.048286\n",
      "min          4.020000\n",
      "25%          8.180000\n",
      "50%          8.620000\n",
      "75%          9.570000\n",
      "max       9999.999900\n",
      "Name: remote_avg, dtype: float64\n"
     ]
    }
   ],
   "source": [
    "# find the quartiles of the time data so we can create local average categorical variable\n",
    "print(df1['remote_avg'].describe())"
   ]
  },
  {
   "cell_type": "code",
   "execution_count": 36,
   "metadata": {},
   "outputs": [
    {
     "name": "stdout",
     "output_type": "stream",
     "text": [
      "['Large']\n",
      "Categories (1, object): ['Large']\n"
     ]
    }
   ],
   "source": [
    "# create the categorical variable local_delay for the local delay of low, average, high using the quartiles\n",
    "# we will leave in the 9999.9999 since they probably represent failures and should be placed the high\n",
    "bins = [float('-inf'), 0.149, 0.15, float('inf')]\n",
    "labels = ['Small', 'Medium', 'Large']\n",
    "df1['remote_delay'] = pd.cut(df1['remote_avg'], bins=bins, labels=labels)\n",
    "df1.head()\n",
    "print(df1['remote_delay'].unique())\n"
   ]
  },
  {
   "cell_type": "code",
   "execution_count": 37,
   "metadata": {},
   "outputs": [],
   "source": [
    "# do some range categorical variables to section off the dataset based on the plot of remote_avg below 1000\n",
    "df1['gr1000'] = 0\n",
    "df1.loc[df1['remote_avg'] > 1000.0, 'gr1000'] = 1\n",
    "df1['gr750'] = 0\n",
    "df1.loc[(df1['remote_avg'] > 750.0) & (df1['remote_avg'] <= 1000.0), 'gr750'] = 1\n",
    "df1['gr500'] = 0\n",
    "df1.loc[(df1['remote_avg'] > 500.0) & (df1['remote_avg'] <= 750.0), 'gr500'] = 1\n",
    "df1['gr410'] = 0\n",
    "df1.loc[(df1['remote_avg'] > 410.0) & (df1['remote_avg'] <= 500.0), 'gr410'] = 1\n",
    "df1['gr190'] = 0\n",
    "df1.loc[(df1['remote_avg'] > 190.0) & (df1['remote_avg'] <= 410.0), 'gr190'] = 1\n",
    "df1['gr100'] = 0\n",
    "df1.loc[(df1['remote_avg'] > 100.0) & (df1['remote_avg'] <= 190.0), 'gr100'] = 1\n",
    "df1['gr75'] = 0\n",
    "df1.loc[(df1['remote_avg'] > 75.0) & (df1['remote_avg'] <= 100.0), 'gr100'] = 1\n",
    "df1['gr0'] = 0\n",
    "df1.loc[df1['remote_avg'] <= 75.0, 'gr0'] = 1"
   ]
  },
  {
   "cell_type": "markdown",
   "metadata": {},
   "source": [
    "### Data Visualizations \n",
    "- Done by Viphu Nguyen"
   ]
  },
  {
   "cell_type": "code",
   "execution_count": 38,
   "metadata": {},
   "outputs": [
    {
     "data": {
      "text/plain": [
       "count    69745.000000\n",
       "mean       782.506427\n",
       "std       2685.044084\n",
       "min          0.140000\n",
       "25%          0.150000\n",
       "50%          0.150000\n",
       "75%          0.150000\n",
       "max       9999.999900\n",
       "Name: local_avg, dtype: float64"
      ]
     },
     "execution_count": 38,
     "metadata": {},
     "output_type": "execute_result"
    },
    {
     "data": {
      "image/png": "[encoded data removed]",
      "text/plain": [
       "<Figure size 432x288 with 1 Axes>"
      ]
     },
     "metadata": {
      "needs_background": "light"
     },
     "output_type": "display_data"
    }
   ],
   "source": [
    "# Histogram for 'local_avg' response time (local) column\n",
    "df1.hist(column='local_avg', bins=200, grid=False, rwidth=.9, color='purple')\n",
    "df1['local_avg'].describe()"
   ]
  },
  {
   "cell_type": "code",
   "execution_count": 39,
   "metadata": {},
   "outputs": [
    {
     "data": {
      "text/plain": [
       "count    69745.000000\n",
       "mean       793.170246\n",
       "std       2682.048286\n",
       "min          4.020000\n",
       "25%          8.180000\n",
       "50%          8.620000\n",
       "75%          9.570000\n",
       "max       9999.999900\n",
       "Name: remote_avg, dtype: float64"
      ]
     },
     "execution_count": 39,
     "metadata": {},
     "output_type": "execute_result"
    },
    {
     "data": {
      "image/png": "[encoded data removed]",
      "text/plain": [
       "<Figure size 432x288 with 1 Axes>"
      ]
     },
     "metadata": {
      "needs_background": "light"
     },
     "output_type": "display_data"
    }
   ],
   "source": [
    "# Histogram for 'remote_avg' response time (local) column\n",
    "df1.hist(column='remote_avg', bins=200, grid=False, rwidth=.9, color='purple')\n",
    "df1['remote_avg'].describe()"
   ]
  },
  {
   "cell_type": "markdown",
   "metadata": {},
   "source": [
    "Analysis: The histogram tells us that the the response time (ms) is estimated largely between 0 to 2,000 while there is a fewer amount at closer to 10,000 frequency for the response time between 8,000 to 10,000"
   ]
  },
  {
   "cell_type": "code",
   "execution_count": 40,
   "metadata": {},
   "outputs": [],
   "source": [
    "# Duplicate the dataframe in case of crashes\n",
    "df2 = df1.copy()"
   ]
  },
  {
   "cell_type": "code",
   "execution_count": 41,
   "metadata": {},
   "outputs": [
    {
     "name": "stdout",
     "output_type": "stream",
     "text": [
      "[2]\n",
      "   gr1000  gr750  gr500  gr410  gr190  gr100  gr75  gr0  remote_delay_int\n",
      "0       0      0      0      0      0      0     0    1                 2\n",
      "1       0      0      0      0      0      0     0    1                 2\n",
      "2       0      0      0      0      0      0     0    1                 2\n",
      "3       0      0      0      0      0      0     0    1                 2\n",
      "4       0      0      0      0      0      0     0    1                 2\n",
      "0    10\n",
      "1    10\n",
      "2    10\n",
      "3    10\n",
      "4    10\n",
      "Name: hour, dtype: int32\n"
     ]
    }
   ],
   "source": [
    "# map the local_delay and remote_delay to integers since that is what is needed by the classifier\n",
    "df2['remote_delay_int'] = df2['remote_delay'].map({'Small':0, 'Medium':1, 'Large':2}).astype(int)\n",
    "print(df2['remote_delay_int'].unique())\n",
    "X = df2.drop(['index', 'timestamp', 'source', 'local_avg', 'remote_avg', 'remote_delay', 'hour'], axis = 1)\n",
    "y = df2['hour']\n",
    "print(X.head())\n",
    "print(y.head())"
   ]
  },
  {
   "cell_type": "code",
   "execution_count": 42,
   "metadata": {},
   "outputs": [
    {
     "name": "stdout",
     "output_type": "stream",
     "text": [
      "       gr1000  gr750  gr500  gr410  gr190  gr100  gr75  gr0  remote_delay_int\n",
      "33973       0      0      0      0      0      0     0    1                 2\n",
      "68346       0      0      0      0      0      0     0    1                 2\n",
      "18644       0      0      0      0      0      0     0    1                 2\n",
      "11347       0      0      0      0      0      0     0    1                 2\n",
      "59206       0      0      0      0      0      0     0    1                 2\n",
      "...       ...    ...    ...    ...    ...    ...   ...  ...               ...\n",
      "57042       0      0      0      0      0      0     0    1                 2\n",
      "36008       0      0      0      0      0      0     0    1                 2\n",
      "46265       0      0      0      0      0      0     0    1                 2\n",
      "23587       0      0      0      0      0      0     0    1                 2\n",
      "29313       0      0      0      0      0      0     0    1                 2\n",
      "\n",
      "[55796 rows x 9 columns] 33973     7\n",
      "68346    19\n",
      "18644    12\n",
      "11347    18\n",
      "59206    18\n",
      "         ..\n",
      "57042    11\n",
      "36008    13\n",
      "46265    18\n",
      "23587     2\n",
      "29313    18\n",
      "Name: hour, Length: 55796, dtype: int32\n"
     ]
    }
   ],
   "source": [
    "# split out the test and train datasets\n",
    "X_train, X_test, y_train, y_test= train_test_split(X, y,test_size=0.2,random_state=99)\n",
    "print(X_train, y_train)"
   ]
  },
  {
   "cell_type": "markdown",
   "metadata": {},
   "source": [
    "### Use scikit-learn for Logistic Regression and DecisionTree Classification, XGBoost, Keras, Pytorch to train, test and predict a categorical variable. Use appropriate metric and interpret themeaning of the score"
   ]
  },
  {
   "cell_type": "markdown",
   "metadata": {},
   "source": [
    "### Logistic Regression"
   ]
  },
  {
   "cell_type": "code",
   "execution_count": 43,
   "metadata": {},
   "outputs": [
    {
     "name": "stderr",
     "output_type": "stream",
     "text": [
      "C:\\ProgramData\\Anaconda3\\lib\\site-packages\\sklearn\\linear_model\\_logistic.py:762: ConvergenceWarning: lbfgs failed to converge (status=1):\n",
      "STOP: TOTAL NO. of ITERATIONS REACHED LIMIT.\n",
      "\n",
      "Increase the number of iterations (max_iter) or scale the data as shown in:\n",
      "    https://scikit-learn.org/stable/modules/preprocessing.html\n",
      "Please also refer to the documentation for alternative solver options:\n",
      "    https://scikit-learn.org/stable/modules/linear_model.html#logistic-regression\n",
      "  n_iter_i = _check_optimize_result(\n"
     ]
    }
   ],
   "source": [
    "LogReg = LogisticRegression()\n",
    "\n",
    "scaler = preprocessing.StandardScaler()\n",
    "X_train = scaler.fit_transform(X_train)\n",
    "X_test = scaler.transform(X_test)\n",
    "\n",
    "LogReg.fit(X_train,y_train)\n",
    "\n",
    "y_pred=LogReg.predict(X_test)"
   ]
  },
  {
   "cell_type": "code",
   "execution_count": 44,
   "metadata": {},
   "outputs": [
    {
     "name": "stdout",
     "output_type": "stream",
     "text": [
      "Classes [ 0  1  2  3  4  5  6  7  8  9 10 11 12 13 14 15 16 17 18 19 20 21 22 23]\n",
      "Intercept [ 0.54729953  0.59640258 -0.19513092 -0.15865349 -0.18267579 -0.20289235\n",
      " -0.25168109 -0.2635205  -0.21346902 -0.19678583 -0.20129185  0.67103595\n",
      " -0.07493454 -0.03443981 -0.04948154 -0.02529167 -0.0827706  -0.09506607\n",
      " -0.06026415 -0.04730715 -0.04870332 -0.06041421  0.71332927 -0.08329344]\n",
      "Coefficients [[ 1.13822530e+00 -4.98668854e-03  1.17170024e-02 -3.77950732e-02\n",
      "  -2.40550363e-02 -2.50191970e-01  0.00000000e+00 -1.00035990e+00\n",
      "   0.00000000e+00]\n",
      " [ 1.25111703e+00 -6.10485897e-03 -4.00778682e-02 -4.50783541e-02\n",
      "   4.49188431e-03 -1.58441701e-01  0.00000000e+00 -1.13397698e+00\n",
      "   0.00000000e+00]\n",
      " [-2.47037378e-01 -1.52978267e-03 -8.55120311e-02 -1.17612925e-02\n",
      "   2.63403978e-01  2.48111535e-01  0.00000000e+00  1.20698984e-01\n",
      "   0.00000000e+00]\n",
      " [-2.46795841e-01 -1.62215444e-03  1.04577185e-01  1.22432311e-01\n",
      "   1.74842839e-01  1.93267172e-01  0.00000000e+00  1.31293634e-01\n",
      "   0.00000000e+00]\n",
      " [-2.32358713e-01 -1.52890453e-03  6.55922445e-02 -1.09848132e-02\n",
      "   1.55331473e-01  8.88460063e-02  0.00000000e+00  1.60114819e-01\n",
      "   0.00000000e+00]\n",
      " [-2.17727087e-01 -1.45285934e-03  7.03884641e-02 -1.04826854e-02\n",
      "  -1.82084796e-01  4.07656589e-02  0.00000000e+00  2.23872329e-01\n",
      "   0.00000000e+00]\n",
      " [-1.96307200e-01 -1.28162297e-03 -7.37492979e-02 -9.72428556e-03\n",
      "  -1.67813682e-01 -3.51164955e-01  0.00000000e+00  3.23641052e-01\n",
      "   0.00000000e+00]\n",
      " [-1.94324819e-01 -1.24451619e-03 -7.36622059e-02 -9.63499931e-03\n",
      "  -1.67610564e-01 -3.50774772e-01  0.00000000e+00  3.21605044e-01\n",
      "   0.00000000e+00]\n",
      " [-2.16718449e-01 -1.42014940e-03  7.02820483e-02 -1.04268960e-02\n",
      "  -1.82441681e-01  5.66590900e-02  0.00000000e+00  2.18492004e-01\n",
      "   0.00000000e+00]\n",
      " [-2.21697145e-01 -1.47502013e-03  6.93817232e-02 -1.06304932e-02\n",
      "  -1.84115262e-01  1.01775004e-01  0.00000000e+00  2.10830030e-01\n",
      "   0.00000000e+00]\n",
      " [-2.14497735e-01 -1.45496896e-03 -7.84662156e-02 -1.03891457e-02\n",
      "  -1.78985667e-01 -6.74975526e-03  0.00000000e+00  2.45878932e-01\n",
      "   0.00000000e+00]\n",
      " [ 1.16115668e+00 -5.39973698e-03 -3.16718728e-02 -3.89351312e-02\n",
      "  -8.26681058e-02 -3.31823575e-01  0.00000000e+00 -9.84134808e-01\n",
      "   0.00000000e+00]\n",
      " [-2.40137167e-01 -1.85450127e-03 -8.10248871e-02 -1.14881235e-02\n",
      "  -1.84964638e-01  9.92881119e-02  0.00000000e+00  2.41512486e-01\n",
      "   0.00000000e+00]\n",
      " [-2.58209561e-01 -1.99529565e-03 -8.50558948e-02 -1.21695583e-02\n",
      "   1.68771859e-01  1.33224755e-01  0.00000000e+00  1.81845544e-01\n",
      "   0.00000000e+00]\n",
      " [-2.60231725e-01 -1.95659190e-03 -8.56347429e-02 -1.22672521e-02\n",
      "   1.86621273e-01  1.83527710e-01  0.00000000e+00  1.66159694e-01\n",
      "   0.00000000e+00]\n",
      " [-2.68032933e-01 -2.03829070e-03  6.14387806e-02  1.17869698e-01\n",
      "   2.25785355e-01  1.65483725e-01  0.00000000e+00  1.53272295e-01\n",
      "   0.00000000e+00]\n",
      " [-2.35985493e-01 -1.82672892e-03 -8.01312310e-02 -1.13299251e-02\n",
      "  -1.82868280e-01  3.72582766e-02  0.00000000e+00  2.54668092e-01\n",
      "   0.00000000e+00]\n",
      " [-2.33329276e-01 -1.78816032e-03  7.00533037e-02 -1.12189978e-02\n",
      "  -1.82159716e-01 -1.72199323e-02  0.00000000e+00  2.55128005e-01\n",
      "   0.00000000e+00]\n",
      " [-2.43242712e-01 -1.90286489e-03  6.74070436e-02 -1.15994198e-02\n",
      "   1.10250928e-01 -8.59857304e-02  0.00000000e+00  2.28400852e-01\n",
      "   0.00000000e+00]\n",
      " [-2.56703632e-01  5.44705633e-02  1.00696261e-01 -1.20883352e-02\n",
      "   1.50280437e-01  1.10624672e-01  0.00000000e+00  1.74272634e-01\n",
      "   0.00000000e+00]\n",
      " [-2.59402582e-01 -1.95691631e-03  7.88211124e-02  1.13446325e-01\n",
      "   9.97831535e-02  1.75557880e-01  0.00000000e+00  1.65078302e-01\n",
      "   0.00000000e+00]\n",
      " [-2.44814691e-01 -1.90327965e-03 -8.25532998e-02 -1.16436227e-02\n",
      "   6.88082980e-02  2.67923396e-02  0.00000000e+00  2.18160778e-01\n",
      "   0.00000000e+00]\n",
      " [ 1.18583203e+00 -5.90664714e-03 -3.72201029e-02 -4.23672435e-02\n",
      "  -4.10339541e-02 -2.01627715e-01  0.00000000e+00 -1.05166836e+00\n",
      "   0.00000000e+00]\n",
      " [-2.48776900e-01 -1.84002342e-03  6.44044812e-02 -1.17326866e-02\n",
      "   1.52429905e-01  9.27981702e-02  0.00000000e+00  1.75214529e-01\n",
      "   0.00000000e+00]]\n"
     ]
    }
   ],
   "source": [
    "print('Classes', LogReg.classes_)\n",
    "print('Intercept',LogReg.intercept_)\n",
    "print(\"Coefficients\", LogReg.coef_ )"
   ]
  },
  {
   "cell_type": "code",
   "execution_count": 45,
   "metadata": {},
   "outputs": [
    {
     "name": "stdout",
     "output_type": "stream",
     "text": [
      "Accuracy 0.07161803713527852\n",
      "              precision    recall  f1-score   support\n",
      "\n",
      "           0       0.12      0.00      0.00       676\n",
      "           1       0.37      0.45      0.41       925\n",
      "           2       0.15      0.04      0.07       491\n",
      "           3       1.00      0.00      0.01       472\n",
      "           4       0.00      0.00      0.00       530\n",
      "           5       0.00      0.00      0.00       505\n",
      "           6       0.00      0.00      0.00       492\n",
      "           7       0.00      0.00      0.00       519\n",
      "           8       0.00      0.00      0.00       532\n",
      "           9       0.00      0.00      0.00       503\n",
      "          10       0.00      0.00      0.00       501\n",
      "          11       0.00      0.00      0.00       806\n",
      "          12       0.00      0.00      0.00       564\n",
      "          13       0.00      0.00      0.00       533\n",
      "          14       0.00      0.00      0.00       566\n",
      "          15       0.00      0.00      0.00       520\n",
      "          16       0.00      0.00      0.00       569\n",
      "          17       0.00      0.00      0.00       596\n",
      "          18       0.04      1.00      0.08       554\n",
      "          19       0.00      0.00      0.00       571\n",
      "          20       0.00      0.00      0.00       577\n",
      "          21       0.00      0.00      0.00       564\n",
      "          22       0.00      0.00      0.00       860\n",
      "          23       0.00      0.00      0.00       523\n",
      "\n",
      "    accuracy                           0.07     13949\n",
      "   macro avg       0.07      0.06      0.02     13949\n",
      "weighted avg       0.07      0.07      0.03     13949\n",
      "\n"
     ]
    },
    {
     "name": "stderr",
     "output_type": "stream",
     "text": [
      "C:\\ProgramData\\Anaconda3\\lib\\site-packages\\sklearn\\metrics\\_classification.py:1221: UndefinedMetricWarning: Precision and F-score are ill-defined and being set to 0.0 in labels with no predicted samples. Use `zero_division` parameter to control this behavior.\n",
      "  _warn_prf(average, modifier, msg_start, len(result))\n"
     ]
    }
   ],
   "source": [
    "print(\"Accuracy\", LogReg.score(X_test, y_test))\n",
    "print(classification_report(y_test, LogReg.predict(X_test)))"
   ]
  },
  {
   "cell_type": "markdown",
   "metadata": {},
   "source": [
    "### Decision Tree\n",
    "- Done by Viphu Nguyen and Eric Topmiller"
   ]
  },
  {
   "cell_type": "code",
   "execution_count": 46,
   "metadata": {},
   "outputs": [],
   "source": [
    "clf = DecisionTreeClassifier(criterion='entropy', random_state=99)"
   ]
  },
  {
   "cell_type": "code",
   "execution_count": 47,
   "metadata": {},
   "outputs": [
    {
     "data": {
      "text/plain": [
       "0.07161803713527852"
      ]
     },
     "execution_count": 47,
     "metadata": {},
     "output_type": "execute_result"
    }
   ],
   "source": [
    "clf.fit(X_train,y_train)\n",
    "y_pred= clf.predict(X_test)\n",
    "accuracy_score(y_test, y_pred)"
   ]
  },
  {
   "cell_type": "markdown",
   "metadata": {},
   "source": [
    "##### Plot a Decision Tree"
   ]
  },
  {
   "cell_type": "code",
   "execution_count": 48,
   "metadata": {},
   "outputs": [
    {
     "data": {
      "image/png": "[encoded data removed]",
      "text/plain": [
       "<Figure size 864x864 with 1 Axes>"
      ]
     },
     "metadata": {
      "needs_background": "light"
     },
     "output_type": "display_data"
    }
   ],
   "source": [
    "fig, ax = plt.subplots(figsize=(12, 12))\n",
    "tree.plot_tree(decision_tree=clf, max_depth= 3,fontsize=12);"
   ]
  },
  {
   "cell_type": "markdown",
   "metadata": {},
   "source": [
    "###  Show feature importance in XGBoost by using xgb.plot.importance"
   ]
  },
  {
   "cell_type": "code",
   "execution_count": 49,
   "metadata": {},
   "outputs": [
    {
     "name": "stdout",
     "output_type": "stream",
     "text": [
      "Requirement already satisfied: xgboost in c:\\programdata\\anaconda3\\lib\\site-packages (1.6.0)\n",
      "Requirement already satisfied: numpy in c:\\programdata\\anaconda3\\lib\\site-packages (from xgboost) (1.19.2)\n",
      "Requirement already satisfied: scipy in c:\\programdata\\anaconda3\\lib\\site-packages (from xgboost) (1.5.2)\n",
      "accuracy: 0.071618\n"
     ]
    }
   ],
   "source": [
    "!pip install xgboost\n",
    "import xgboost as xgb\n",
    "xg_cl = xgb.XGBClassifier(objective='binary:logistic', max_depth=10, n_estimators=100, seed=99) \n",
    "xg_cl.fit(X_train, y_train)\n",
    "preds = xg_cl.predict(X_test)\n",
    "accuracy = float(np.sum(preds==y_test))/y_test.shape[0]\n",
    "print(\"accuracy: %f\" % (accuracy))"
   ]
  },
  {
   "cell_type": "markdown",
   "metadata": {},
   "source": [
    "## Keras"
   ]
  },
  {
   "cell_type": "code",
   "execution_count": 50,
   "metadata": {},
   "outputs": [],
   "source": [
    "#!pip install tensorflow --user\n",
    "#from tensorflow.keras import layers, losses\n",
    "#from tensorflow.keras.datasets import fashion_mnist\n",
    "#from tensorflow.keras.models import Model"
   ]
  },
  {
   "cell_type": "code",
   "execution_count": null,
   "metadata": {},
   "outputs": [],
   "source": []
  },
  {
   "cell_type": "markdown",
   "metadata": {},
   "source": [
    "### Compare the results of the algorithms (comparison, conclusion, challenges...etc.)"
   ]
  },
  {
   "cell_type": "markdown",
   "metadata": {},
   "source": [
    "### Outcome of our analysis"
   ]
  }
 ],
 "metadata": {
  "interpreter": {
   "hash": "8de1bb01c2428b23fd1b239bce59c3de0408e0bcefc62ecc36a17fc4e3b0c588"
  },
  "kernelspec": {
   "display_name": "Python 3",
   "language": "python",
   "name": "python3"
  },
  "language_info": {
   "codemirror_mode": {
    "name": "ipython",
    "version": 3
   },
   "file_extension": ".py",
   "mimetype": "text/x-python",
   "name": "python",
   "nbconvert_exporter": "python",
   "pygments_lexer": "ipython3",
   "version": "3.8.5"
  }
 },
 "nbformat": 4,
 "nbformat_minor": 2
}
