{
 "cells": [
  {
   "cell_type": "markdown",
   "metadata": {},
   "source": [
    "# Final Project on Supervised Learning"
   ]
  },
  {
   "cell_type": "markdown",
   "metadata": {},
   "source": [
    "### LAN and WAN Response Analysis \n",
    "- Description: The source of our data comes from the variablity of a LAN network when it is connecting to the Internet. The data is collected by the ping response time from the devices of the local internet router and to the first-hop server on the internet.\n",
    "- Group Members: Eric Topmiller, Viphu Nguyen, David Gigremosa, Paul Rozario"
   ]
  },
  {
   "cell_type": "markdown",
   "metadata": {},
   "source": [
    "Question to Answer: What is the worst time of day for ping response with ethernet and wireless for both LAN and WAN?"
   ]
  },
  {
   "cell_type": "code",
   "execution_count": 33,
   "metadata": {},
   "outputs": [
    {
     "name": "stdout",
     "output_type": "stream",
     "text": [
      "Collecting numpy\n",
      "  Using cached numpy-1.22.3-cp38-cp38-win_amd64.whl (14.7 MB)\n",
      "Installing collected packages: numpy\n"
     ]
    },
    {
     "name": "stderr",
     "output_type": "stream",
     "text": [
      "ERROR: Could not install packages due to an EnvironmentError: [WinError 5] Access is denied: 'C:\\\\Users\\\\mgwyn_dgsghje\\\\AppData\\\\Roaming\\\\Python\\\\Python38\\\\site-packages\\\\numpy\\\\.libs\\\\libopenblas.EL2C6PLE4ZYW3ECEVIV3OXXGRN2NRFM2.gfortran-win_amd64.dll'\n",
      "Check the permissions.\n",
      "\n"
     ]
    }
   ],
   "source": [
    "\n",
    "# Import libraries\n",
    "import sys\n",
    "sys.path.append('C:\\\\Users\\\\mgwyn_dgsghje\\\\AppData\\\\Roaming\\\\Python\\\\Python38\\\\Scripts')\n",
    "!pip install numpy --user --upgrade --ignore-installed\n",
    "import numpy as np\n",
    "import pandas as pd \n",
    "import matplotlib.pyplot as plt \n",
    "import seaborn as sns \n",
    "from datetime import datetime\n",
    "from sklearn.linear_model import LogisticRegression\n",
    "from sklearn import tree\n",
    "from sklearn.tree import DecisionTreeClassifier\n",
    "from sklearn.model_selection import train_test_split\n",
    "from sklearn.metrics import accuracy_score\n",
    "from sklearn.metrics import classification_report, confusion_matrix\n",
    "from sklearn.metrics import roc_auc_score, roc_curve, accuracy_score\n",
    "from sklearn.metrics import precision_score, recall_score\n",
    "from sklearn import preprocessing\n",
    "import matplotlib.pyplot as plt\n",
    "from matplotlib import style"
   ]
  },
  {
   "cell_type": "code",
   "execution_count": 34,
   "metadata": {},
   "outputs": [],
   "source": [
    "# Set the dataset from the network csv\n",
    "df = pd.read_csv('ping_data_rp829c7e0e_eth.csv')\n",
    "df.head()\n",
    "df.sort_values('timestamp', inplace=True)"
   ]
  },
  {
   "cell_type": "markdown",
   "metadata": {},
   "source": [
    "### Data Wrangling and Filtering the Data\n",
    "- Done by Viphu Nguyen and Eric Topmiller"
   ]
  },
  {
   "cell_type": "code",
   "execution_count": 35,
   "metadata": {},
   "outputs": [
    {
     "data": {
      "text/plain": [
       "timestamp      0\n",
       "location       0\n",
       "source         0\n",
       "local_dest     0\n",
       "local_avg      0\n",
       "remote_dest    0\n",
       "remote_avg     0\n",
       "dtype: int64"
      ]
     },
     "execution_count": 35,
     "metadata": {},
     "output_type": "execute_result"
    }
   ],
   "source": [
    "# Finding the missing values from the ping dataset\n",
    "df.isna().sum()"
   ]
  },
  {
   "cell_type": "code",
   "execution_count": 36,
   "metadata": {},
   "outputs": [],
   "source": [
    "# Duplicate the dataframe in case of crashes\n",
    "df1 = df.copy()"
   ]
  },
  {
   "cell_type": "code",
   "execution_count": 37,
   "metadata": {},
   "outputs": [
    {
     "data": {
      "text/html": [
       "<div>\n",
       "<style scoped>\n",
       "    .dataframe tbody tr th:only-of-type {\n",
       "        vertical-align: middle;\n",
       "    }\n",
       "\n",
       "    .dataframe tbody tr th {\n",
       "        vertical-align: top;\n",
       "    }\n",
       "\n",
       "    .dataframe thead th {\n",
       "        text-align: right;\n",
       "    }\n",
       "</style>\n",
       "<table border=\"1\" class=\"dataframe\">\n",
       "  <thead>\n",
       "    <tr style=\"text-align: right;\">\n",
       "      <th></th>\n",
       "      <th>timestamp</th>\n",
       "      <th>source</th>\n",
       "      <th>local_avg</th>\n",
       "      <th>remote_avg</th>\n",
       "    </tr>\n",
       "  </thead>\n",
       "  <tbody>\n",
       "    <tr>\n",
       "      <th>0</th>\n",
       "      <td>1.559041e+09</td>\n",
       "      <td>ethernet</td>\n",
       "      <td>0.19</td>\n",
       "      <td>8.14</td>\n",
       "    </tr>\n",
       "    <tr>\n",
       "      <th>1</th>\n",
       "      <td>1.559041e+09</td>\n",
       "      <td>ethernet</td>\n",
       "      <td>0.15</td>\n",
       "      <td>7.75</td>\n",
       "    </tr>\n",
       "    <tr>\n",
       "      <th>2</th>\n",
       "      <td>1.559041e+09</td>\n",
       "      <td>ethernet</td>\n",
       "      <td>0.15</td>\n",
       "      <td>8.68</td>\n",
       "    </tr>\n",
       "    <tr>\n",
       "      <th>3</th>\n",
       "      <td>1.559041e+09</td>\n",
       "      <td>ethernet</td>\n",
       "      <td>0.15</td>\n",
       "      <td>8.08</td>\n",
       "    </tr>\n",
       "    <tr>\n",
       "      <th>4</th>\n",
       "      <td>1.559041e+09</td>\n",
       "      <td>ethernet</td>\n",
       "      <td>0.15</td>\n",
       "      <td>8.20</td>\n",
       "    </tr>\n",
       "    <tr>\n",
       "      <th>...</th>\n",
       "      <td>...</td>\n",
       "      <td>...</td>\n",
       "      <td>...</td>\n",
       "      <td>...</td>\n",
       "    </tr>\n",
       "    <tr>\n",
       "      <th>69740</th>\n",
       "      <td>1.559691e+09</td>\n",
       "      <td>ethernet</td>\n",
       "      <td>0.15</td>\n",
       "      <td>8.70</td>\n",
       "    </tr>\n",
       "    <tr>\n",
       "      <th>69741</th>\n",
       "      <td>1.559691e+09</td>\n",
       "      <td>ethernet</td>\n",
       "      <td>0.15</td>\n",
       "      <td>8.43</td>\n",
       "    </tr>\n",
       "    <tr>\n",
       "      <th>69742</th>\n",
       "      <td>1.559691e+09</td>\n",
       "      <td>ethernet</td>\n",
       "      <td>0.15</td>\n",
       "      <td>8.71</td>\n",
       "    </tr>\n",
       "    <tr>\n",
       "      <th>69743</th>\n",
       "      <td>1.559691e+09</td>\n",
       "      <td>ethernet</td>\n",
       "      <td>0.15</td>\n",
       "      <td>8.42</td>\n",
       "    </tr>\n",
       "    <tr>\n",
       "      <th>69744</th>\n",
       "      <td>1.559691e+09</td>\n",
       "      <td>ethernet</td>\n",
       "      <td>0.15</td>\n",
       "      <td>9.12</td>\n",
       "    </tr>\n",
       "  </tbody>\n",
       "</table>\n",
       "<p>69745 rows × 4 columns</p>\n",
       "</div>"
      ],
      "text/plain": [
       "          timestamp    source  local_avg  remote_avg\n",
       "0      1.559041e+09  ethernet       0.19        8.14\n",
       "1      1.559041e+09  ethernet       0.15        7.75\n",
       "2      1.559041e+09  ethernet       0.15        8.68\n",
       "3      1.559041e+09  ethernet       0.15        8.08\n",
       "4      1.559041e+09  ethernet       0.15        8.20\n",
       "...             ...       ...        ...         ...\n",
       "69740  1.559691e+09  ethernet       0.15        8.70\n",
       "69741  1.559691e+09  ethernet       0.15        8.43\n",
       "69742  1.559691e+09  ethernet       0.15        8.71\n",
       "69743  1.559691e+09  ethernet       0.15        8.42\n",
       "69744  1.559691e+09  ethernet       0.15        9.12\n",
       "\n",
       "[69745 rows x 4 columns]"
      ]
     },
     "execution_count": 37,
     "metadata": {},
     "output_type": "execute_result"
    }
   ],
   "source": [
    "# Removing unncessary columns from the ping dataset\n",
    "df1 = df1.drop(['location', 'local_dest', 'remote_dest'], axis = 1)\n",
    "df1"
   ]
  },
  {
   "cell_type": "markdown",
   "metadata": {},
   "source": [
    "#### *Each header definition*\n",
    "- Timestamp: The current time of an event that is recorded\n",
    "- Source: Network Source\n",
    "- Local_avg: Response Time for local network (ms)\n",
    "- Remote_avg: Response time for remote network (ms)"
   ]
  },
  {
   "cell_type": "code",
   "execution_count": 38,
   "metadata": {},
   "outputs": [
    {
     "name": "stdout",
     "output_type": "stream",
     "text": [
      "      timestamp    source  local_avg  remote_avg  hour\n",
      "0  1.559041e+09  ethernet       0.19        8.14     1\n",
      "1  1.559041e+09  ethernet       0.15        7.75     1\n",
      "2  1.559041e+09  ethernet       0.15        8.68     1\n",
      "3  1.559041e+09  ethernet       0.15        8.08     1\n",
      "4  1.559041e+09  ethernet       0.15        8.20     1\n",
      "[1 2 0]\n",
      "<class 'pandas.core.frame.DataFrame'>\n",
      "Int64Index: 69745 entries, 0 to 69744\n",
      "Data columns (total 5 columns):\n",
      " #   Column      Non-Null Count  Dtype  \n",
      "---  ------      --------------  -----  \n",
      " 0   timestamp   69745 non-null  float64\n",
      " 1   source      69745 non-null  object \n",
      " 2   local_avg   69745 non-null  float64\n",
      " 3   remote_avg  69745 non-null  float64\n",
      " 4   hour        69745 non-null  int32  \n",
      "dtypes: float64(3), int32(1), object(1)\n",
      "memory usage: 2.9+ MB\n",
      "None\n"
     ]
    }
   ],
   "source": [
    "# create a column that is the start of the range of hours of the day, show the head, show it has all 24 hours of the day\n",
    "#df1['hour'] = (df['timestamp'].astype(int) % 86400) / 14400\n",
    "df1['hour'] = (df['timestamp'].astype(int) % 86400) / 28800\n",
    "df1['hour'] = df1['hour'].astype(int)\n",
    "print(df1.head())\n",
    "print(df1['hour'].unique())\n",
    "print(df1.info())"
   ]
  },
  {
   "cell_type": "code",
   "execution_count": 39,
   "metadata": {},
   "outputs": [
    {
     "name": "stdout",
     "output_type": "stream",
     "text": [
      "count    69745.000000\n",
      "mean       782.506427\n",
      "std       2685.044084\n",
      "min          0.140000\n",
      "25%          0.150000\n",
      "50%          0.150000\n",
      "75%          0.150000\n",
      "max       9999.999900\n",
      "Name: local_avg, dtype: float64\n",
      "count    69745.000000\n",
      "mean       793.170246\n",
      "std       2682.048286\n",
      "min          4.020000\n",
      "25%          8.180000\n",
      "50%          8.620000\n",
      "75%          9.570000\n",
      "max       9999.999900\n",
      "Name: remote_avg, dtype: float64\n"
     ]
    },
    {
     "data": {
      "image/png": "[encoded data removed]",
      "text/plain": [
       "<Figure size 360x2160 with 1 Axes>"
      ]
     },
     "metadata": {
      "needs_background": "light"
     },
     "output_type": "display_data"
    }
   ],
   "source": [
    "# remove the rows with avg of 9999.9999 since they are failures and will skew the data\n",
    "#df1 = df1[(df1['local_avg'] != 9999) & (df1['remote_avg'] < 1000.0)]\n",
    "df1 = df1.reset_index()\n",
    "print(df1['local_avg'].describe())\n",
    "print(df1['remote_avg'].describe())\n",
    "# for plotting throw out the large values so we can better see the more common local_avg\n",
    "df_small_remote = df1[(df1['remote_avg'] < 1000.0)]\n",
    "df_small_remote['remote_avg'].plot(figsize=(5,30))\n",
    "plt.show()"
   ]
  },
  {
   "cell_type": "code",
   "execution_count": 40,
   "metadata": {},
   "outputs": [
    {
     "name": "stdout",
     "output_type": "stream",
     "text": [
      "count    69745.000000\n",
      "mean       793.170246\n",
      "std       2682.048286\n",
      "min          4.020000\n",
      "25%          8.180000\n",
      "50%          8.620000\n",
      "75%          9.570000\n",
      "max       9999.999900\n",
      "Name: remote_avg, dtype: float64\n"
     ]
    }
   ],
   "source": [
    "# find the quartiles of the time data so we can create local average categorical variable\n",
    "print(df1['remote_avg'].describe())"
   ]
  },
  {
   "cell_type": "code",
   "execution_count": 41,
   "metadata": {},
   "outputs": [
    {
     "name": "stdout",
     "output_type": "stream",
     "text": [
      "['Large']\n",
      "Categories (1, object): ['Large']\n"
     ]
    }
   ],
   "source": [
    "# create the categorical variable local_delay for the local delay of low, average, high using the quartiles\n",
    "# we will leave in the 9999.9999 since they probably represent failures and should be placed the high\n",
    "bins = [float('-inf'), 0.149, 0.15, float('inf')]\n",
    "labels = ['Small', 'Medium', 'Large']\n",
    "df1['remote_delay'] = pd.cut(df1['remote_avg'], bins=bins, labels=labels)\n",
    "df1.head()\n",
    "print(df1['remote_delay'].unique())\n"
   ]
  },
  {
   "cell_type": "code",
   "execution_count": 42,
   "metadata": {},
   "outputs": [],
   "source": [
    "# do some range categorical variables to section off the dataset based on the plot of remote_avg below 1000\n",
    "df1['gr1000'] = 0\n",
    "df1.loc[df1['remote_avg'] > 1000.0, 'gr1000'] = 1\n",
    "df1['gr750'] = 0\n",
    "df1.loc[(df1['remote_avg'] > 750.0) & (df1['remote_avg'] <= 1000.0), 'gr750'] = 1\n",
    "df1['gr500'] = 0\n",
    "df1.loc[(df1['remote_avg'] > 500.0) & (df1['remote_avg'] <= 750.0), 'gr500'] = 1\n",
    "df1['gr410'] = 0\n",
    "df1.loc[(df1['remote_avg'] > 410.0) & (df1['remote_avg'] <= 500.0), 'gr410'] = 1\n",
    "df1['gr190'] = 0\n",
    "df1.loc[(df1['remote_avg'] > 190.0) & (df1['remote_avg'] <= 410.0), 'gr190'] = 1\n",
    "df1['gr100'] = 0\n",
    "df1.loc[(df1['remote_avg'] > 100.0) & (df1['remote_avg'] <= 190.0), 'gr100'] = 1\n",
    "df1['gr75'] = 0\n",
    "df1.loc[(df1['remote_avg'] > 75.0) & (df1['remote_avg'] <= 100.0), 'gr100'] = 1\n",
    "df1['gr0'] = 0\n",
    "df1.loc[df1['remote_avg'] <= 75.0, 'gr0'] = 1"
   ]
  },
  {
   "cell_type": "markdown",
   "metadata": {},
   "source": [
    "### Data Visualizations \n",
    "- Done by Viphu Nguyen"
   ]
  },
  {
   "cell_type": "code",
   "execution_count": 43,
   "metadata": {},
   "outputs": [
    {
     "data": {
      "text/plain": [
       "count    69745.000000\n",
       "mean       782.506427\n",
       "std       2685.044084\n",
       "min          0.140000\n",
       "25%          0.150000\n",
       "50%          0.150000\n",
       "75%          0.150000\n",
       "max       9999.999900\n",
       "Name: local_avg, dtype: float64"
      ]
     },
     "execution_count": 43,
     "metadata": {},
     "output_type": "execute_result"
    },
    {
     "data": {
      "image/png": "[encoded data removed]",
      "text/plain": [
       "<Figure size 432x288 with 1 Axes>"
      ]
     },
     "metadata": {
      "needs_background": "light"
     },
     "output_type": "display_data"
    }
   ],
   "source": [
    "# Histogram for 'local_avg' response time (local) column\n",
    "df1.hist(column='local_avg', bins=200, grid=False, rwidth=.9, color='purple')\n",
    "df1['local_avg'].describe()"
   ]
  },
  {
   "cell_type": "code",
   "execution_count": 44,
   "metadata": {},
   "outputs": [
    {
     "data": {
      "text/plain": [
       "count    69745.000000\n",
       "mean       793.170246\n",
       "std       2682.048286\n",
       "min          4.020000\n",
       "25%          8.180000\n",
       "50%          8.620000\n",
       "75%          9.570000\n",
       "max       9999.999900\n",
       "Name: remote_avg, dtype: float64"
      ]
     },
     "execution_count": 44,
     "metadata": {},
     "output_type": "execute_result"
    },
    {
     "data": {
      "image/png": "[encoded data removed]",
      "text/plain": [
       "<Figure size 432x288 with 1 Axes>"
      ]
     },
     "metadata": {
      "needs_background": "light"
     },
     "output_type": "display_data"
    }
   ],
   "source": [
    "# Histogram for 'remote_avg' response time (local) column\n",
    "df1.hist(column='remote_avg', bins=200, grid=False, rwidth=.9, color='purple')\n",
    "df1['remote_avg'].describe()"
   ]
  },
  {
   "cell_type": "markdown",
   "metadata": {},
   "source": [
    "Analysis: The histogram tells us that the the response time (ms) is estimated largely between 0 to 2,000 while there is a fewer amount at closer to 10,000 frequency for the response time between 8,000 to 10,000"
   ]
  },
  {
   "cell_type": "code",
   "execution_count": 45,
   "metadata": {},
   "outputs": [],
   "source": [
    "# Duplicate the dataframe in case of crashes\n",
    "df2 = df1.copy()"
   ]
  },
  {
   "cell_type": "code",
   "execution_count": 46,
   "metadata": {},
   "outputs": [
    {
     "name": "stdout",
     "output_type": "stream",
     "text": [
      "[2]\n",
      "   gr1000  gr750  gr500  gr410  gr190  gr100  gr75  gr0  remote_delay_int\n",
      "0       0      0      0      0      0      0     0    1                 2\n",
      "1       0      0      0      0      0      0     0    1                 2\n",
      "2       0      0      0      0      0      0     0    1                 2\n",
      "3       0      0      0      0      0      0     0    1                 2\n",
      "4       0      0      0      0      0      0     0    1                 2\n",
      "0    1\n",
      "1    1\n",
      "2    1\n",
      "3    1\n",
      "4    1\n",
      "Name: hour, dtype: int32\n"
     ]
    }
   ],
   "source": [
    "# map the local_delay and remote_delay to integers since that is what is needed by the classifier\n",
    "df2['remote_delay_int'] = df2['remote_delay'].map({'Small':0, 'Medium':1, 'Large':2}).astype(int)\n",
    "print(df2['remote_delay_int'].unique())\n",
    "X = df2.drop(['index', 'timestamp', 'source', 'local_avg', 'remote_avg', 'remote_delay', 'hour'], axis = 1)\n",
    "y = df2['hour']\n",
    "print(X.head())\n",
    "print(y.head())"
   ]
  },
  {
   "cell_type": "code",
   "execution_count": 47,
   "metadata": {},
   "outputs": [
    {
     "name": "stdout",
     "output_type": "stream",
     "text": [
      "       gr1000  gr750  gr500  gr410  gr190  gr100  gr75  gr0  remote_delay_int\n",
      "33973       0      0      0      0      0      0     0    1                 2\n",
      "68346       0      0      0      0      0      0     0    1                 2\n",
      "18644       0      0      0      0      0      0     0    1                 2\n",
      "11347       0      0      0      0      0      0     0    1                 2\n",
      "59206       0      0      0      0      0      0     0    1                 2\n",
      "...       ...    ...    ...    ...    ...    ...   ...  ...               ...\n",
      "57042       0      0      0      0      0      0     0    1                 2\n",
      "36008       0      0      0      0      0      0     0    1                 2\n",
      "46265       0      0      0      0      0      0     0    1                 2\n",
      "23587       0      0      0      0      0      0     0    1                 2\n",
      "29313       0      0      0      0      0      0     0    1                 2\n",
      "\n",
      "[55796 rows x 9 columns] 33973    0\n",
      "68346    2\n",
      "18644    1\n",
      "11347    2\n",
      "59206    2\n",
      "        ..\n",
      "57042    1\n",
      "36008    1\n",
      "46265    2\n",
      "23587    0\n",
      "29313    2\n",
      "Name: hour, Length: 55796, dtype: int32\n"
     ]
    }
   ],
   "source": [
    "# split out the test and train datasets\n",
    "X_train, X_test, y_train, y_test= train_test_split(X, y,test_size=0.2,random_state=99)\n",
    "print(X_train, y_train)"
   ]
  },
  {
   "cell_type": "markdown",
   "metadata": {},
   "source": [
    "### Use scikit-learn for Logistic Regression and DecisionTree Classification, XGBoost, Keras, Pytorch to train, test and predict a categorical variable. Use appropriate metric and interpret themeaning of the score"
   ]
  },
  {
   "cell_type": "markdown",
   "metadata": {},
   "source": [
    "### Logistic Regression"
   ]
  },
  {
   "cell_type": "code",
   "execution_count": 48,
   "metadata": {},
   "outputs": [],
   "source": [
    "LogReg = LogisticRegression()\n",
    "\n",
    "scaler = preprocessing.StandardScaler()\n",
    "X_train = scaler.fit_transform(X_train)\n",
    "X_test = scaler.transform(X_test)\n",
    "\n",
    "LogReg.fit(X_train,y_train)\n",
    "\n",
    "y_pred=LogReg.predict(X_test)"
   ]
  },
  {
   "cell_type": "code",
   "execution_count": 49,
   "metadata": {},
   "outputs": [
    {
     "name": "stdout",
     "output_type": "stream",
     "text": [
      "Classes [0 1 2]\n",
      "Intercept [-0.02289705 -0.01942434  0.04232139]\n",
      "Coefficients [[ 0.0907466  -0.0142235   0.00678151  0.00095779  0.02361307  0.01128548\n",
      "   0.         -0.09392198  0.        ]\n",
      " [-0.06924005 -0.01188108 -0.01332728  0.00306959  0.00590847  0.00980965\n",
      "   0.          0.0627188   0.        ]\n",
      " [-0.02150655  0.02610458  0.00654577 -0.00402738 -0.02952154 -0.02109513\n",
      "   0.          0.03120317  0.        ]]\n"
     ]
    }
   ],
   "source": [
    "print('Classes', LogReg.classes_)\n",
    "print('Intercept',LogReg.intercept_)\n",
    "print(\"Coefficients\", LogReg.coef_ )"
   ]
  },
  {
   "cell_type": "code",
   "execution_count": 50,
   "metadata": {},
   "outputs": [
    {
     "name": "stdout",
     "output_type": "stream",
     "text": [
      "Accuracy 0.37020574951609436\n",
      "              precision    recall  f1-score   support\n",
      "\n",
      "           0       0.53      0.15      0.23      4610\n",
      "           1       0.00      0.00      0.00      4525\n",
      "           2       0.35      0.93      0.51      4814\n",
      "\n",
      "    accuracy                           0.37     13949\n",
      "   macro avg       0.29      0.36      0.25     13949\n",
      "weighted avg       0.30      0.37      0.25     13949\n",
      "\n"
     ]
    },
    {
     "name": "stderr",
     "output_type": "stream",
     "text": [
      "C:\\ProgramData\\Anaconda3\\lib\\site-packages\\sklearn\\metrics\\_classification.py:1221: UndefinedMetricWarning: Precision and F-score are ill-defined and being set to 0.0 in labels with no predicted samples. Use `zero_division` parameter to control this behavior.\n",
      "  _warn_prf(average, modifier, msg_start, len(result))\n"
     ]
    }
   ],
   "source": [
    "print(\"Accuracy\", LogReg.score(X_test, y_test))\n",
    "print(classification_report(y_test, LogReg.predict(X_test)))"
   ]
  },
  {
   "cell_type": "markdown",
   "metadata": {},
   "source": [
    "### Decision Tree\n",
    "- Done by Viphu Nguyen and Eric Topmiller"
   ]
  },
  {
   "cell_type": "code",
   "execution_count": 51,
   "metadata": {},
   "outputs": [],
   "source": [
    "clf = DecisionTreeClassifier(criterion='entropy', random_state=99)"
   ]
  },
  {
   "cell_type": "code",
   "execution_count": 52,
   "metadata": {},
   "outputs": [
    {
     "data": {
      "text/plain": [
       "0.37020574951609436"
      ]
     },
     "execution_count": 52,
     "metadata": {},
     "output_type": "execute_result"
    }
   ],
   "source": [
    "clf.fit(X_train,y_train)\n",
    "y_pred= clf.predict(X_test)\n",
    "accuracy_score(y_test, y_pred)"
   ]
  },
  {
   "cell_type": "markdown",
   "metadata": {},
   "source": [
    "##### Plot a Decision Tree"
   ]
  },
  {
   "cell_type": "code",
   "execution_count": 53,
   "metadata": {},
   "outputs": [
    {
     "data": {
      "image/png": "[encoded data removed]",
      "text/plain": [
       "<Figure size 864x864 with 1 Axes>"
      ]
     },
     "metadata": {
      "needs_background": "light"
     },
     "output_type": "display_data"
    }
   ],
   "source": [
    "fig, ax = plt.subplots(figsize=(12, 12))\n",
    "tree.plot_tree(decision_tree=clf, max_depth= 3,fontsize=12);"
   ]
  },
  {
   "cell_type": "markdown",
   "metadata": {},
   "source": [
    "###  Show feature importance in XGBoost by using xgb.plot.importance"
   ]
  },
  {
   "cell_type": "code",
   "execution_count": 54,
   "metadata": {},
   "outputs": [
    {
     "name": "stdout",
     "output_type": "stream",
     "text": [
      "Requirement already satisfied: xgboost in c:\\programdata\\anaconda3\\lib\\site-packages (1.6.0)\n",
      "Requirement already satisfied: numpy in c:\\users\\mgwyn_dgsghje\\appdata\\roaming\\python\\python38\\site-packages (from xgboost) (1.22.3)\n",
      "Requirement already satisfied: scipy in c:\\programdata\\anaconda3\\lib\\site-packages (from xgboost) (1.5.2)\n",
      "accuracy: 0.370206\n"
     ]
    }
   ],
   "source": [
    "!pip install xgboost\n",
    "import xgboost as xgb\n",
    "xg_cl = xgb.XGBClassifier(objective='binary:logistic', max_depth=10, n_estimators=100, seed=99) \n",
    "xg_cl.fit(X_train, y_train)\n",
    "preds = xg_cl.predict(X_test)\n",
    "accuracy = float(np.sum(preds==y_test))/y_test.shape[0]\n",
    "print(\"accuracy: %f\" % (accuracy))"
   ]
  },
  {
   "cell_type": "markdown",
   "metadata": {},
   "source": [
    "## Keras\n",
    "### model from https://www.kaggle.com/code/nitinsss/time-series-prediction-with-keras-for-beginners/notebook"
   ]
  },
  {
   "cell_type": "code",
   "execution_count": 55,
   "metadata": {},
   "outputs": [
    {
     "name": "stderr",
     "output_type": "stream",
     "text": [
      "WARNING: Skipping tensorflow-macos as it is not installed.\n",
      "WARNING: Skipping tensorflow-metal as it is not installed.\n",
      "ERROR: Could not find a version that satisfies the requirement tensorflow-macos (from versions: none)\n",
      "ERROR: No matching distribution found for tensorflow-macos\n",
      "ERROR: Could not find a version that satisfies the requirement tensorflow-metal (from versions: none)\n",
      "ERROR: No matching distribution found for tensorflow-metal\n",
      "ERROR: Could not find a version that satisfies the requirement tensorflow-deps (from versions: none)\n",
      "ERROR: No matching distribution found for tensorflow-deps\n"
     ]
    },
    {
     "name": "stdout",
     "output_type": "stream",
     "text": [
      "Requirement already satisfied: tensorflow in c:\\users\\mgwyn_dgsghje\\appdata\\roaming\\python\\python38\\site-packages (2.8.0)\n",
      "Requirement already satisfied: tf-estimator-nightly==2.8.0.dev2021122109 in c:\\users\\mgwyn_dgsghje\\appdata\\roaming\\python\\python38\\site-packages (from tensorflow) (2.8.0.dev2021122109)\n",
      "Requirement already satisfied: keras-preprocessing>=1.1.1 in c:\\users\\mgwyn_dgsghje\\appdata\\roaming\\python\\python38\\site-packages (from tensorflow) (1.1.2)\n",
      "Requirement already satisfied: termcolor>=1.1.0 in c:\\users\\mgwyn_dgsghje\\appdata\\roaming\\python\\python38\\site-packages (from tensorflow) (1.1.0)\n",
      "Requirement already satisfied: protobuf>=3.9.2 in c:\\users\\mgwyn_dgsghje\\appdata\\roaming\\python\\python38\\site-packages (from tensorflow) (3.20.1)\n",
      "Requirement already satisfied: wrapt>=1.11.0 in c:\\users\\mgwyn_dgsghje\\appdata\\roaming\\python\\python38\\site-packages (from tensorflow) (1.12.1)\n",
      "Requirement already satisfied: six>=1.12.0 in c:\\users\\mgwyn_dgsghje\\appdata\\roaming\\python\\python38\\site-packages (from tensorflow) (1.15.0)\n",
      "Requirement already satisfied: astunparse>=1.6.0 in c:\\users\\mgwyn_dgsghje\\appdata\\roaming\\python\\python38\\site-packages (from tensorflow) (1.6.3)\n",
      "Requirement already satisfied: setuptools in c:\\programdata\\anaconda3\\lib\\site-packages (from tensorflow) (50.3.1.post20201107)\n",
      "Requirement already satisfied: grpcio<2.0,>=1.24.3 in c:\\users\\mgwyn_dgsghje\\appdata\\roaming\\python\\python38\\site-packages (from tensorflow) (1.46.0)\n",
      "Requirement already satisfied: libclang>=9.0.1 in c:\\users\\mgwyn_dgsghje\\appdata\\roaming\\python\\python38\\site-packages (from tensorflow) (14.0.1)\n",
      "Requirement already satisfied: typing-extensions>=3.6.6 in c:\\programdata\\anaconda3\\lib\\site-packages (from tensorflow) (3.7.4.3)\n",
      "Requirement already satisfied: flatbuffers>=1.12 in c:\\users\\mgwyn_dgsghje\\appdata\\roaming\\python\\python38\\site-packages (from tensorflow) (2.0)\n",
      "Requirement already satisfied: numpy>=1.20 in c:\\users\\mgwyn_dgsghje\\appdata\\roaming\\python\\python38\\site-packages (from tensorflow) (1.22.3)\n",
      "Requirement already satisfied: absl-py>=0.4.0 in c:\\users\\mgwyn_dgsghje\\appdata\\roaming\\python\\python38\\site-packages (from tensorflow) (1.0.0)\n",
      "Requirement already satisfied: opt-einsum>=2.3.2 in c:\\users\\mgwyn_dgsghje\\appdata\\roaming\\python\\python38\\site-packages (from tensorflow) (3.3.0)\n",
      "Requirement already satisfied: tensorflow-io-gcs-filesystem>=0.23.1 in c:\\users\\mgwyn_dgsghje\\appdata\\roaming\\python\\python38\\site-packages (from tensorflow) (0.25.0)\n",
      "Requirement already satisfied: tensorboard<2.9,>=2.8 in c:\\users\\mgwyn_dgsghje\\appdata\\roaming\\python\\python38\\site-packages (from tensorflow) (2.8.0)\n",
      "Requirement already satisfied: h5py>=2.9.0 in c:\\programdata\\anaconda3\\lib\\site-packages (from tensorflow) (2.10.0)\n",
      "Requirement already satisfied: google-pasta>=0.1.1 in c:\\users\\mgwyn_dgsghje\\appdata\\roaming\\python\\python38\\site-packages (from tensorflow) (0.2.0)\n",
      "Requirement already satisfied: gast>=0.2.1 in c:\\users\\mgwyn_dgsghje\\appdata\\roaming\\python\\python38\\site-packages (from tensorflow) (0.5.3)\n",
      "Requirement already satisfied: keras<2.9,>=2.8.0rc0 in c:\\users\\mgwyn_dgsghje\\appdata\\roaming\\python\\python38\\site-packages (from tensorflow) (2.8.0)\n",
      "Requirement already satisfied: wheel<1.0,>=0.23.0 in c:\\programdata\\anaconda3\\lib\\site-packages (from astunparse>=1.6.0->tensorflow) (0.35.1)\n",
      "Requirement already satisfied: markdown>=2.6.8 in c:\\users\\mgwyn_dgsghje\\appdata\\roaming\\python\\python38\\site-packages (from tensorboard<2.9,>=2.8->tensorflow) (3.3.6)\n",
      "Requirement already satisfied: requests<3,>=2.21.0 in c:\\programdata\\anaconda3\\lib\\site-packages (from tensorboard<2.9,>=2.8->tensorflow) (2.24.0)\n",
      "Requirement already satisfied: tensorboard-data-server<0.7.0,>=0.6.0 in c:\\users\\mgwyn_dgsghje\\appdata\\roaming\\python\\python38\\site-packages (from tensorboard<2.9,>=2.8->tensorflow) (0.6.1)\n",
      "Requirement already satisfied: tensorboard-plugin-wit>=1.6.0 in c:\\users\\mgwyn_dgsghje\\appdata\\roaming\\python\\python38\\site-packages (from tensorboard<2.9,>=2.8->tensorflow) (1.8.1)\n",
      "Requirement already satisfied: google-auth<3,>=1.6.3 in c:\\users\\mgwyn_dgsghje\\appdata\\roaming\\python\\python38\\site-packages (from tensorboard<2.9,>=2.8->tensorflow) (2.6.6)\n",
      "Requirement already satisfied: werkzeug>=0.11.15 in c:\\programdata\\anaconda3\\lib\\site-packages (from tensorboard<2.9,>=2.8->tensorflow) (1.0.1)\n",
      "Requirement already satisfied: google-auth-oauthlib<0.5,>=0.4.1 in c:\\users\\mgwyn_dgsghje\\appdata\\roaming\\python\\python38\\site-packages (from tensorboard<2.9,>=2.8->tensorflow) (0.4.6)\n",
      "Requirement already satisfied: importlib-metadata>=4.4; python_version < \"3.10\" in c:\\users\\mgwyn_dgsghje\\appdata\\roaming\\python\\python38\\site-packages (from markdown>=2.6.8->tensorboard<2.9,>=2.8->tensorflow) (4.11.1)\n",
      "Requirement already satisfied: chardet<4,>=3.0.2 in c:\\programdata\\anaconda3\\lib\\site-packages (from requests<3,>=2.21.0->tensorboard<2.9,>=2.8->tensorflow) (3.0.4)\n",
      "Requirement already satisfied: urllib3!=1.25.0,!=1.25.1,<1.26,>=1.21.1 in c:\\programdata\\anaconda3\\lib\\site-packages (from requests<3,>=2.21.0->tensorboard<2.9,>=2.8->tensorflow) (1.25.11)\n",
      "Requirement already satisfied: idna<3,>=2.5 in c:\\programdata\\anaconda3\\lib\\site-packages (from requests<3,>=2.21.0->tensorboard<2.9,>=2.8->tensorflow) (2.10)\n",
      "Requirement already satisfied: certifi>=2017.4.17 in c:\\programdata\\anaconda3\\lib\\site-packages (from requests<3,>=2.21.0->tensorboard<2.9,>=2.8->tensorflow) (2020.6.20)\n",
      "Requirement already satisfied: rsa<5,>=3.1.4; python_version >= \"3.6\" in c:\\users\\mgwyn_dgsghje\\appdata\\roaming\\python\\python38\\site-packages (from google-auth<3,>=1.6.3->tensorboard<2.9,>=2.8->tensorflow) (4.8)\n",
      "Requirement already satisfied: cachetools<6.0,>=2.0.0 in c:\\users\\mgwyn_dgsghje\\appdata\\roaming\\python\\python38\\site-packages (from google-auth<3,>=1.6.3->tensorboard<2.9,>=2.8->tensorflow) (5.0.0)\n",
      "Requirement already satisfied: pyasn1-modules>=0.2.1 in c:\\users\\mgwyn_dgsghje\\appdata\\roaming\\python\\python38\\site-packages (from google-auth<3,>=1.6.3->tensorboard<2.9,>=2.8->tensorflow) (0.2.8)\n",
      "Requirement already satisfied: requests-oauthlib>=0.7.0 in c:\\users\\mgwyn_dgsghje\\appdata\\roaming\\python\\python38\\site-packages (from google-auth-oauthlib<0.5,>=0.4.1->tensorboard<2.9,>=2.8->tensorflow) (1.3.1)\n",
      "Requirement already satisfied: zipp>=0.5 in c:\\programdata\\anaconda3\\lib\\site-packages (from importlib-metadata>=4.4; python_version < \"3.10\"->markdown>=2.6.8->tensorboard<2.9,>=2.8->tensorflow) (3.4.0)\n",
      "Requirement already satisfied: pyasn1>=0.1.3 in c:\\users\\mgwyn_dgsghje\\appdata\\roaming\\python\\python38\\site-packages (from rsa<5,>=3.1.4; python_version >= \"3.6\"->google-auth<3,>=1.6.3->tensorboard<2.9,>=2.8->tensorflow) (0.4.8)\n",
      "Requirement already satisfied: oauthlib>=3.0.0 in c:\\users\\mgwyn_dgsghje\\appdata\\roaming\\python\\python38\\site-packages (from requests-oauthlib>=0.7.0->google-auth-oauthlib<0.5,>=0.4.1->tensorboard<2.9,>=2.8->tensorflow) (3.2.0)\n"
     ]
    }
   ],
   "source": [
    "# uninstall existing tensorflow-macos and tensorflow-metal\n",
    "!pip uninstall tensorflow-macos\n",
    "!pip uninstall tensorflow-metal\n",
    "!pip install tensorflow-macos\n",
    "!pip install tensorflow-metal\n",
    "# Upgrade tensorflow-deps\n",
    "!pip install tensorflow-deps --force-reinstall\n",
    "# or point to specific conda environment\n",
    "#conda install -c apple tensorflow-deps --force-reinstall -n my_env \n",
    "!pip install tensorflow\n",
    "\n",
    "from tensorflow.keras.models import load_model\n",
    "from tensorflow.keras.callbacks import ModelCheckpoint\n",
    "from tensorflow.keras import layers, losses\n",
    "from tensorflow.keras.datasets import fashion_mnist\n",
    "from tensorflow.keras.models import Model\n",
    "from tensorflow.keras.layers import Input, Dense, Dropout\n",
    "from tensorflow.keras.optimizers import SGD"
   ]
  },
  {
   "cell_type": "code",
   "execution_count": 56,
   "metadata": {},
   "outputs": [],
   "source": [
    "# create the model input layers\n",
    "input_layer = Input(shape=(9), dtype='float32')\n",
    "dense1 = Dense(60, activation='linear')(input_layer)\n",
    "dense2 = Dense(60, activation='linear')(dense1)\n",
    "dropout_layer = Dropout(0.2)(dense2)\n",
    "output_layer = Dense(1, activation='linear')(dropout_layer)"
   ]
  },
  {
   "cell_type": "code",
   "execution_count": 57,
   "metadata": {},
   "outputs": [
    {
     "name": "stdout",
     "output_type": "stream",
     "text": [
      "Model: \"model_2\"\n",
      "_________________________________________________________________\n",
      " Layer (type)                Output Shape              Param #   \n",
      "=================================================================\n",
      " input_3 (InputLayer)        [(None, 9)]               0         \n",
      "                                                                 \n",
      " dense_6 (Dense)             (None, 60)                600       \n",
      "                                                                 \n",
      " dense_7 (Dense)             (None, 60)                3660      \n",
      "                                                                 \n",
      " dropout_2 (Dropout)         (None, 60)                0         \n",
      "                                                                 \n",
      " dense_8 (Dense)             (None, 1)                 61        \n",
      "                                                                 \n",
      "=================================================================\n",
      "Total params: 4,321\n",
      "Trainable params: 4,321\n",
      "Non-trainable params: 0\n",
      "_________________________________________________________________\n"
     ]
    }
   ],
   "source": [
    "model = Model(inputs=input_layer, outputs=output_layer)\n",
    "model.compile(loss='mean_squared_error', optimizer='adam')\n",
    "model.summary()"
   ]
  },
  {
   "cell_type": "code",
   "execution_count": 58,
   "metadata": {},
   "outputs": [],
   "source": [
    "# Make the dataframe like the kaggle example\n",
    "df3 = df2.copy()\n",
    "df3.drop(['index', 'timestamp', 'source', 'local_avg', 'remote_avg', 'remote_delay'], axis = 1, inplace=True)\n",
    "df3.head()\n",
    "df_new = df3.copy()"
   ]
  },
  {
   "cell_type": "code",
   "execution_count": 59,
   "metadata": {},
   "outputs": [
    {
     "name": "stdout",
     "output_type": "stream",
     "text": [
      "Shape of training inputs, training target: (62944, 9) (62944,)\n",
      "Shape of validation inputs, validation target: (3313, 9) (3313,)\n",
      "Shape of test inputs, test target: (3488, 9) (3488,)\n"
     ]
    }
   ],
   "source": [
    "# create the training, validation, and test inputs\n",
    "df_copy = df3.copy()\n",
    "test_set_size = 0.05\n",
    "valid_set_size= 0.05\n",
    "\n",
    "df_copy = df_new.reset_index(drop=True)\n",
    "\n",
    "df_test = df_copy.iloc[ int(np.floor(len(df_copy)*(1-test_set_size))) : ]\n",
    "df_train_plus_valid = df_copy.iloc[ : int(np.floor(len(df_copy)*(1-test_set_size))) ]\n",
    "\n",
    "df_train = df_train_plus_valid.iloc[ : int(np.floor(len(df_train_plus_valid)*(1-valid_set_size))) ]\n",
    "df_valid = df_train_plus_valid.iloc[ int(np.floor(len(df_train_plus_valid)*(1-valid_set_size))) : ]\n",
    "\n",
    "\n",
    "X_train, y_train = df_train.iloc[:, 1:], df_train.iloc[:, 0]\n",
    "X_valid, y_valid = df_valid.iloc[:, 1:], df_valid.iloc[:, 0]\n",
    "X_test, y_test = df_test.iloc[:, 1:], df_test.iloc[:, 0]\n",
    "\n",
    "print('Shape of training inputs, training target:', X_train.shape, y_train.shape)\n",
    "print('Shape of validation inputs, validation target:', X_valid.shape, y_valid.shape)\n",
    "print('Shape of test inputs, test target:', X_test.shape, y_test.shape)"
   ]
  },
  {
   "cell_type": "code",
   "execution_count": 60,
   "metadata": {},
   "outputs": [],
   "source": [
    "# We will normalize our data in the range in the range (0.01, 0.99) before feeding it to the the neural network.\n",
    "from sklearn.preprocessing import MinMaxScaler\n",
    "\n",
    "Target_scaler = MinMaxScaler(feature_range=(0.01, 0.99))\n",
    "Feature_scaler = MinMaxScaler(feature_range=(0.01, 0.99))\n",
    "\n",
    "X_train_scaled = Feature_scaler.fit_transform(np.array(X_train))\n",
    "X_valid_scaled = Feature_scaler.fit_transform(np.array(X_valid))\n",
    "X_test_scaled = Feature_scaler.fit_transform(np.array(X_test))\n",
    "\n",
    "y_train_scaled = Target_scaler.fit_transform(np.array(y_train).reshape(-1,1))\n",
    "y_valid_scaled = Target_scaler.fit_transform(np.array(y_valid).reshape(-1,1))\n",
    "y_test_scaled = Target_scaler.fit_transform(np.array(y_test).reshape(-1,1))"
   ]
  },
  {
   "cell_type": "code",
   "execution_count": 61,
   "metadata": {},
   "outputs": [
    {
     "name": "stdout",
     "output_type": "stream",
     "text": [
      "Epoch 1/30\n",
      "12589/12589 [==============================] - 13s 990us/step - loss: 0.1659 - val_loss: 0.2378\n",
      "Epoch 2/30\n",
      "12589/12589 [==============================] - 12s 944us/step - loss: 0.1633 - val_loss: 0.2456\n",
      "Epoch 3/30\n",
      "12589/12589 [==============================] - 12s 914us/step - loss: 0.1627 - val_loss: 0.2359\n",
      "Epoch 4/30\n",
      "12589/12589 [==============================] - 11s 912us/step - loss: 0.1628 - val_loss: 0.2363\n",
      "Epoch 5/30\n",
      "12589/12589 [==============================] - 12s 915us/step - loss: 0.1626 - val_loss: 0.2412\n",
      "Epoch 6/30\n",
      "12589/12589 [==============================] - 12s 917us/step - loss: 0.1627 - val_loss: 0.2396\n",
      "Epoch 7/30\n",
      "12589/12589 [==============================] - 11s 906us/step - loss: 0.1626 - val_loss: 0.2374\n",
      "Epoch 8/30\n",
      "12589/12589 [==============================] - 12s 923us/step - loss: 0.1626 - val_loss: 0.2380\n",
      "Epoch 9/30\n",
      "12589/12589 [==============================] - 12s 967us/step - loss: 0.1627 - val_loss: 0.2392\n",
      "Epoch 10/30\n",
      "12589/12589 [==============================] - 12s 978us/step - loss: 0.1627 - val_loss: 0.2333\n",
      "Epoch 11/30\n",
      "12589/12589 [==============================] - 12s 947us/step - loss: 0.1626 - val_loss: 0.2357\n",
      "Epoch 12/30\n",
      "12589/12589 [==============================] - 12s 917us/step - loss: 0.1626 - val_loss: 0.2332\n",
      "Epoch 13/30\n",
      "12589/12589 [==============================] - 12s 976us/step - loss: 0.1626 - val_loss: 0.2419\n",
      "Epoch 14/30\n",
      "12589/12589 [==============================] - 12s 963us/step - loss: 0.1626 - val_loss: 0.2430\n",
      "Epoch 15/30\n",
      "12589/12589 [==============================] - 12s 980us/step - loss: 0.1626 - val_loss: 0.2387\n",
      "Epoch 16/30\n",
      "12589/12589 [==============================] - 12s 968us/step - loss: 0.1626 - val_loss: 0.2367\n",
      "Epoch 17/30\n",
      "12589/12589 [==============================] - 12s 960us/step - loss: 0.1626 - val_loss: 0.2362\n",
      "Epoch 18/30\n",
      "12589/12589 [==============================] - 13s 1ms/step - loss: 0.1627 - val_loss: 0.2323\n",
      "Epoch 19/30\n",
      "12589/12589 [==============================] - 13s 1ms/step - loss: 0.1626 - val_loss: 0.2390\n",
      "Epoch 20/30\n",
      "12589/12589 [==============================] - 13s 1ms/step - loss: 0.1626 - val_loss: 0.2349\n",
      "Epoch 21/30\n",
      "12589/12589 [==============================] - 13s 1ms/step - loss: 0.1626 - val_loss: 0.2356\n",
      "Epoch 22/30\n",
      "12589/12589 [==============================] - 12s 966us/step - loss: 0.1626 - val_loss: 0.2375\n",
      "Epoch 23/30\n",
      "12589/12589 [==============================] - 12s 926us/step - loss: 0.1626 - val_loss: 0.2358\n",
      "Epoch 24/30\n",
      "12589/12589 [==============================] - 12s 923us/step - loss: 0.1626 - val_loss: 0.2374\n",
      "Epoch 25/30\n",
      "12589/12589 [==============================] - 12s 946us/step - loss: 0.1626 - val_loss: 0.2407\n",
      "Epoch 26/30\n",
      "12589/12589 [==============================] - 12s 966us/step - loss: 0.1626 - val_loss: 0.2355\n",
      "Epoch 27/30\n",
      "12589/12589 [==============================] - 12s 987us/step - loss: 0.1627 - val_loss: 0.2345\n",
      "Epoch 28/30\n",
      "12589/12589 [==============================] - 12s 984us/step - loss: 0.1626 - val_loss: 0.2406\n",
      "Epoch 29/30\n",
      "12589/12589 [==============================] - 12s 988us/step - loss: 0.1626 - val_loss: 0.2333\n",
      "Epoch 30/30\n",
      "12589/12589 [==============================] - 13s 1ms/step - loss: 0.1626 - val_loss: 0.2390\n"
     ]
    },
    {
     "data": {
      "text/plain": [
       "<keras.callbacks.History at 0x2430b9505e0>"
      ]
     },
     "execution_count": 61,
     "metadata": {},
     "output_type": "execute_result"
    }
   ],
   "source": [
    "# training and validation\n",
    "model.fit(x=X_train_scaled, y=y_train_scaled, batch_size=5, epochs=30, verbose=1, validation_data=(X_valid_scaled, y_valid_scaled), shuffle=True)"
   ]
  },
  {
   "cell_type": "code",
   "execution_count": 62,
   "metadata": {},
   "outputs": [],
   "source": [
    "# do the prediction\n",
    "y_pred = model.predict(X_test_scaled)\n",
    "y_pred_rescaled = Target_scaler.inverse_transform(y_pred)"
   ]
  },
  {
   "cell_type": "code",
   "execution_count": 63,
   "metadata": {},
   "outputs": [
    {
     "name": "stdout",
     "output_type": "stream",
     "text": [
      "R-squared score for the test set: -0.4313\n"
     ]
    }
   ],
   "source": [
    "# find the R2 score\n",
    "from sklearn.metrics import r2_score\n",
    "y_test_rescaled =  Target_scaler.inverse_transform(y_test_scaled)\n",
    "score = r2_score(y_test_rescaled, y_pred_rescaled)\n",
    "print('R-squared score for the test set:', round(score,4))"
   ]
  },
  {
   "cell_type": "code",
   "execution_count": 64,
   "metadata": {},
   "outputs": [],
   "source": [
    "y_actual = pd.DataFrame(y_test_rescaled, columns=['Actual 8 hour period'])\n",
    "\n",
    "y_hat = pd.DataFrame(y_pred_rescaled, columns=['Predicted 8 hour period'])"
   ]
  },
  {
   "cell_type": "code",
   "execution_count": 65,
   "metadata": {},
   "outputs": [
    {
     "data": {
      "image/png": "[encoded data removed]",
      "text/plain": [
       "<Figure size 792x432 with 1 Axes>"
      ]
     },
     "metadata": {
      "needs_background": "light"
     },
     "output_type": "display_data"
    }
   ],
   "source": [
    "plt.figure(figsize=(11, 6))\n",
    "plt.plot(y_actual, linestyle='solid', color='r')\n",
    "plt.plot(y_hat, linestyle='dashed', color='b')\n",
    "\n",
    "plt.legend(['Actual','Predicted'], loc='best', prop={'size': 14})\n",
    "plt.title('8 hour period lan performance', weight='bold', fontsize=16)\n",
    "plt.ylabel('Period', weight='bold', fontsize=14)\n",
    "plt.xlabel('Test Set Period no.', weight='bold', fontsize=14)\n",
    "plt.xticks(weight='bold', fontsize=12, rotation=45)\n",
    "plt.yticks(weight='bold', fontsize=12)\n",
    "plt.grid(color = 'y', linewidth='0.5')\n",
    "plt.show()"
   ]
  },
  {
   "cell_type": "markdown",
   "metadata": {},
   "source": [
    "### Compare the results of the algorithms (comparison, conclusion, challenges...etc.)"
   ]
  },
  {
   "cell_type": "markdown",
   "metadata": {},
   "source": [
    "### Outcome of our analysis"
   ]
  }
 ],
 "metadata": {
  "interpreter": {
   "hash": "8de1bb01c2428b23fd1b239bce59c3de0408e0bcefc62ecc36a17fc4e3b0c588"
  },
  "kernelspec": {
   "display_name": "Python 3",
   "language": "python",
   "name": "python3"
  },
  "language_info": {
   "codemirror_mode": {
    "name": "ipython",
    "version": 3
   },
   "file_extension": ".py",
   "mimetype": "text/x-python",
   "name": "python",
   "nbconvert_exporter": "python",
   "pygments_lexer": "ipython3",
   "version": "3.8.5"
  }
 },
 "nbformat": 4,
 "nbformat_minor": 2
}
